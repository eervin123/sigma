{
 "cells": [
  {
   "cell_type": "code",
   "execution_count": null,
   "metadata": {},
   "outputs": [],
   "source": [
    "import vectorbtpro as vbt\n",
    "import numpy as np\n",
    "import pandas as pd"
   ]
  },
  {
   "cell_type": "code",
   "execution_count": null,
   "metadata": {},
   "outputs": [],
   "source": [
    "dollarbars = vbt.BinanceData.load('data/btc_90M_db_vbt.pkl')\n",
    "dollarbars.get() "
   ]
  },
  {
   "cell_type": "code",
   "execution_count": null,
   "metadata": {},
   "outputs": [],
   "source": [
    "pivotinfo = dollarbars.run(\"pivotinfo\", up_th=.20, down_th=0.20)"
   ]
  },
  {
   "cell_type": "code",
   "execution_count": null,
   "metadata": {},
   "outputs": [],
   "source": [
    "pivotinfo.conf_value\n"
   ]
  },
  {
   "cell_type": "code",
   "execution_count": null,
   "metadata": {},
   "outputs": [],
   "source": [
    "pivotinfo.pivots_readable"
   ]
  },
  {
   "cell_type": "code",
   "execution_count": null,
   "metadata": {},
   "outputs": [],
   "source": [
    "# conf_pivot: the type of the latest confirmed pivot (running)\n",
    "# conf_idx: the index of the latest confirmed pivot (running)\n",
    "# conf_value: the high/low value under the latest confirmed pivot (running)\n",
    "# last_pivot: the type of the latest pivot (running)\n",
    "# last_idx: the index of the latest pivot (running)\n",
    "# last_value: the high/low value under the latest pivot (running)\n",
    "# pivots: confirmed pivots stored under their indices (looking ahead - use only for plotting!)\n",
    "# modes: modes between confirmed pivot points (looking ahead - use only for plotting!)\n",
    "\n",
    "\n",
    "pivot_df = pd.DataFrame()\n",
    "pivot_df['close'] = dollarbars.close\n",
    "pivot_df['conf_pivot'] = pivotinfo.conf_pivot\n",
    "pivot_df['conf_idx'] = pivotinfo.conf_idx\n",
    "pivot_df['conf_value'] = pivotinfo.conf_value\n",
    "pivot_df['last_pivot'] = pivotinfo.last_pivot\n",
    "pivot_df['last_value'] = pivotinfo.last_value\n",
    "pivot_df['last_idx'] = pivotinfo.last_idx\n",
    "pivot_df['pivots'] = pivotinfo.pivots\n",
    "pivot_df['modes'] = pivotinfo.modes\n",
    "\n"
   ]
  },
  {
   "cell_type": "code",
   "execution_count": null,
   "metadata": {},
   "outputs": [],
   "source": [
    "pivot_df.loc['2021-01'].iloc[250:300]\n"
   ]
  },
  {
   "cell_type": "code",
   "execution_count": null,
   "metadata": {},
   "outputs": [],
   "source": [
    "pivot_df.head(10)"
   ]
  },
  {
   "cell_type": "code",
   "execution_count": null,
   "metadata": {},
   "outputs": [],
   "source": [
    "fig = dollarbars.loc['2021'].plot()\n",
    "pivot_info.loc['2021'].plot(fig=fig).show()"
   ]
  },
  {
   "cell_type": "code",
   "execution_count": null,
   "metadata": {},
   "outputs": [],
   "source": [
    "pivot_info"
   ]
  },
  {
   "cell_type": "code",
   "execution_count": null,
   "metadata": {},
   "outputs": [],
   "source": []
  }
 ],
 "metadata": {
  "kernelspec": {
   "display_name": "datascience",
   "language": "python",
   "name": "python3"
  },
  "language_info": {
   "codemirror_mode": {
    "name": "ipython",
    "version": 3
   },
   "file_extension": ".py",
   "mimetype": "text/x-python",
   "name": "python",
   "nbconvert_exporter": "python",
   "pygments_lexer": "ipython3",
   "version": "3.10.10"
  },
  "orig_nbformat": 4
 },
 "nbformat": 4,
 "nbformat_minor": 2
}
