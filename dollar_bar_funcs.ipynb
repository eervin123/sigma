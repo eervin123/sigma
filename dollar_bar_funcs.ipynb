{
 "cells": [
  {
   "cell_type": "code",
   "execution_count": null,
   "metadata": {},
   "outputs": [],
   "source": [
    "import pandas as pd\n",
    "import vectorbtpro as vbt\n"
   ]
  },
  {
   "cell_type": "code",
   "execution_count": null,
   "metadata": {},
   "outputs": [],
   "source": [
    "vbt.settings.plotting[\"layout\"][\"template\"] = \"vbt_dark\"\n",
    "vbt.settings.plotting[\"layout\"][\"width\"] = 1200\n",
    "vbt.settings.plotting['layout']['height'] = 200\n",
    "vbt.settings.wrapping[\"freq\"] = \"1m\"\n",
    "# vbt.settings.portfolio['size_granularity'] = 0.001\n",
    "vbt.settings.portfolio['init_cash'] = 10000\n",
    "\n",
    "# Wherever you saved the pickle file\n",
    "data_path = '/Users/ericervin/Documents/Coding/data-repository/data/BTCUSDT_1m.pkl'"
   ]
  },
  {
   "cell_type": "code",
   "execution_count": null,
   "metadata": {},
   "outputs": [],
   "source": [
    "# Read in the 1m BTC data from pickle\n",
    "data = vbt.BinanceData.load(data_path)\n",
    "btc_1m = data.get()\n",
    "futures_1m = pd.read_csv('BTCUSDT-1m-2023-01.csv', index_col=0, parse_dates=True)"
   ]
  },
  {
   "cell_type": "code",
   "execution_count": null,
   "metadata": {},
   "outputs": [],
   "source": [
    "# Change timestamp to datetime\n",
    "futures_1m.index = pd.to_datetime(futures_1m.index, unit='ms')"
   ]
  },
  {
   "cell_type": "code",
   "execution_count": null,
   "metadata": {},
   "outputs": [],
   "source": [
    "futures_1m"
   ]
  },
  {
   "cell_type": "code",
   "execution_count": null,
   "metadata": {},
   "outputs": [],
   "source": [
    "day = '2023-01-08'\n",
    "futures_1m.loc[day:'2023-01-09']['close'].vbt.plot().show()"
   ]
  },
  {
   "cell_type": "code",
   "execution_count": null,
   "metadata": {},
   "outputs": [],
   "source": [
    "def add_support_resistance(df: pd.DataFrame, \n",
    "                           Close_col: str = 'Close', \n",
    "                           stdev_lbw: str = '30D', \n",
    "                           low_sigma: int = 1, \n",
    "                           high_sigma: int = 6, \n",
    "                           sigma_step: int = 1) -> pd.DataFrame:\n",
    "    \n",
    "    # Calculate rolling 1D standard deviation of Close prices\n",
    "    std_dev = df[Close_col].rolling('1D').std()\n",
    "    # Take the stdev_lbw-day rolling average of the 1D standard deviations\n",
    "    df['avg_rolling_stddev'] = std_dev.rolling(stdev_lbw).mean()\n",
    "    df['fixed_daily_stddev'] = df['avg_rolling_stddev'].at_time('00:00')\n",
    "    df['fixed_daily_stddev'] = df['fixed_daily_stddev'].ffill()\n",
    "    df['open_line'] = df[Close_col].at_time('00:00')\n",
    "    df['open_line'] = df['open_line'].ffill()\n",
    "\n",
    "    for sigma in range(low_sigma, high_sigma+1, sigma_step):\n",
    "        df[f'daily_support_{sigma}'] = df['open_line'] - (df['fixed_daily_stddev'] * sigma)\n",
    "        df[f'daily_support_{sigma}'] = df[f'daily_support_{sigma}'].ffill()\n",
    "\n",
    "        df[f'daily_resistance_{sigma}'] = df['open_line'] + (df['fixed_daily_stddev'] * sigma)\n",
    "        df[f'daily_resistance_{sigma}'] = df[f'daily_resistance_{sigma}'].ffill()\n",
    "        \n",
    "    return df"
   ]
  },
  {
   "cell_type": "code",
   "execution_count": null,
   "metadata": {},
   "outputs": [],
   "source": [
    "futures_w_sigmas = add_support_resistance(futures_1m, Close_col='close', stdev_lbw='30D', low_sigma=1, high_sigma=6, sigma_step=1)"
   ]
  },
  {
   "cell_type": "code",
   "execution_count": null,
   "metadata": {},
   "outputs": [],
   "source": [
    "futures_w_sigmas.loc[day:'2023-01-09'][['close','open_line', 'daily_support_1', 'daily_resistance_1', 'daily_support_3', 'daily_resistance_3']].vbt.plot().show()"
   ]
  },
  {
   "attachments": {},
   "cell_type": "markdown",
   "metadata": {},
   "source": [
    "## Create Functions "
   ]
  },
  {
   "attachments": {},
   "cell_type": "markdown",
   "metadata": {},
   "source": [
    "The the next functions create dollar bars so you can manipulate and work with them and then the last function reverses that so you can merge the dollar bars back into a different time resolution."
   ]
  },
  {
   "cell_type": "code",
   "execution_count": null,
   "metadata": {},
   "outputs": [],
   "source": [
    "import pandas as pd\n",
    "\n",
    "def dollar_bar_func(ohlc_df, dollar_bar_size):\n",
    "    # Calculate dollar value traded for each row\n",
    "    ohlc_df['DollarValue'] = ohlc_df['Close'] * ohlc_df['Volume']\n",
    "    \n",
    "    # Calculate cumulative dollar value\n",
    "    ohlc_df['CumulativeDollarValue'] = ohlc_df['DollarValue'].cumsum()\n",
    "    \n",
    "    # Determine the number of dollar bars\n",
    "    num_bars = int(ohlc_df['CumulativeDollarValue'].iloc[-1] / dollar_bar_size)\n",
    "    \n",
    "    # Generate index positions for dollar bars\n",
    "    bar_indices = [0]\n",
    "    cumulative_value = 0\n",
    "    for i in range(1, len(ohlc_df)):\n",
    "        cumulative_value += ohlc_df['DollarValue'].iloc[i]\n",
    "        if cumulative_value >= dollar_bar_size:\n",
    "            bar_indices.append(i)\n",
    "            cumulative_value = 0\n",
    "    \n",
    "    # Create a new dataframe with dollar bars\n",
    "    dollar_bars = []\n",
    "    for i in range(len(bar_indices) - 1):\n",
    "        start_idx = bar_indices[i]\n",
    "        end_idx = bar_indices[i + 1]\n",
    "        \n",
    "        dollar_bar = {\n",
    "            'Open': ohlc_df['Open'].iloc[start_idx],\n",
    "            'High': ohlc_df['High'].iloc[start_idx:end_idx].max(),\n",
    "            'Low': ohlc_df['Low'].iloc[start_idx:end_idx].min(),\n",
    "            'Close': ohlc_df['Close'].iloc[end_idx-1],\n",
    "            'Volume': ohlc_df['Volume'].iloc[start_idx:end_idx].sum(),\n",
    "            'Quote volume': ohlc_df['Quote volume'].iloc[start_idx:end_idx].sum(),\n",
    "            'Trade count': ohlc_df['Trade count'].iloc[start_idx:end_idx].sum(),\n",
    "            'Taker base volume': ohlc_df['Taker base volume'].iloc[start_idx:end_idx].sum(),\n",
    "            'Taker quote volume': ohlc_df['Taker quote volume'].iloc[start_idx:end_idx].sum()\n",
    "        }\n",
    "        \n",
    "        if isinstance(ohlc_df.index, pd.DatetimeIndex):\n",
    "            dollar_bar['Open Time'] = ohlc_df.index[start_idx]\n",
    "            dollar_bar['Close Time'] = ohlc_df.index[end_idx-1] - pd.Timedelta(milliseconds=1)\n",
    "        elif 'Open Time' in ohlc_df.columns:\n",
    "            dollar_bar['Open Time'] = ohlc_df['Open Time'].iloc[start_idx]\n",
    "            dollar_bar['Close Time'] = ohlc_df['Open Time'].iloc[end_idx-1] - pd.Timedelta(milliseconds=1)\n",
    "        \n",
    "        dollar_bars.append(dollar_bar)\n",
    "    \n",
    "    dollar_bars_df = pd.concat([pd.DataFrame([bar]) for bar in dollar_bars], ignore_index=True)\n",
    "    \n",
    "    return dollar_bars_df\n",
    "\n",
    "# Create a simple function to simplify the number so we can use it in our column names\n",
    "def simplify_number(num):\n",
    "    \"\"\"\n",
    "    Simplifies a large number by converting it to a shorter representation with a suffix (K, M, B).\n",
    "    simplify_number(1000) -> 1K\n",
    "    \"\"\"\n",
    "    suffixes = ['', 'K', 'M', 'B']\n",
    "    suffix_index = 0\n",
    "\n",
    "    while abs(num) >= 1000 and suffix_index < len(suffixes) - 1:\n",
    "        num /= 1000.0\n",
    "        suffix_index += 1\n",
    "\n",
    "    suffix = suffixes[suffix_index] if suffix_index > 0 else ''\n",
    "    simplified_num = f'{int(num)}{suffix}'\n",
    "\n",
    "    return simplified_num\n",
    "\n",
    "def merge_and_fill_dollar_bars(original_df, dollar_bars_df, dollar_bar_size):\n",
    "    # Add prefix to column names in dollar bars dataframe\n",
    "    dollar_bar_prefix = f'db_{simplify_number(dollar_bar_size)}_'\n",
    "    dollar_bars_df_renamed = dollar_bars_df.add_prefix(dollar_bar_prefix)\n",
    "\n",
    "    # Convert 'Open Time' columns to pandas datetime format and set them as index\n",
    "    dollar_bars_df_renamed.index = pd.to_datetime(dollar_bars_df_renamed[dollar_bar_prefix + 'Open Time'])\n",
    "\n",
    "    # Merge the dataframes on the index\n",
    "    merged_df = original_df.merge(dollar_bars_df_renamed, how='left', left_index=True, right_index=True)\n",
    "\n",
    "    # Set the flag for a new dollar bar with prefix\n",
    "    merged_df[dollar_bar_prefix + 'NewDBFlag'] = ~merged_df[dollar_bar_prefix + 'Close'].isna()\n",
    "\n",
    "    # Forward fill the NaN values for all columns except the new dollar bar flag\n",
    "    columns_to_ffill = [col for col in merged_df.columns if col != dollar_bar_prefix + 'NewDBFlag']\n",
    "    merged_df[columns_to_ffill] = merged_df[columns_to_ffill].fillna(method='ffill')\n",
    "\n",
    "    # Fill the remaining NaN values in the new dollar bar flag column with False\n",
    "    merged_df[dollar_bar_prefix + 'NewDBFlag'] = merged_df[dollar_bar_prefix + 'NewDBFlag'].fillna(False)\n",
    "    \n",
    "    # Assign the renamed 'Open Time' column back to the dataframe\n",
    "    merged_df[dollar_bar_prefix + 'Open Time'] = merged_df[dollar_bar_prefix + 'Open Time']\n",
    "\n",
    "    return merged_df\n",
    "\n",
    "\n",
    "\n"
   ]
  },
  {
   "attachments": {},
   "cell_type": "markdown",
   "metadata": {},
   "source": [
    "# Create dollar bars"
   ]
  },
  {
   "cell_type": "code",
   "execution_count": null,
   "metadata": {},
   "outputs": [],
   "source": [
    "dollar_bar_size = 90_000_000\n",
    "btc_dollar_bars = dollar_bar_func(futures_1m, dollar_bar_size=dollar_bar_size)\n",
    "btc_dollar_bars.shape"
   ]
  },
  {
   "attachments": {},
   "cell_type": "markdown",
   "metadata": {},
   "source": [
    "Add a bunch of technical indicators In this case I'm adding all of the \"momentum\" indicators from pandas ta library"
   ]
  },
  {
   "cell_type": "code",
   "execution_count": null,
   "metadata": {},
   "outputs": [],
   "source": [
    "import pandas_ta as ta\n",
    "# Append all of the different indicators in the talib library to the dollarbar dataframe.\n",
    "btc_dollar_bars.ta.strategy(ta.Strategy(\"Momentum\"), append=True)"
   ]
  },
  {
   "cell_type": "code",
   "execution_count": null,
   "metadata": {},
   "outputs": [],
   "source": [
    "btc_dollar_bars.columns"
   ]
  },
  {
   "attachments": {},
   "cell_type": "markdown",
   "metadata": {},
   "source": [
    "Now recreate the original dataframe with 1 minute candles but all of the indicators built on dollar bars. the values will be forward filled to prevent any data leakage."
   ]
  },
  {
   "cell_type": "code",
   "execution_count": null,
   "metadata": {},
   "outputs": [],
   "source": [
    "# now merge the two dataframes\n",
    "btc_1m_with_dollar_bars = merge_and_fill_dollar_bars(btc_1m, btc_dollar_bars, dollar_bar_size=dollar_bar_size)"
   ]
  },
  {
   "attachments": {},
   "cell_type": "markdown",
   "metadata": {},
   "source": [
    "Print the columns to make sure it worked. Note the `db_` prefix "
   ]
  },
  {
   "cell_type": "code",
   "execution_count": null,
   "metadata": {},
   "outputs": [],
   "source": [
    "btc_1m_with_dollar_bars.columns"
   ]
  },
  {
   "attachments": {},
   "cell_type": "markdown",
   "metadata": {},
   "source": [
    "Check the shape of the frames to make sure they make sense"
   ]
  },
  {
   "cell_type": "code",
   "execution_count": null,
   "metadata": {},
   "outputs": [],
   "source": [
    "\n",
    "\n",
    "print(btc_1m.shape) # Original 1 minute price dataframe\n",
    "print(btc_dollar_bars.shape) # Dollar bars dataframe\n",
    "print(btc_1m_with_dollar_bars.shape) # Merged dataframe\n",
    "print(btc_1m_with_dollar_bars['db_30M_NewDBFlag'].sum()) # Number of dollar bars in merged dataframe"
   ]
  },
  {
   "cell_type": "code",
   "execution_count": null,
   "metadata": {},
   "outputs": [],
   "source": [
    "# Now do this with 90 million dollar bars and append them to the frame as well\n",
    "dollar_bar_size = 90_000_000\n",
    "btc_dollar_bars = dollar_bar_func(btc_1m, dollar_bar_size=dollar_bar_size)\n",
    "btc_dollar_bars.ta.strategy(ta.Strategy(\"Momentum\"), append=True)\n",
    "btc_dollar_bars.shape"
   ]
  },
  {
   "cell_type": "code",
   "execution_count": null,
   "metadata": {},
   "outputs": [],
   "source": [
    "# Merge the two dataframes\n",
    "btc_1m_with_dollar_bars = merge_and_fill_dollar_bars(btc_1m_with_dollar_bars, btc_dollar_bars, dollar_bar_size=dollar_bar_size)\n"
   ]
  },
  {
   "cell_type": "code",
   "execution_count": null,
   "metadata": {},
   "outputs": [],
   "source": [
    "print(btc_1m.shape) # Original 1 minute price dataframe\n",
    "print(btc_dollar_bars.shape) # Dollar bars dataframe\n",
    "print(btc_1m_with_dollar_bars.shape) # Merged dataframe\n",
    "print(btc_1m_with_dollar_bars['db_30M_NewDBFlag'].sum()) # Number of 30M dollar bars in merged dataframe\n",
    "print(btc_1m_with_dollar_bars['db_90M_NewDBFlag'].sum()) # Number of 90M dollar bars in merged dataframe"
   ]
  },
  {
   "cell_type": "code",
   "execution_count": null,
   "metadata": {},
   "outputs": [],
   "source": [
    "btc_1m_with_dollar_bars.loc['2021-05-19':'2021-05-20'][['db_90M_Close','db_30M_Close']].plot(figsize=(20, 10), title='BTC/USDT Dollar Bars')"
   ]
  },
  {
   "cell_type": "code",
   "execution_count": null,
   "metadata": {},
   "outputs": [],
   "source": [
    "btc_1m_with_dollar_bars.columns.to_list()"
   ]
  },
  {
   "cell_type": "code",
   "execution_count": null,
   "metadata": {},
   "outputs": [],
   "source": [
    "# Plot the 'STOCHd_14_3_3'\n",
    "start = '2021-05-19'\n",
    "end = '2021-05-20'\n",
    "btc_1m_with_dollar_bars.loc[start][['db_90M_STOCHd_14_3_3','db_90M_STOCHk_14_3_3','db_30M_STOCHd_14_3_3','db_30M_STOCHk_14_3_3']].plot(figsize=(18, 5), title='BTC/USDT 90M STOCHd_14_3_3')\n",
    "# Plot the price\n",
    "btc_1m_with_dollar_bars.loc[start:end][['db_90M_Close','db_30M_Close']].plot(figsize=(18, 5), title='BTC/USDT 30M and 90M Close')"
   ]
  },
  {
   "cell_type": "code",
   "execution_count": null,
   "metadata": {},
   "outputs": [],
   "source": [
    "# Calculate the bar run how many up bars +1 and how many down bars -1 sums them up\n",
    "def calculate_up_down_bar_series(series, window=None): # window is the rolling window None means use the entire series\n",
    "    # Calculate the difference between current and previous bar\n",
    "    diff = series.diff()\n",
    "\n",
    "    # Map the difference to -1, 0, or 1\n",
    "    up_down_bar_series = diff.apply(lambda x: -1 if x < 0 else (1 if x > 0 else 0))\n",
    "\n",
    "    # Calculate the cumulative sum or the rolling sum based on the window value\n",
    "    if window is None:\n",
    "        up_down_bar_series = up_down_bar_series.cumsum()\n",
    "    else:\n",
    "        up_down_bar_series = up_down_bar_series.rolling(window).sum()\n",
    "\n",
    "    return up_down_bar_series"
   ]
  },
  {
   "cell_type": "code",
   "execution_count": null,
   "metadata": {},
   "outputs": [],
   "source": [
    "# Calculate the bar run series for 30M and 90M dollar bars\n",
    "bar_run_90M = calculate_up_down_bar_series(btc_1m_with_dollar_bars['db_90M_Close'], window=None)\n",
    "bar_run_30M = calculate_up_down_bar_series(btc_1m_with_dollar_bars['db_30M_Close'], window=None)\n",
    "bar_run_1min_close = calculate_up_down_bar_series(btc_1m_with_dollar_bars['Close'], window=None)\n",
    "print(f'The high for the price of BTC over this period was ${btc_1m_with_dollar_bars[\"Close\"].max():,.2f}')\n",
    "print(f'The low for the price of BTC over this period was ${btc_1m_with_dollar_bars[\"Close\"].min():,.2f}')\n",
    "print(f'The start date was {btc_1m_with_dollar_bars.index.min()}, the end date was {btc_1m_with_dollar_bars.index.max()}')\n",
    "print(f'The following table describes the bar run for 30M and 90M dollar bars and the 1 minute close')\n",
    "# Concat the statistics into a dataframe for easy viewing\n",
    "pd.set_option('display.float_format', lambda x: '%.0f' % x)\n",
    "bar_run_stats = pd.concat([bar_run_90M.describe(), bar_run_30M.describe(), bar_run_1min_close.describe()], axis=1)\n",
    "bar_run_stats.columns = ['90M', '30M', '1M']\n",
    "bar_run_stats\n"
   ]
  },
  {
   "cell_type": "code",
   "execution_count": null,
   "metadata": {},
   "outputs": [],
   "source": [
    "# Plot a histogram\n",
    "# bar_run_90M.hist(bins=100, figsize=(18, 5))\n",
    "btc_1m_with_dollar_bars['db_90M_Close'].plot(figsize=(18, 5), label='BTC/USDT 90M Close', legend=True)\n",
    "bar_run_90M.plot(figsize=(18, 5), label='BTC/USDT 90M Bar Run', secondary_y=True, legend=True)\n",
    "bar_run_30M.plot(figsize=(18, 5), title='BTC/USDT Bar Run', label='BTC/USDT 30M Bar Run', secondary_y=True, legend=True)\n",
    "bar_run_1min_close.plot(figsize=(18, 5), label='BTC/USDT 1M Bar Run', secondary_y=True, legend=True)"
   ]
  },
  {
   "attachments": {},
   "cell_type": "markdown",
   "metadata": {},
   "source": [
    "This is pretty informative. Look at the average minute bar run it is -2970 means we spent on average over this whole timeframe with a negative 3000 as our minute bar count. But when you look at the dollar bar run counts they averaged positive numbers. "
   ]
  },
  {
   "cell_type": "code",
   "execution_count": null,
   "metadata": {},
   "outputs": [],
   "source": [
    "# Let's look at rolling bar runs\n",
    "# Calculate the bar run series for 30M and 90M dollar bars\n",
    "bar_run_90M = calculate_up_down_bar_series(btc_1m_with_dollar_bars['db_90M_Close'], window=1440*7) # Rolling 7 day window\n",
    "bar_run_30M = calculate_up_down_bar_series(btc_1m_with_dollar_bars['db_30M_Close'], window=1440*7) # Rolling 7 day window\n",
    "bar_run_1min_close = calculate_up_down_bar_series(btc_1m_with_dollar_bars['Close'], window=1440*7) # Rolling 7 day window\n",
    "print(f'The high for the price of BTC over this period was ${btc_1m_with_dollar_bars[\"Close\"].max():,.2f}')\n",
    "print(f'The low for the price of BTC over this period was ${btc_1m_with_dollar_bars[\"Close\"].min():,.2f}')\n",
    "print(f'The start date was {btc_1m_with_dollar_bars.index.min()}, the end date was {btc_1m_with_dollar_bars.index.max()}')\n",
    "print(f'The following table describes the bar run for 30M and 90M dollar bars and the 1 minute close')\n",
    "# Concat the statistics into a dataframe for easy viewing\n",
    "pd.set_option('display.float_format', lambda x: '%.0f' % x)\n",
    "bar_run_stats = pd.concat([bar_run_90M.describe(), bar_run_30M.describe(), bar_run_1min_close.describe()], axis=1)\n",
    "bar_run_stats.columns = ['90M', '30M', '1M']\n",
    "bar_run_stats\n"
   ]
  },
  {
   "cell_type": "code",
   "execution_count": null,
   "metadata": {},
   "outputs": [],
   "source": [
    "# Plot the rolling bar runs\n",
    "btc_1m_with_dollar_bars['db_90M_Close'].plot(figsize=(18, 5), label='BTC/USDT 90M Close', legend=True)\n",
    "bar_run_90M.plot(figsize=(18, 5), label='BTC/USDT 90M Bar Run', secondary_y=True, legend=True)\n",
    "bar_run_30M.plot(figsize=(18, 5), title='BTC/USDT Bar Run', label='BTC/USDT 30M Bar Run', secondary_y=True, legend=True)\n",
    "bar_run_1min_close.plot(figsize=(18, 5), label='BTC/USDT 1M Bar Run', secondary_y=True, legend=True)"
   ]
  },
  {
   "cell_type": "code",
   "execution_count": null,
   "metadata": {},
   "outputs": [],
   "source": [
    "# Use vectorbt to plot these bar runs for interctive plots\n",
    "\n",
    "import plotly.graph_objs as go\n",
    "resample_period = '1D'\n",
    "\n",
    "# Initialize a figure\n",
    "fig = go.Figure()\n",
    "\n",
    "# Add the first trace to the figure, plotted on the left y-axis\n",
    "fig.add_trace(go.Scatter(x=btc_1m_with_dollar_bars.index.resample(resample_period).last(), \n",
    "                         y=btc_1m_with_dollar_bars.resample(resample_period)['db_90M_Close'].last(), \n",
    "                         mode='lines', \n",
    "                         name='db_90M_Close'))\n",
    "\n",
    "# Add the second trace to the figure, plotted on the right y-axis\n",
    "fig.add_trace(go.Scatter(x=bar_run_90M.index.resample(resample_period).last(), \n",
    "                         y=bar_run_90M.resample(resample_period).last(), \n",
    "                         mode='lines', \n",
    "                         name='bar_run_90M',\n",
    "                         yaxis='y2'))\n",
    "\n",
    "# Add the third trace to the figure, also plotted on the right y-axis\n",
    "fig.add_trace(go.Scatter(x=bar_run_30M.index.resample(resample_period).last(), \n",
    "                         y=bar_run_30M.resample(resample_period).last(), \n",
    "                         mode='lines', \n",
    "                         name='bar_run_30M',\n",
    "                         yaxis='y2'))\n",
    "\n",
    "# Add the fourth trace to the figure, also plotted on the right y-axis\n",
    "fig.add_trace(go.Scatter(x=bar_run_1min_close.index.resample(resample_period).last(), \n",
    "                         y=bar_run_1min_close.resample(resample_period).last(), \n",
    "                         mode='lines', \n",
    "                         name='bar_run_1min_close',\n",
    "                         yaxis='y2'))\n",
    "\n",
    "# Update the layout to add a second y-axis to the right of the plot\n",
    "fig.update_layout(\n",
    "    yaxis=dict(title='db_90M_Close'),\n",
    "    yaxis2=dict(title='Runs', \n",
    "                overlaying='y', \n",
    "                side='right'))\n",
    "\n",
    "fig.show()\n",
    "\n",
    "\n"
   ]
  },
  {
   "cell_type": "code",
   "execution_count": null,
   "metadata": {},
   "outputs": [],
   "source": [
    "pd.reset_option('display.float_format')"
   ]
  },
  {
   "cell_type": "code",
   "execution_count": null,
   "metadata": {},
   "outputs": [],
   "source": [
    "# Get the last item in the series\n",
    "bar_run_series[-1]"
   ]
  },
  {
   "cell_type": "code",
   "execution_count": null,
   "metadata": {},
   "outputs": [],
   "source": []
  }
 ],
 "metadata": {
  "kernelspec": {
   "display_name": "datascience",
   "language": "python",
   "name": "python3"
  },
  "language_info": {
   "codemirror_mode": {
    "name": "ipython",
    "version": 3
   },
   "file_extension": ".py",
   "mimetype": "text/x-python",
   "name": "python",
   "nbconvert_exporter": "python",
   "pygments_lexer": "ipython3",
   "version": "3.10.10"
  },
  "orig_nbformat": 4
 },
 "nbformat": 4,
 "nbformat_minor": 2
}
