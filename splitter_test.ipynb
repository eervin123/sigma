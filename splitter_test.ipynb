{
 "cells": [
  {
   "cell_type": "code",
   "execution_count": null,
   "metadata": {},
   "outputs": [],
   "source": [
    "import vectorbtpro as vbt\n",
    "import pandas as pd\n",
    "import numpy as np\n",
    "import warnings\n",
    "warnings.filterwarnings('ignore')\n",
    "index = np.arange(1, 1000, 1)\n",
    "\n",
    "total_size = 110\n",
    "split_size = 80\n",
    "gap_size = 10\n",
    "test_size = total_size - split_size - gap_size\n",
    "shift_size_for_offset = -(split_size - test_size)\n",
    "print(f'shift_size_for_offset: {shift_size_for_offset}')\n",
    "\n",
    "splitter = vbt.Splitter.from_rolling(\n",
    "    index,\n",
    "    length=total_size, \n",
    "    split=(split_size, vbt.RelRange(length=gap_size, is_gap=True), 1.0),\n",
    "    offset = shift_size_for_offset # 80 is the length of the first split, 10 is the length of the gap\n",
    ")\n",
    "splitter.plot().show()"
   ]
  },
  {
   "cell_type": "code",
   "execution_count": null,
   "metadata": {},
   "outputs": [],
   "source": [
    "import vectorbtpro as vbt\n",
    "import pandas as pd\n",
    "import numpy as np\n",
    "import warnings\n",
    "warnings.filterwarnings('ignore')\n",
    "index = np.arange(1, 1000, 1)\n",
    "\n",
    "cv = vbt.SKLSplitter(\"from_expanding\", \n",
    "                     min_length=600,\n",
    "                    #  split=(-20, vbt.RelRange(length=gap, is_gap=True), 1.0),\n",
    "                     split=-200,\n",
    "                     offset=200,\n",
    "                     set_labels=['train', 'test'])\n",
    "cv_splitter = cv.get_splitter(index)\n",
    "cv_splitter.plot().show()"
   ]
  }
 ],
 "metadata": {
  "kernelspec": {
   "display_name": "datascience",
   "language": "python",
   "name": "python3"
  },
  "language_info": {
   "codemirror_mode": {
    "name": "ipython",
    "version": 3
   },
   "file_extension": ".py",
   "mimetype": "text/x-python",
   "name": "python",
   "nbconvert_exporter": "python",
   "pygments_lexer": "ipython3",
   "version": "3.10.10"
  },
  "orig_nbformat": 4
 },
 "nbformat": 4,
 "nbformat_minor": 2
}
