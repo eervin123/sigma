{
 "cells": [
  {
   "cell_type": "code",
   "execution_count": null,
   "metadata": {},
   "outputs": [],
   "source": [
    "import vectorbtpro as vbt\n",
    "import pandas as pd\n",
    "import numpy as np\n",
    "import warnings\n",
    "warnings.filterwarnings('ignore')\n",
    "index = np.arange(1, 1000, 1)\n",
    "\n",
    "total_size = 110\n",
    "split_size = 80\n",
    "gap_size = 10\n",
    "test_size = total_size - split_size - gap_size\n",
    "shift_size_for_offset = -(split_size - test_size)\n",
    "print(f'shift_size_for_offset: {shift_size_for_offset}')\n",
    "\n",
    "splitter = vbt.Splitter.from_rolling(\n",
    "    index,\n",
    "    length=total_size, \n",
    "    split=(split_size, vbt.RelRange(length=gap_size, is_gap=True), 1.0),\n",
    "    offset = shift_size_for_offset # 80 is the length of the first split, 10 is the length of the gap\n",
    ")\n",
    "splitter.plot().show_svg()"
   ]
  },
  {
   "cell_type": "code",
   "execution_count": null,
   "metadata": {},
   "outputs": [],
   "source": [
    "splitter = vbt.Splitter.from_expanding(\n",
    "    index,\n",
    "    min_length=110,\n",
    "    offset=10,\n",
    "    split=(1.0, vbt.RelRange(length=10, is_gap=True), 10),\n",
    "    split_range_kwargs=dict(backwards=True)\n",
    ")\n",
    "\n",
    "splitter.plot().show()"
   ]
  },
  {
   "cell_type": "code",
   "execution_count": null,
   "metadata": {},
   "outputs": [],
   "source": [
    "import vectorbtpro as vbt\n",
    "import pandas as pd\n",
    "import numpy as np\n",
    "import warnings\n",
    "warnings.filterwarnings('ignore')\n",
    "index = np.arange(1, 1000, 1)\n",
    "\n",
    "cv = vbt.SKLSplitter(\"from_expanding\", \n",
    "                    min_length=400,\n",
    "                    offset=50,\n",
    "                    split=(1.0, vbt.RelRange(length=10, is_gap=True), 50),\n",
    "                    split_range_kwargs=dict(backwards=True),\n",
    "                    set_labels=['train', 'test'])\n",
    "cv_splitter = cv.get_splitter(index)\n",
    "cv_splitter.plot().show()"
   ]
  },
  {
   "cell_type": "code",
   "execution_count": null,
   "metadata": {},
   "outputs": [],
   "source": [
    "def create_cv_with_gap(X, min_length=600, test_amount=200, gap = 150, set_labels=[\"train\", \"test\"]):\n",
    "    \"\"\"\n",
    "    Create a cross-validation splitter.\n",
    "\n",
    "    Parameters:\n",
    "    X (DataFrame): The feature matrix.\n",
    "    min_length (int): The minimum length of a sample for cross-validation.\n",
    "    offset (int): The offset used in cross-validation splitting.\n",
    "    split (int): Index at which to split the data in cross-validation.\n",
    "    set_labels (list): Labels for the train and test sets in cross-validation.\n",
    "\n",
    "    Returns:\n",
    "    cv_splitter (SKLSplitter): The cross-validation splits created from cv.get_splitter(X).\n",
    "    cv (SKLSplitter): The cross-validation object.\n",
    "    \"\"\"\n",
    "\n",
    "    # Cross-validate Creates a cross-validation object with all the indexes for each cv split\n",
    "    cv = vbt.SKLSplitter(\"from_expanding\", \n",
    "                         min_length=min_length, \n",
    "                         offset=test_amount, \n",
    "                         split=(1.0, vbt.RelRange(length=gap, is_gap=True), test_amount), \n",
    "                         set_labels=set_labels,\n",
    "                         split_range_kwargs=dict(backwards=True)\n",
    "                         )\n",
    "    cv_splitter = cv.get_splitter(X)\n",
    "    \n",
    "    return cv_splitter, cv\n",
    "\n"
   ]
  },
  {
   "cell_type": "code",
   "execution_count": null,
   "metadata": {},
   "outputs": [],
   "source": [
    "# Establish the training and testing sets for cross validation\n",
    "windowsize = 400\n",
    "test_amount = 100\n",
    "gap = periods_future =150\n",
    "\n",
    "cv_splitter, cv = create_cv_with_gap(index, min_length=windowsize, test_amount=test_amount, gap=periods_future, set_labels=[\"train\", \"test\"])\n",
    "\n",
    "cv_splitter.plot().show()\n"
   ]
  }
 ],
 "metadata": {
  "kernelspec": {
   "display_name": "datascience",
   "language": "python",
   "name": "python3"
  },
  "language_info": {
   "codemirror_mode": {
    "name": "ipython",
    "version": 3
   },
   "file_extension": ".py",
   "mimetype": "text/x-python",
   "name": "python",
   "nbconvert_exporter": "python",
   "pygments_lexer": "ipython3",
   "version": "3.10.12"
  },
  "orig_nbformat": 4
 },
 "nbformat": 4,
 "nbformat_minor": 2
}
