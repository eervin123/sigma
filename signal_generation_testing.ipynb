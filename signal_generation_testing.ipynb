{
 "cells": [
  {
   "cell_type": "code",
   "execution_count": null,
   "metadata": {},
   "outputs": [],
   "source": [
    "import numpy as np\n",
    "import pandas as pd\n",
    "from numba import njit\n",
    "import vectorbtpro as vbt\n",
    "vbt.settings.set_theme(\"dark\")\n",
    "vbt.settings.plotting[\"layout\"][\"width\"] = 800\n",
    "vbt.settings.plotting['layout']['height'] = 200\n",
    "import warnings\n",
    "warnings.filterwarnings(\"ignore\")\n",
    "\n",
    "import pandas_ta as ta"
   ]
  },
  {
   "cell_type": "code",
   "execution_count": null,
   "metadata": {},
   "outputs": [],
   "source": [
    "btc_90M_db_vbt = vbt.BinanceData.load('data/btc_90M_db_vbt.pkl')\n",
    "\n",
    "data = btc_90M_db_vbt['2021-01-01':'2023-01-01']\n",
    "outofsample_data = btc_90M_db_vbt['2023-01-01':'2023-06-03']\n",
    "print(data.shape)\n",
    "print(outofsample_data.shape)\n",
    "# Wherever you saved the pickle file\n",
    "data_path = '/Users/ericervin/Documents/Coding/data-repository/data/fixed_BTCUSDT.csv'\n",
    "min_data = vbt.BinanceData.from_csv(data_path)\n",
    "print(min_data.shape)"
   ]
  },
  {
   "cell_type": "markdown",
   "metadata": {},
   "source": [
    "# Example of building a simple portfolio sim in VBT\n",
    "In the following cell we create an entries array and short_entries array then pass the ohlc and some stop paramaters"
   ]
  },
  {
   "cell_type": "code",
   "execution_count": null,
   "metadata": {},
   "outputs": [],
   "source": [
    "date_range = slice('2019', '2023-09-30') # Create a simple date range can use YYYY-MM-DD or YYYY-MM or YYYY\n",
    "\n",
    "short_entries = min_data.index.to_series().dt.time == (pd.to_datetime('00:00').time()) # Simple Short Entry Signal at midnight every day\n",
    "entries = min_data.index.to_series().dt.time == (pd.to_datetime('00:00').time() or pd.to_datetime('12:00').time()) # Simple Entry Signal at midnight and noon every day \n",
    "\n",
    "test_pf = vbt.Portfolio.from_signals(\n",
    "    close               =min_data.loc[date_range].close,\n",
    "    open                =min_data.loc[date_range].open,\n",
    "    high                =min_data.loc[date_range].high,\n",
    "    low                 =min_data.loc[date_range].low,\n",
    "    # entries             =entries.loc[date_range], # Can comment this out if you want short only and vice versa or run them both\n",
    "    short_entries       =short_entries.loc[date_range],\n",
    "    tsl_th              =0.005, # Take Profit Treshold to start a trailing stop loss\n",
    "    tsl_stop            =0.0015, # Trailing Stop Loss if tsl_th is reached\n",
    "    sl_stop             =0.03, # Good old fashioned stop loss\n",
    "    td_stop             =1440*0.25, # Time delta stop in minutes\n",
    "    time_delta_format        ='rows', # Tells it what format, rows or index\n",
    "    # fees                =0.00035,\n",
    ")\n",
    "print(test_pf.stats())"
   ]
  },
  {
   "cell_type": "markdown",
   "metadata": {},
   "source": [
    "# Add some features"
   ]
  },
  {
   "cell_type": "code",
   "execution_count": null,
   "metadata": {},
   "outputs": [],
   "source": [
    "vbt.phelp(vbt.SUPERTREND.run)\n",
    "vbt.phelp(vbt.MACD.run)\n",
    "vbt.phelp(vbt.ATR.run)\n",
    "vbt.phelp(vbt.RSI.run)\n",
    "# vbt.phelp(vbt.ADX.run)"
   ]
  },
  {
   "cell_type": "code",
   "execution_count": null,
   "metadata": {},
   "outputs": [],
   "source": [
    "macd = vbt.MACD.run(min_data.close, fast_window=12*1440, slow_window=26*1440, signal_window=9*1440)"
   ]
  },
  {
   "cell_type": "code",
   "execution_count": null,
   "metadata": {},
   "outputs": [],
   "source": [
    "date_range = slice('2020-01-01', '2020-01-31')\n",
    "\n",
    "macd[date_range].plot().show()\n"
   ]
  },
  {
   "cell_type": "code",
   "execution_count": null,
   "metadata": {},
   "outputs": [],
   "source": [
    "date_range = slice('2019', '2023-09-30') # Create a simple date range can use YYYY-MM-DD or YYYY-MM or YYYY\n",
    "\n",
    "fast_window         = 12*1440\n",
    "slow_window         = 26*1440\n",
    "signal_window       = 12*1440\n",
    "\n",
    "macd = vbt.MACD.run(min_data.close, fast_window=fast_window, slow_window=slow_window, signal_window=signal_window)\n",
    "\n",
    "short_entries   = np.where(macd[date_range].macd < macd[date_range].signal, True, False) # short when macd is below signal\n",
    "entries         = np.where(macd[date_range].macd > macd[date_range].signal, True, False) # enter when macd is above signal\n",
    "test_pf = vbt.Portfolio.from_signals(\n",
    "    close               =min_data.loc[date_range].close,\n",
    "    open                =min_data.loc[date_range].open,\n",
    "    high                =min_data.loc[date_range].high,\n",
    "    low                 =min_data.loc[date_range].low,\n",
    "    entries             =entries, # Can comment this out if you want short only and vice versa or run them both\n",
    "    short_entries       =short_entries,\n",
    "    tsl_th              =0.005, # Take Profit Treshold to start a trailing stop loss\n",
    "    tsl_stop            =0.0015, # Trailing Stop Loss if tsl_th is reached\n",
    "    sl_stop             =0.10, # Good old fashioned stop loss\n",
    "    # td_stop             =1440*0.25, # Time delta stop in minutes\n",
    "    # time_delta_format        ='rows', # Tells it what format, rows or index\n",
    "    fees                =0.00035,\n",
    ")\n",
    "print(test_pf.stats())"
   ]
  },
  {
   "cell_type": "code",
   "execution_count": null,
   "metadata": {},
   "outputs": [],
   "source": [
    "\n",
    "macd_combinations = macd.run(\n",
    "    min_data.close,\n",
    "    fast_window=[12*1440, 26*1440],\n",
    "    slow_window=[26*1440, 52*1440],\n",
    "    signal_window=[9*1440, 12*1440],\n",
    "    param_product=True,\n",
    "        execute_kwargs=dict(\n",
    "        engine=\"threadpool\",\n",
    "        chunk_len=\"auto\",\n",
    "        show_progress=True,\n",
    "    )\n",
    ")\n",
    "   "
   ]
  },
  {
   "cell_type": "code",
   "execution_count": null,
   "metadata": {},
   "outputs": [],
   "source": [
    "vbt.phelp(vbt.MACD.run)"
   ]
  },
  {
   "cell_type": "code",
   "execution_count": null,
   "metadata": {},
   "outputs": [],
   "source": [
    "# You can see from the phelp that you can print `macd` or `signal``\n",
    "macd_combinations.signal"
   ]
  },
  {
   "cell_type": "code",
   "execution_count": null,
   "metadata": {},
   "outputs": [],
   "source": [
    "# Create an entire table of all the combinations that you can create entry and exit signals from\n",
    "macd_combinations = macd.run(\n",
    "    min_data.close,\n",
    "    fast_window=np.arange(770, 4*1440, 770),\n",
    "    slow_window=np.arange(6*1440, 26*1440, 10*1440),\n",
    "    signal_window=np.arange(360, 1440, 360),\n",
    "    param_product=True,\n",
    "        execute_kwargs=dict(\n",
    "        engine=\"threadpool\",\n",
    "        chunk_len=\"auto\",\n",
    "        show_progress=True,\n",
    "    )\n",
    ")\n",
    "\n",
    "print(\"Creating Buy and Sell Signals\")\n",
    "short_entries   = macd_combinations[date_range].macd < macd_combinations[date_range].signal # short when macd is below signal\n",
    "entries         = macd_combinations[date_range].macd > macd_combinations[date_range].signal # enter when macd is above signal\n",
    "clean_entries, clean_short_entries = entries.vbt.signals.clean(short_entries) # Clean the signals to make sure they are not overlapping this just grabs the first signal and ignores the rest until there is another crossover\n",
    "print(f\"No. of entries: {clean_entries.sum()}, No. of short entries: {clean_short_entries.sum()}\") # Can comment this out if you don't care. It just prints out the number of entries and short entries for each combination.\n",
    "print(\"Simulating Portfolio Backtests\")\n",
    "\n",
    "test_pf = vbt.Portfolio.from_signals(\n",
    "    close               =min_data.loc[date_range].close,\n",
    "    open                =min_data.loc[date_range].open,\n",
    "    high                =min_data.loc[date_range].high,\n",
    "    low                 =min_data.loc[date_range].low,\n",
    "    entries             =clean_entries, # Can comment this out if you want short only and vice versa or run them both\n",
    "    short_entries       =clean_short_entries,\n",
    "    tsl_th              =0.005, # Take Profit Treshold to start a trailing stop loss\n",
    "    tsl_stop            =0.0015, # Trailing Stop Loss if tsl_th is reached\n",
    "    # tp_stop             =0.005, # Take Profit Stop\n",
    "    sl_stop             =0.02, # Good old fashioned stop loss\n",
    "    # td_stop             =1440*0.25, # Time delta stop in minutes\n",
    "    # time_delta_format        ='rows', # Tells it what format, rows or index\n",
    "    fees                =0.00035,\n",
    "    leverage            =4,\n",
    ")\n",
    "# Print out a summary of the stats \n",
    "output = pd.concat([test_pf.sharpe_ratio, test_pf.total_return, test_pf.trades.win_rate, test_pf.trades.profit_factor, test_pf.trades.count()], axis=1)\n",
    "output.columns = ['Sharpe Ratio', 'Total Return', 'Win Rate', 'Profit Factor', 'Trade Count']\n",
    "output.sort_values(by='Profit Factor', ascending=False)\n",
    "# print(test_pf.total_return)"
   ]
  },
  {
   "cell_type": "code",
   "execution_count": null,
   "metadata": {},
   "outputs": [],
   "source": [
    "best = test_pf.total_return.idxmax()\n",
    "print(test_pf[best].stats())\n",
    "test_pf[best].resample('1d').plot().show()"
   ]
  },
  {
   "cell_type": "code",
   "execution_count": null,
   "metadata": {},
   "outputs": [],
   "source": [
    "test_pf[best].resample('1d').plot_cum_returns(bm_returns=False).show()"
   ]
  },
  {
   "cell_type": "code",
   "execution_count": null,
   "metadata": {},
   "outputs": [],
   "source": [
    "output['Total Return'].vbt.plot_heatmap().show()"
   ]
  },
  {
   "cell_type": "markdown",
   "metadata": {},
   "source": [
    "## Now work on RSI"
   ]
  },
  {
   "cell_type": "code",
   "execution_count": null,
   "metadata": {},
   "outputs": [],
   "source": [
    "vbt.phelp(vbt.RSI.run)"
   ]
  },
  {
   "cell_type": "code",
   "execution_count": null,
   "metadata": {},
   "outputs": [],
   "source": [
    "rsi = vbt.RSI.run(min_data.close, window=100)\n",
    "\n",
    "rsi['2020-01-01':'2020-03-31'].plot().show()"
   ]
  },
  {
   "cell_type": "code",
   "execution_count": null,
   "metadata": {},
   "outputs": [],
   "source": [
    "overbought = 60\n",
    "oversold = 40\n",
    "\n",
    "rsi_combinations = vbt.RSI.run(\n",
    "    min_data.close,\n",
    "    window=np.arange(100, 300, 10),\n",
    "    param_product=True,\n",
    "        execute_kwargs=dict(\n",
    "        engine=\"threadpool\",\n",
    "        chunk_len=\"auto\",\n",
    "        show_progress=True,\n",
    "    )\n",
    ")\n",
    "\n",
    "print(\"Creating Buy and Sell Signals\")\n",
    "short_entries   = rsi_combinations[date_range].rsi.vbt > overbought \n",
    "entries         = rsi_combinations[date_range].rsi.vbt < oversold \n",
    "clean_entries, clean_short_entries   = entries.vbt.signals.clean(short_entries)\n",
    "\n",
    "# print(\"Number of short entries: \", short_entries.sum())\n",
    "# print(\"Number of long entries: \", entries.sum())\n",
    "# print(\"Number of clean long entries: \", clean_entries.sum())\n",
    "# print(\"Number of clean short entries: \", clean_short_entries.sum())\n",
    "# print(\"Simulating Portfolio Backtests\")\n",
    "\n",
    "test_pf = vbt.Portfolio.from_signals(\n",
    "    close               =min_data.loc[date_range].close,\n",
    "    open                =min_data.loc[date_range].open,\n",
    "    high                =min_data.loc[date_range].high,\n",
    "    low                 =min_data.loc[date_range].low,\n",
    "    entries             =entries, # Can comment this out if you want short only and vice versa or run them both\n",
    "    short_entries       =short_entries,\n",
    "    tsl_th              =0.005, # Take Profit Treshold to start a trailing stop loss\n",
    "    tsl_stop            =0.0015, # Trailing Stop Loss if tsl_th is reached\n",
    "    sl_stop             =0.02, # Good old fashioned stop loss\n",
    "    # td_stop             =1440*0.25, # Time delta stop in minutes\n",
    "    # time_delta_format        ='rows', # Tells it what format, rows or index\n",
    "    fees                =0.00035,\n",
    ")\n",
    "# print(test_pf.stats())\n",
    "# print(test_pf.total_return)\n",
    "# print(f\"RSI paramaters : {rsi_combinations.rsi.columns}\")\n",
    "# print(test_pf.sharpe_ratio)\n",
    "# print(test_pf.total_return)\n",
    "# Concat test_pf.sharpe_ratio and test_pf.total_return\n",
    "# Print out a summary of the stats \n",
    "rsi_output = pd.concat([test_pf.sharpe_ratio, test_pf.total_return, test_pf.trades.win_rate, test_pf.trades.profit_factor, test_pf.trades.count()], axis=1)\n",
    "rsi_output.columns = ['Sharpe Ratio', 'Total Return', 'Win Rate', 'Profit Factor', 'Trade Count']\n",
    "rsi_output.sort_values(by='Profit Factor', ascending=False)# best_return_idx = test_pf.total_return.idxmax()\n",
    "# print(test_pf[best_return_idx].stats())\n",
    "# test_pf[best_return_idx].resample('1d').plot().show()"
   ]
  },
  {
   "cell_type": "code",
   "execution_count": null,
   "metadata": {},
   "outputs": [],
   "source": [
    "short_entries.vbt.signals.stats()"
   ]
  },
  {
   "cell_type": "markdown",
   "metadata": {},
   "source": [
    "# Build a PSAR function\n",
    "This function can also be used to upsample and downsample the data"
   ]
  },
  {
   "cell_type": "code",
   "execution_count": null,
   "metadata": {},
   "outputs": [],
   "source": [
    "def get_psar_signal(high, low, close, af0=0.02, step=0.02, max_=0.2, resample_period=None):\n",
    "    \"\"\"\n",
    "    Returns a DataFrame with the following columns:\n",
    "    - 'signal': 1 (long) or -1 (short)\n",
    "    - 'close_long_price': price at which a long position should be closed\n",
    "    - 'close_short_price': price at which a short position should be closed\n",
    "    \n",
    "    \"\"\"\n",
    "    data = pd.concat([high, low, close], axis=1)\n",
    "    data.columns = ['High', 'Low', 'Close']\n",
    "\n",
    "    # Resample data if resample_period is provided\n",
    "    if resample_period:\n",
    "        data_resampled = data.resample(resample_period, closed='right', label='right' ).agg({'High': 'max', 'Low': 'min', 'Close': 'last'})\n",
    "        # Shift the resampled data forward by one to avoid look ahead bias\n",
    "        data_resampled = data_resampled.shift(1).dropna()\n",
    "    else:\n",
    "        data_resampled = data\n",
    "    \n",
    "    psar = data_resampled.ta.psar(af0, step, max_)\n",
    "\n",
    "\n",
    "    close_long_price = f\"PSARl_{af0}_{max_}\"   # or 'floor'\n",
    "    close_short_price = f\"PSARs_{af0}_{max_}\"  # or 'ceiling'\n",
    "    psar_reversal_col = f\"PSARr_{af0}_{max_}\"\n",
    "    \n",
    "    # print(psar[close_long_price].describe(), psar[close_short_price].describe(), psar[psar_reversal_col].describe())\n",
    "    \n",
    "    signal = np.zeros(len(psar))\n",
    "    signal = np.where((psar[psar_reversal_col] == 1) & (psar[close_long_price].shift(1).notna()), 1, signal)  # breakout to the upside\n",
    "    signal = np.where((psar[psar_reversal_col] == 1) & (psar[close_short_price].shift(1).notna()), -1, signal)  # breakout to the downside\n",
    "\n",
    "    result = pd.DataFrame({\n",
    "        'Close': data_resampled.Close,\n",
    "        'signal': signal,\n",
    "        'close_long_price': psar[close_long_price],\n",
    "        'close_short_price': psar[close_short_price]\n",
    "    }, index=data_resampled.index)\n",
    "\n",
    "    # Reindex to the original timeframe and forward fill if resampling was done\n",
    "    if resample_period:\n",
    "        result = result.reindex(data.index).ffill()\n",
    "        \n",
    "        # Replace NaN values in the signal column with 0 (after resampling)\n",
    "        result['signal'].fillna(0, inplace=True)\n",
    "\n",
    "    return result\n",
    "\n",
    "\n",
    "psar_signal = get_psar_signal(\n",
    "    min_data.high, \n",
    "    min_data.low, \n",
    "    min_data.close, \n",
    "    resample_period='1h')\n",
    "# print a small sample of the result\n",
    "plot_columns = ['close_long_price', 'close_short_price']\n",
    "fig = min_data.loc['2019-1-01':'2019-01-31'].close.vbt.plot()\n",
    "psar_signal[plot_columns].loc['2019-01-01':'2020-01-31'].vbt.plot(fig=fig).show()\n"
   ]
  },
  {
   "cell_type": "code",
   "execution_count": null,
   "metadata": {},
   "outputs": [],
   "source": [
    "psar_signal = get_psar_signal(min_data.high, min_data.low, min_data.close, resample_period='1h')"
   ]
  },
  {
   "cell_type": "code",
   "execution_count": null,
   "metadata": {},
   "outputs": [],
   "source": [
    "psar_signal[plot_columns]"
   ]
  },
  {
   "cell_type": "code",
   "execution_count": null,
   "metadata": {},
   "outputs": [],
   "source": [
    "# print a small sample of the result\n",
    "date_range = slice('2019-1-01', '2019-01-31')\n",
    "plot_columns = ['close_long_price', 'close_short_price']\n",
    "fig = min_data.loc[date_range].close.vbt.plot()\n",
    "psar_signal[plot_columns].loc[date_range].vbt.plot(fig=fig).show()"
   ]
  },
  {
   "cell_type": "code",
   "execution_count": null,
   "metadata": {},
   "outputs": [],
   "source": []
  },
  {
   "cell_type": "markdown",
   "metadata": {},
   "source": [
    "if close_long_price is not nan then a bullish trend is in place"
   ]
  },
  {
   "cell_type": "code",
   "execution_count": null,
   "metadata": {},
   "outputs": [],
   "source": [
    "psar_pf = vbt.Portfolio.from_signals(\n",
    "    close           =min_data.close,\n",
    "    high            =min_data.high,\n",
    "    low             =min_data.low,\n",
    "    open            =min_data.open, \n",
    "    entries         =psar_signal['signal'] == 1, \n",
    "    exits           =psar_signal['signal'] == -1,\n",
    "    short_entries   =psar_signal['signal'] == -1,\n",
    "    short_exits     =psar_signal['signal'] == 1,\n",
    "    tsl_th          =0.0050,\n",
    "    tsl_stop        =0.0015,\n",
    "    # fees            =0.00075,\n",
    "    )\n",
    "print(psar_pf.stats())"
   ]
  },
  {
   "cell_type": "markdown",
   "metadata": {},
   "source": [
    "# Mean Reversion\n",
    "Reverse the signals, if psar crosses up short it and if it crosses down get long\n"
   ]
  },
  {
   "cell_type": "code",
   "execution_count": null,
   "metadata": {},
   "outputs": [],
   "source": [
    "psar_pf = vbt.Portfolio.from_signals(\n",
    "    close           =min_data.close,\n",
    "    high            =min_data.high,\n",
    "    low             =min_data.low,\n",
    "    open            =min_data.open, \n",
    "    entries         =psar_signal['signal'] == -1, \n",
    "    exits           =psar_signal['signal'] == 1,\n",
    "    short_entries   =psar_signal['signal'] == 1,\n",
    "    short_exits     =psar_signal['signal'] == -1,\n",
    "    fees            =0.00075,\n",
    "    # tsl_th          =0.003,\n",
    "    # tsl_stop        =0.0015,\n",
    "    )\n",
    "print(psar_pf.stats())\n",
    "# psar_pf.plot().show()"
   ]
  },
  {
   "cell_type": "code",
   "execution_count": null,
   "metadata": {},
   "outputs": [],
   "source": [
    "psar_pf.plot().show()"
   ]
  },
  {
   "cell_type": "markdown",
   "metadata": {},
   "source": [
    "## Now let's compare these same versions on minutely data"
   ]
  },
  {
   "cell_type": "code",
   "execution_count": null,
   "metadata": {},
   "outputs": [],
   "source": [
    "start = '2019-01-01'\n",
    "end = '2023-09-30'\n",
    "psar_signal = get_psar_signal(\n",
    "    min_data.loc[start:end].high, \n",
    "    min_data.loc[start:end].low, \n",
    "    min_data.loc[start:end].close, \n",
    "    resample_period='2h')"
   ]
  },
  {
   "cell_type": "code",
   "execution_count": null,
   "metadata": {},
   "outputs": [],
   "source": [
    "# psar_signal.vbt.plot().show()"
   ]
  },
  {
   "cell_type": "code",
   "execution_count": null,
   "metadata": {},
   "outputs": [],
   "source": [
    "psar_pf = vbt.Portfolio.from_signals(\n",
    "    close           =min_data.loc[start:end].close,\n",
    "    high            =min_data.loc[start:end].high,\n",
    "    low             =min_data.loc[start:end].low,\n",
    "    open            =min_data.loc[start:end].open, \n",
    "    entries         =psar_signal['signal'] == 1, \n",
    "    exits           =psar_signal['signal'] == -1,\n",
    "    short_entries   =psar_signal['signal'] == -1,\n",
    "    short_exits     =psar_signal['signal'] == 1,\n",
    "    # tsl_th          =0.003,\n",
    "    # tsl_stop        =0.0015,\n",
    "    freq            ='1m',\n",
    "    fees            =0.0005,\n",
    "    # sl_stop         =0.01,\n",
    "    leverage        =1,\n",
    "    )\n",
    "print(psar_pf.stats())\n",
    "# psar_pf.resample('1d').plot().show()"
   ]
  },
  {
   "cell_type": "code",
   "execution_count": null,
   "metadata": {},
   "outputs": [],
   "source": [
    "psar_signal['signal'].value_counts()"
   ]
  },
  {
   "cell_type": "code",
   "execution_count": null,
   "metadata": {},
   "outputs": [],
   "source": [
    "psar_signal.loc[start:'2019-01-31'][['Close','close_long_price', 'close_short_price']].vbt.plot().show()"
   ]
  },
  {
   "cell_type": "markdown",
   "metadata": {},
   "source": [
    "# Reverse the signals\n",
    "mean reversion version"
   ]
  },
  {
   "cell_type": "code",
   "execution_count": null,
   "metadata": {},
   "outputs": [],
   "source": [
    "psar_pf = vbt.Portfolio.from_signals(\n",
    "    close           =min_data.loc[start:end].close,\n",
    "    high            =min_data.loc[start:end].high,\n",
    "    low             =min_data.loc[start:end].low,\n",
    "    open            =min_data.loc[start:end].open, \n",
    "    entries         =psar_signal['signal'] == -1, \n",
    "    exits           =psar_signal['signal'] == 1,\n",
    "    short_entries   =psar_signal['signal'] == 1,\n",
    "    short_exits     =psar_signal['signal'] == -1,\n",
    "    # tsl_th          =0.003,\n",
    "    # tsl_stop        =0.0015,\n",
    "    freq            ='1m',\n",
    "    fees            =0.0014,\n",
    "    # sl_stop         =0.01,\n",
    "    leverage        =1,\n",
    "    )\n",
    "print(psar_pf.stats())\n",
    "# psar_pf.resample('1d').plot().show()"
   ]
  },
  {
   "cell_type": "code",
   "execution_count": null,
   "metadata": {},
   "outputs": [],
   "source": [
    "psar_pf.resample('6h').plot().show()"
   ]
  },
  {
   "cell_type": "code",
   "execution_count": null,
   "metadata": {},
   "outputs": [],
   "source": [
    "min_data['2019-10-26':'2019-10-27 00:40:00'][['Open', 'High', 'Low', 'Close']].plot().show()"
   ]
  },
  {
   "cell_type": "code",
   "execution_count": null,
   "metadata": {},
   "outputs": [],
   "source": [
    "min_data.loc['2020-03-12'].close.vbt.plot().show()"
   ]
  },
  {
   "cell_type": "code",
   "execution_count": null,
   "metadata": {},
   "outputs": [],
   "source": [
    "# order by return\n",
    "psar_pf.trades.records_readable.sort_values('Return', ascending=False).head(10)"
   ]
  },
  {
   "cell_type": "code",
   "execution_count": null,
   "metadata": {},
   "outputs": [],
   "source": [
    "psar_pf.trades.records_readable"
   ]
  },
  {
   "cell_type": "markdown",
   "metadata": {},
   "source": [
    "# Now let's set it up for hyperparamater optimization"
   ]
  },
  {
   "cell_type": "code",
   "execution_count": null,
   "metadata": {},
   "outputs": [],
   "source": [
    "def get_psar_signal(high, low, close, af0=0.02, step=0.02, max_=0.2, resample_period=None):\n",
    "    \"\"\"\n",
    "    Compute PSAR signals with optional resampling.\n",
    "    \n",
    "    Args:\n",
    "    ... [same docstring arguments as before] ...\n",
    "    \n",
    "    - resample_period (str, optional): If provided, the data will be resampled to this period. E.g. '2H' for 2 hours.\n",
    "\n",
    "    Returns:\n",
    "    - DataFrame containing:\n",
    "      * signal: buy signals (1), sell signals (-1), and no action (0).\n",
    "      * close_long_price: Level at which a long position should be closed or reversed to short.\n",
    "      * close_short_price: Level at which a short position should be closed or reversed to long.\n",
    "    \"\"\"\n",
    "    # The next 3 lines help to work with numpy arrays because vbt converts them to numpy arrays\n",
    "\n",
    "    high = pd.Series(high)\n",
    "    low = pd.Series(low)\n",
    "    close = pd.Series(close)\n",
    "    \n",
    "    data = pd.concat([high, low, close], axis=1)\n",
    "    data.columns = ['High', 'Low', 'Close']\n",
    "\n",
    "    # Resample data if resample_period is provided\n",
    "    if resample_period:\n",
    "        data_resampled = data.resample(resample_period).agg({'High': 'max', 'Low': 'min', 'Close': 'last'})\n",
    "    else:\n",
    "        data_resampled = data\n",
    "    \n",
    "    psar = data_resampled.ta.psar(af0, step, max_)\n",
    "\n",
    "    close_long_price = f\"PSARl_{af0}_{max_}\"   # or 'floor'\n",
    "    close_short_price = f\"PSARs_{af0}_{max_}\"  # or 'ceiling'\n",
    "    psar_reversal_col = f\"PSARr_{af0}_{max_}\"\n",
    "\n",
    "    signal = np.zeros(len(psar))\n",
    "    signal = np.where((psar[psar_reversal_col] == 1) & (psar[close_long_price].shift(1).notna()), 1, signal)  # buy signal\n",
    "    signal = np.where((psar[psar_reversal_col] == 1) & (psar[close_short_price].shift(1).notna()), -1, signal)  # sell signal\n",
    "\n",
    "    result = pd.DataFrame({\n",
    "        'signal': signal,\n",
    "        'close_long_price': psar[close_long_price],\n",
    "        'close_short_price': psar[close_short_price]\n",
    "    }, index=data_resampled.index)\n",
    "    \n",
    "    # Reindex to the original timeframe and forward fill if resampling was done\n",
    "    if resample_period:\n",
    "        result = result.reindex(data.index).ffill()\n",
    "        \n",
    "        # Replace NaN values in the signal column with 0 (after resampling)\n",
    "        result['signal'].fillna(0, inplace=True)\n",
    "\n",
    "    return result[\"signal\"], result[\"close_long_price\"], result[\"close_short_price\"]    \n",
    "\n",
    "psar_indiator = vbt.IndicatorFactory(\n",
    "    class_name='ParabolicSAR',\n",
    "    short_name='psar',\n",
    "    input_names=['high', 'low', 'close'],\n",
    "    param_names=['af0', 'step', 'max_'],\n",
    "    output_names=['signal','close_long_price', 'close_short_price'],\n",
    ").with_apply_func(\n",
    "    get_psar_signal,\n",
    "    takes_1d=True,\n",
    "    af0     =0.02,\n",
    "    step    =0.02,\n",
    "    max_    =0.2,\n",
    "    resample_period=None,\n",
    ")\n",
    "psar_combinations = psar_indiator.run(\n",
    "    data.high,\n",
    "    data.low,\n",
    "    data.close,\n",
    "    af0     =np.arange(0.018,   0.022,   0.001),\n",
    "    step    =0.02, #np.arange(0.02,   0.04,   0.01),\n",
    "    max_    =np.arange(0.2,   0.25,  0.01),\n",
    "    param_product=True,\n",
    "        execute_kwargs=dict(\n",
    "        engine=\"threadpool\",\n",
    "        chunk_len=\"auto\",\n",
    "        show_progress=True,\n",
    "    )\n",
    ")\n",
    "   \n"
   ]
  },
  {
   "cell_type": "code",
   "execution_count": null,
   "metadata": {},
   "outputs": [],
   "source": [
    "pf = vbt.Portfolio.from_signals(\n",
    "    close=  data.high,\n",
    "    high=   data.high,\n",
    "    low=    data.low,\n",
    "    entries =       psar_combinations.signal==-1,\n",
    "    exits =         psar_combinations.signal==1,\n",
    "    short_entries = psar_combinations.signal==1,\n",
    "    short_exits =   psar_combinations.signal==-1,\n",
    "    freq = '10m',\n",
    "    # tp_stop=0.003,\n",
    "    tsl_th = 0.003,\n",
    "    tsl_stop=0.0015,\n",
    "    # sl_stop=0.02,\n",
    "\n",
    ")\n",
    "print(pf.stats())\n"
   ]
  },
  {
   "cell_type": "code",
   "execution_count": null,
   "metadata": {},
   "outputs": [],
   "source": [
    "# print the total returns for all the combinations\n",
    "print(f'The best total return is {pf.total_return.max()}')\n",
    "\n",
    "# Isolate the best Sharpe ratio portfolio\n",
    "best_sharpe = pf.sharpe_ratio.max()\n",
    "print(f'The best Sharpe ratio of all the combinations is {best_sharpe:.2f}')\n",
    "best_sharpe_combination = pf.sharpe_ratio.idxmax()\n",
    "print(f'The best combination is {best_sharpe_combination}')\n",
    "\n",
    "# Isolate the best Sortino ratio portfolio\n",
    "best_sortino = pf.sortino_ratio.max()\n",
    "print(f'The best Sortino ratio of all the combinations is {best_sortino:.2f}')\n",
    "best_sortino_combination = pf.sortino_ratio.idxmax()\n",
    "print(f'The best combination is {best_sortino_combination}')\n",
    "\n",
    "# Isolate the best Win rate portfolio\n",
    "best_win_rate = pf.trades.win_rate.max() # Note these are in the portfolio.trades object not the portfolio object\n",
    "print(f'The best Win rate of all the combinations is {best_win_rate:.2f}')\n",
    "best_win_rate_combination = pf.trades.win_rate.idxmax() \n",
    "print(f'The best combination is {best_win_rate_combination}')\n",
    "\n",
    "# Isolate the best max drawdown\n",
    "best_max_drawdown = pf.max_drawdown.max()\n",
    "print(f'The best max drawdown of all the combinations is {best_max_drawdown:.2%}')\n",
    "best_max_drawdown_combination = pf.max_drawdown.idxmax()\n",
    "print(f'The best combination is {best_max_drawdown_combination}')\n",
    "\n",
    "# You get the gist. You can do this for any of the metrics in the stats dataframe\n",
    "\n",
    "# Show the portfolio backtest simulation\n",
    "# pf[13,9].plot().show() # you can call the pf object like a dictionary to get the backtest of a specific combination\n",
    "# The above is the same as \n",
    "pf[best_sharpe_combination].plot().show() # you can call the pf object like a dictionary to get the backtest of a specific combination\n",
    "\n",
    "# Show the portfolio backtest simulation"
   ]
  },
  {
   "cell_type": "code",
   "execution_count": null,
   "metadata": {},
   "outputs": [],
   "source": [
    "pf.sharpe_ratio.vbt.volume().show()"
   ]
  }
 ],
 "metadata": {
  "kernelspec": {
   "display_name": "datascience",
   "language": "python",
   "name": "python3"
  },
  "language_info": {
   "codemirror_mode": {
    "name": "ipython",
    "version": 3
   },
   "file_extension": ".py",
   "mimetype": "text/x-python",
   "name": "python",
   "nbconvert_exporter": "python",
   "pygments_lexer": "ipython3",
   "version": "3.10.12"
  },
  "orig_nbformat": 4
 },
 "nbformat": 4,
 "nbformat_minor": 2
}
