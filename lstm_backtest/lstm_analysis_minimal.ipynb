{
 "cells": [
  {
   "cell_type": "markdown",
   "metadata": {},
   "source": [
    "# Imports"
   ]
  },
  {
   "cell_type": "code",
   "execution_count": 1,
   "metadata": {},
   "outputs": [],
   "source": [
    "import pandas as pd\n",
    "import vectorbtpro as vbt\n",
    "import numpy as np"
   ]
  },
  {
   "cell_type": "markdown",
   "metadata": {},
   "source": [
    "# Initialization"
   ]
  },
  {
   "cell_type": "code",
   "execution_count": 2,
   "metadata": {},
   "outputs": [],
   "source": [
    "vbt.settings.wrapping [\"freq\"]                = \"1m\"\n",
    "vbt.settings.portfolio['init_cash']           = 10000"
   ]
  },
  {
   "cell_type": "markdown",
   "metadata": {},
   "source": [
    "# Settings and Parameters"
   ]
  },
  {
   "cell_type": "code",
   "execution_count": 3,
   "metadata": {},
   "outputs": [],
   "source": [
    "pickle_files_path = \"../data/RID0029_LSTM_pw38_lb250_bt2000_mem6000/*.pkl\"\n",
    "prediction_window = 38\n",
    "\n",
    "min_num_entries          = 100\n",
    "excel_output_file_name  = f\"../results/{pickle_files_path.split('/')[-2] + '.xlsx'}\""
   ]
  },
  {
   "cell_type": "markdown",
   "metadata": {},
   "source": [
    "# Local Imports"
   ]
  },
  {
   "cell_type": "code",
   "execution_count": 4,
   "metadata": {},
   "outputs": [],
   "source": [
    "import os\n",
    "import sys\n",
    "\n",
    "sys.path.append(os.getcwd())"
   ]
  },
  {
   "cell_type": "code",
   "execution_count": 5,
   "metadata": {},
   "outputs": [],
   "source": [
    "from lstm_analysis_utils import (read_pickle_files_into_df, add_forward_prices_to_df, generate_fwd_actual_column\n",
    "                                 , generate_df_with_euclidean_distances, calculate_slopes, calculate_correlation_slopes\n",
    "                                )\n",
    "from lstm_results_utils import (export_results, store_backtest_results)\n",
    "from lstm_only_backtests import run_backtest_lstm_recommendations_reversal_exits, run_backtests_lstm_recommendations_prediction_size_exit\n",
    "from lstm_analysis_constants import EntryType\n",
    "from quantile_value import generate_quantile_bands, extract_boundary_values_from_quantile_bands\n",
    "from prediction_window_slopes import PredictionWindowSlopes\n",
    "from long_slope_short_slope_backtests import run_backtest_long_slope_short_slope_prediction_size_exit, run_backtest_long_slope_short_slope_fractional_exits\n",
    "from long_minus_short_backtests import run_backtest_long_minus_short_entry_type_long_only, run_backtest_long_minus_short_entry_type_short_only, run_backtest_long_minus_short_entry_type_long_short"
   ]
  },
  {
   "cell_type": "markdown",
   "metadata": {},
   "source": [
    "# Processing"
   ]
  },
  {
   "cell_type": "code",
   "execution_count": 6,
   "metadata": {},
   "outputs": [],
   "source": [
    "df = read_pickle_files_into_df(pickle_files_path)"
   ]
  },
  {
   "cell_type": "code",
   "execution_count": 7,
   "metadata": {},
   "outputs": [],
   "source": [
    "add_forward_prices_to_df(df, prediction_window)\n",
    "df = df.copy()  # for large prediction_window size, the copy() call eliminates the fragmented dataframe warning"
   ]
  },
  {
   "cell_type": "code",
   "execution_count": 8,
   "metadata": {},
   "outputs": [],
   "source": [
    "generate_fwd_actual_column(df)"
   ]
  },
  {
   "cell_type": "code",
   "execution_count": 9,
   "metadata": {},
   "outputs": [],
   "source": [
    "df = generate_df_with_euclidean_distances(df, prediction_window)"
   ]
  },
  {
   "cell_type": "code",
   "execution_count": 10,
   "metadata": {},
   "outputs": [],
   "source": [
    "calculate_slopes(df)"
   ]
  },
  {
   "cell_type": "code",
   "execution_count": 11,
   "metadata": {},
   "outputs": [
    {
     "name": "stdout",
     "output_type": "stream",
     "text": [
      "Correlation between Euclidean distance between long array and short array and future actual results:  0.2323749569168827\n",
      "Correlation between difference in long minus short predictions and future actual results for longs:  0.7729074091322778\n",
      "Correlation between difference in long minus short predictions and future actual results for shorts:  0.7796842534588357\n",
      "Correlation between long slopes and future results: -0.012208928800469096\n",
      "Correlation between short slopes and future results: 0.020035842971377452\n"
     ]
    }
   ],
   "source": [
    "calculate_correlation_slopes(df)"
   ]
  },
  {
   "cell_type": "code",
   "execution_count": 12,
   "metadata": {},
   "outputs": [],
   "source": [
    "df.index = pd.to_datetime(df[\"close_time\"], utc=True, unit=\"s\")"
   ]
  },
  {
   "cell_type": "markdown",
   "metadata": {},
   "source": [
    "# Running backtest"
   ]
  },
  {
   "cell_type": "markdown",
   "metadata": {},
   "source": [
    "- ### Storing the results of the backtests"
   ]
  },
  {
   "cell_type": "code",
   "execution_count": 13,
   "metadata": {},
   "outputs": [],
   "source": [
    "results_as_list  = []"
   ]
  },
  {
   "cell_type": "markdown",
   "metadata": {},
   "source": [
    "- ### Baseline backtest - just listen to LSTM"
   ]
  },
  {
   "cell_type": "code",
   "execution_count": 14,
   "metadata": {},
   "outputs": [],
   "source": [
    "run_backtest_lstm_recommendations_reversal_exits(df, results_as_list)"
   ]
  },
  {
   "cell_type": "code",
   "execution_count": 15,
   "metadata": {},
   "outputs": [],
   "source": [
    "run_backtests_lstm_recommendations_prediction_size_exit(df, results_as_list, prediction_window)"
   ]
  },
  {
   "cell_type": "markdown",
   "metadata": {},
   "source": [
    "- ### Using different slopes"
   ]
  },
  {
   "cell_type": "code",
   "execution_count": 16,
   "metadata": {},
   "outputs": [],
   "source": [
    "min_long_slope  = df[\"long_slope\"].min()\n",
    "max_long_slope  = df[\"long_slope\"].max()\n",
    "min_short_slope = df[\"short_slope\"].min()\n",
    "max_short_slope = df[\"short_slope\"].max()"
   ]
  },
  {
   "cell_type": "code",
   "execution_count": 17,
   "metadata": {},
   "outputs": [],
   "source": [
    "num_quantiles               = 5\n",
    "threshold_increment         = 0.001\n",
    "quantiles                   = np.linspace(0, 1, num=num_quantiles + 1)"
   ]
  },
  {
   "cell_type": "markdown",
   "metadata": {},
   "source": [
    "- #### long_slope and short_slope"
   ]
  },
  {
   "cell_type": "code",
   "execution_count": 18,
   "metadata": {},
   "outputs": [],
   "source": [
    "run_backtest_long_slope_short_slope_prediction_size_exit(df, results_as_list, prediction_window, threshold_increment, min_num_entries)"
   ]
  },
  {
   "cell_type": "code",
   "execution_count": 19,
   "metadata": {},
   "outputs": [],
   "source": [
    "run_backtest_long_slope_short_slope_fractional_exits(df, results_as_list, threshold_increment, min_num_entries) "
   ]
  },
  {
   "cell_type": "markdown",
   "metadata": {},
   "source": [
    "- #### long_minus_short"
   ]
  },
  {
   "cell_type": "code",
   "execution_count": 20,
   "metadata": {},
   "outputs": [],
   "source": [
    "long_minus_short_min = df['long_minus_short'].min()\n",
    "long_minus_short_max = df['long_minus_short'].max()\n",
    "\n",
    "long_minus_short_thresholds = [x for x in np.arange(long_minus_short_min, long_minus_short_max, threshold_increment)]"
   ]
  },
  {
   "cell_type": "code",
   "execution_count": 21,
   "metadata": {},
   "outputs": [],
   "source": [
    "run_backtest_long_minus_short_entry_type_long_only(df, results_as_list, prediction_window, threshold_increment, min_num_entries)\n",
    "\n",
    "# for threshold in long_minus_short_thresholds:\n",
    "#     entries = pd.Series(np.where((df['long_minus_short'] < threshold), True, False))\n",
    "\n",
    "#     num_entries = (entries == True).sum()\n",
    "\n",
    "#     if num_entries > min_num_entries:\n",
    "#         pf = vbt.Portfolio.from_signals(\n",
    "#             high              = df['BTCUSDT_High'],\n",
    "#             low               = df['BTCUSDT_Low'],\n",
    "#             open              = df['BTCUSDT_Open'],\n",
    "#             close             = df['BTCUSDT_Close'],\n",
    "#             entries           = entries, # commented out for a short only backtest    \n",
    "#             td_stop           = prediction_window, # Hold on to the position for 8 bars\n",
    "#             time_delta_format = 'Rows', # Use the row index to calculate the time delta    \n",
    "#             accumulate        = False,    \n",
    "#             )\n",
    "        \n",
    "#         key = f\"Long minus short\"    \n",
    "#         slopes = PredictionWindowSlopes(None, None, None, None, threshold, EntryType.LONG_ONLY)\n",
    "#         store_backtest_results(key, pf, results_as_list, slopes)"
   ]
  },
  {
   "cell_type": "code",
   "execution_count": 22,
   "metadata": {},
   "outputs": [],
   "source": [
    "run_backtest_long_minus_short_entry_type_short_only(df, results_as_list, prediction_window, threshold_increment, min_num_entries)\n",
    "\n",
    "# for threshold in long_minus_short_thresholds:\n",
    "#     short_entries = pd.Series(np.where((df['long_minus_short'] < threshold), True, False))\n",
    "\n",
    "#     num_entries = (short_entries == True).sum()\n",
    "\n",
    "#     if num_entries > min_num_entries:\n",
    "#         pf = vbt.Portfolio.from_signals(\n",
    "#             high              = df['BTCUSDT_High'],\n",
    "#             low               = df['BTCUSDT_Low'],\n",
    "#             open              = df['BTCUSDT_Open'],\n",
    "#             close             = df['BTCUSDT_Close'],\n",
    "#             short_entries     = short_entries, # commented out for a short only backtest    \n",
    "#             td_stop           = prediction_window, # Hold on to the position for 8 bars\n",
    "#             time_delta_format = 'Rows', # Use the row index to calculate the time delta    \n",
    "#             accumulate        = False,    \n",
    "#             )\n",
    "        \n",
    "#         key = f\"Long minus short\"    \n",
    "#         slopes = PredictionWindowSlopes(None, None, None, None, threshold, EntryType.SHORT_ONLY)\n",
    "#         store_backtest_results(key, pf, results_as_list, slopes)"
   ]
  },
  {
   "cell_type": "code",
   "execution_count": 23,
   "metadata": {},
   "outputs": [],
   "source": [
    "for threshold in long_minus_short_thresholds:  \n",
    "  entries       = pd.Series(np.where((df['long_minus_short'] < threshold) & (df['long_slope'] > 0), True, False))\n",
    "  short_entries = pd.Series(np.where((df['long_minus_short'] < threshold) & (df['short_slope'] < 0), True, False))\n",
    "\n",
    "  num_entries = (entries == True).sum() + (short_entries == True).sum()\n",
    "\n",
    "  if num_entries > min_num_entries:\n",
    "    pf = vbt.Portfolio.from_signals(\n",
    "        high              = df['BTCUSDT_High'],\n",
    "        low               = df['BTCUSDT_Low'],\n",
    "        open              = df['BTCUSDT_Open'],\n",
    "        close             = df['BTCUSDT_Close'],\n",
    "        entries           = entries, # commented out for a short only backtest    \n",
    "        short_entries     = short_entries,\n",
    "        td_stop           = prediction_window, # Hold on to the position for 8 bars\n",
    "        time_delta_format = 'Rows', # Use the row index to calculate the time delta    \n",
    "        accumulate        = False,    \n",
    "        )\n",
    "\n",
    "    key = f\"Long minus short with slopes\"    \n",
    "    slopes = PredictionWindowSlopes(0, 0, None, None, threshold, EntryType.LONG_SHORT)\n",
    "    store_backtest_results(key, pf, results_as_list, slopes)"
   ]
  },
  {
   "cell_type": "code",
   "execution_count": 24,
   "metadata": {},
   "outputs": [],
   "source": [
    "for threshold in long_minus_short_thresholds:  \n",
    "  entries       = pd.Series(np.where((df['long_minus_short'] < threshold) & (df['long_slope' ] > 0) & (df['short_slope'] > 0), True, False))\n",
    "  short_entries = pd.Series(np.where((df['long_minus_short'] < threshold) & (df['short_slope'] < 0) & (df['long_slope' ] < 0), True, False))\n",
    "\n",
    "  num_entries = (entries == True).sum() + (short_entries == True).sum()\n",
    "\n",
    "  if num_entries > min_num_entries:\n",
    "    pf = vbt.Portfolio.from_signals(\n",
    "        high              = df['BTCUSDT_High'],\n",
    "        low               = df['BTCUSDT_Low'],\n",
    "        open              = df['BTCUSDT_Open'],\n",
    "        close             = df['BTCUSDT_Close'],\n",
    "        entries           = entries, # commented out for a short only backtest    \n",
    "        short_entries     = short_entries,\n",
    "        td_stop           = prediction_window, # Hold on to the position for 8 bars\n",
    "        time_delta_format = 'Rows', # Use the row index to calculate the time delta    \n",
    "        accumulate        = False,    \n",
    "        )\n",
    "\n",
    "    key = f\"Long minus short with slopes - type 2\"    \n",
    "    slopes = PredictionWindowSlopes(0, 0, None, None, threshold, EntryType.LONG_SHORT)\n",
    "    store_backtest_results(key, pf, results_as_list, slopes)"
   ]
  },
  {
   "cell_type": "code",
   "execution_count": 25,
   "metadata": {},
   "outputs": [],
   "source": [
    "for threshold in long_minus_short_thresholds:    \n",
    "  entries       = pd.Series(np.where((df['long_minus_short'] < threshold) & (df['long_slope'] > 0.001), True, False))\n",
    "  short_entries = pd.Series(np.where((df['long_minus_short'] < threshold) & (df['short_slope'] < 0.001), True, False))\n",
    "\n",
    "  num_entries = (entries == True).sum() + (short_entries == True).sum()\n",
    "\n",
    "  if num_entries > min_num_entries:\n",
    "    pf = vbt.Portfolio.from_signals(\n",
    "        high              = df['BTCUSDT_High'],\n",
    "        low               = df['BTCUSDT_Low'],\n",
    "        open              = df['BTCUSDT_Open'],\n",
    "        close             = df['BTCUSDT_Close'],\n",
    "        entries           = entries, # commented out for a short only backtest    \n",
    "        short_entries     = short_entries,\n",
    "        td_stop           = prediction_window, # Hold on to the position for 8 bars\n",
    "        time_delta_format = 'Rows', # Use the row index to calculate the time delta    \n",
    "        accumulate        = False,    \n",
    "        )\n",
    "\n",
    "    key = f\"Long minus short with slopes - type 3\"    \n",
    "    slopes = PredictionWindowSlopes(0.001, 0.001, None, None, threshold, EntryType.LONG_SHORT)\n",
    "    store_backtest_results(key, pf, results_as_list, slopes)"
   ]
  },
  {
   "cell_type": "code",
   "execution_count": null,
   "metadata": {},
   "outputs": [],
   "source": []
  },
  {
   "cell_type": "code",
   "execution_count": 26,
   "metadata": {},
   "outputs": [],
   "source": [
    "#run_backtest_long_minus_short_entry_type_long_short(df, results_as_list, prediction_window, threshold_increment, min_num_entries, quantiles)\n",
    "\n",
    "# loop 1 is split into 100\n",
    "# for threshold in long_minus_short_thresholds:  \n",
    "#   for long_slope_threshold in long_slope_quantile_values:\n",
    "#     for short_slope_threshold in short_slope_quantile_values:\n",
    "#       entries       = pd.Series(np.where((df['long_minus_short'] < threshold) & (df['long_slope'] > long_slope_threshold), True, False))\n",
    "#       short_entries = pd.Series(np.where((df['long_minus_short'] < threshold) & (df['short_slope'] < short_slope_threshold), True, False))\n",
    "\n",
    "#       num_entries = (entries == True).sum() + (short_entries == True).sum()\n",
    "\n",
    "#       if num_entries > min_num_entries:\n",
    "#         pf = vbt.Portfolio.from_signals(\n",
    "#             high              = df['BTCUSDT_High'],\n",
    "#             low               = df['BTCUSDT_Low'],\n",
    "#             open              = df['BTCUSDT_Open'],\n",
    "#             close             = df['BTCUSDT_Close'],\n",
    "#             entries           = entries, # commented out for a short only backtest    \n",
    "#             short_entries     = short_entries,\n",
    "#             td_stop           = prediction_window, # Hold on to the position for 8 bars\n",
    "#             time_delta_format = 'Rows', # Use the row index to calculate the time delta    \n",
    "#             accumulate        = False,    \n",
    "#             )\n",
    "\n",
    "#         key = f\"Long minus short with slopes - type 3\"    \n",
    "#         slopes = PredictionWindowSlopes(long_slope_threshold, short_slope_threshold, threshold, EntryType.LONG_SHORT)\n",
    "#         store_backtest_results(key, pf, results_as_list, slopes)"
   ]
  },
  {
   "cell_type": "code",
   "execution_count": null,
   "metadata": {},
   "outputs": [],
   "source": []
  },
  {
   "cell_type": "code",
   "execution_count": null,
   "metadata": {},
   "outputs": [],
   "source": []
  },
  {
   "cell_type": "code",
   "execution_count": null,
   "metadata": {},
   "outputs": [],
   "source": []
  },
  {
   "cell_type": "code",
   "execution_count": null,
   "metadata": {},
   "outputs": [],
   "source": []
  },
  {
   "cell_type": "markdown",
   "metadata": {},
   "source": [
    "# Exporting the results"
   ]
  },
  {
   "cell_type": "code",
   "execution_count": 27,
   "metadata": {},
   "outputs": [],
   "source": [
    "results_df = export_results(results_as_list)\n",
    "results_df.to_excel(excel_output_file_name)"
   ]
  },
  {
   "cell_type": "code",
   "execution_count": 28,
   "metadata": {},
   "outputs": [],
   "source": [
    "# Use groupby on the index (date) to calculate statistics\n",
    "# bars_per_day = df.groupby(df.index.date).size()\n",
    "# min_bars_per_day = df.groupby(df.index.date).size().min()\n",
    "# max_bars_per_day = df.groupby(df.index.date).size().max()\n",
    "# average_bars_per_day = df.groupby(df.index.date).size().mean()\n",
    "\n",
    "# print(\"Number of bars per day:\")\n",
    "# print(bars_per_day)\n",
    "\n",
    "# print(\"\\nMinimum bars per day:\", min_bars_per_day)\n",
    "# print(\"Maximum bars per day:\", max_bars_per_day)\n",
    "# print(\"Average bars per day:\", average_bars_per_day)\n",
    "# bars_per_day.to_csv(\"bars_per_day.csv\")\n",
    "\n",
    "# pf.trades.records_readable.to_csv(\"records_readable.csv\")"
   ]
  },
  {
   "cell_type": "code",
   "execution_count": 29,
   "metadata": {},
   "outputs": [],
   "source": [
    "# TODO: for Joe\n",
    "# entries       = pd.Series(np.where((df['long_minus_short'] < 0.615659479451176) & (df['long_slope' ] > 0) & (df['short_slope'] > 0), True, False))\n",
    "# short_entries = pd.Series(np.where((df['long_minus_short'] < 0.615659479451176) & (df['short_slope'] < 0) & (df['long_slope' ] < 0), True, False))\n",
    "# clean_entries, clean_short_entries = entries.vbt.signals.clean(short_entries)\n",
    "# clean_entries.sum() + clean_short_entries.sum()\n",
    "# pf.trades.records_readable"
   ]
  },
  {
   "cell_type": "markdown",
   "metadata": {},
   "source": [
    "- ### Other backtests - work in progress and code may not execute at all!!!"
   ]
  },
  {
   "cell_type": "code",
   "execution_count": 30,
   "metadata": {},
   "outputs": [
    {
     "data": {
      "text/plain": [
       "count   61111.00000\n",
       "mean       -0.00005\n",
       "std         0.00251\n",
       "min        -0.00405\n",
       "25%        -0.00234\n",
       "50%        -0.00008\n",
       "75%         0.00222\n",
       "max         0.00405\n",
       "Name: long_slope, dtype: float64"
      ]
     },
     "execution_count": 30,
     "metadata": {},
     "output_type": "execute_result"
    }
   ],
   "source": [
    "df['long_slope'].describe()"
   ]
  },
  {
   "cell_type": "code",
   "execution_count": 31,
   "metadata": {},
   "outputs": [
    {
     "data": {
      "text/plain": [
       "0.00000   -0.00405\n",
       "0.20000   -0.00315\n",
       "0.40000   -0.00148\n",
       "0.60000    0.00063\n",
       "0.80000    0.00259\n",
       "1.00000    0.00405\n",
       "Name: short_slope, dtype: float64"
      ]
     },
     "execution_count": 31,
     "metadata": {},
     "output_type": "execute_result"
    }
   ],
   "source": [
    "df['short_slope'].quantile(quantiles)"
   ]
  },
  {
   "cell_type": "code",
   "execution_count": 32,
   "metadata": {},
   "outputs": [
    {
     "data": {
      "text/plain": [
       "count   61111.00000\n",
       "mean       -0.00000\n",
       "std         0.00001\n",
       "min        -0.00007\n",
       "25%        -0.00001\n",
       "50%        -0.00000\n",
       "75%         0.00001\n",
       "max         0.00007\n",
       "Name: actual_slope, dtype: float64"
      ]
     },
     "execution_count": 32,
     "metadata": {},
     "output_type": "execute_result"
    }
   ],
   "source": [
    "df['actual_slope'].describe()"
   ]
  },
  {
   "cell_type": "code",
   "execution_count": 33,
   "metadata": {},
   "outputs": [
    {
     "data": {
      "text/plain": [
       "count   61111.00000\n",
       "mean        0.89544\n",
       "std         0.20902\n",
       "min         0.10839\n",
       "25%         0.74497\n",
       "50%         0.89507\n",
       "75%         1.05143\n",
       "max         1.41295\n",
       "Name: long_minus_short, dtype: float64"
      ]
     },
     "execution_count": 33,
     "metadata": {},
     "output_type": "execute_result"
    }
   ],
   "source": [
    "df['long_minus_short'].describe()"
   ]
  },
  {
   "cell_type": "code",
   "execution_count": 34,
   "metadata": {},
   "outputs": [],
   "source": [
    "# print(f\"Num entries = {(entries == True).sum()}\")\n",
    "# print(f\"Num short entries = {(short_entries == True).sum()}\")\n",
    "# new_df[\"long_slope\"].describe()"
   ]
  }
 ],
 "metadata": {
  "kernelspec": {
   "display_name": ".venv",
   "language": "python",
   "name": "python3"
  },
  "language_info": {
   "codemirror_mode": {
    "name": "ipython",
    "version": 3
   },
   "file_extension": ".py",
   "mimetype": "text/x-python",
   "name": "python",
   "nbconvert_exporter": "python",
   "pygments_lexer": "ipython3",
   "version": "3.10.6"
  },
  "orig_nbformat": 4
 },
 "nbformat": 4,
 "nbformat_minor": 2
}
