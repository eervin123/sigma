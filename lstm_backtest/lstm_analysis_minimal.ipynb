{
 "cells": [
  {
   "cell_type": "markdown",
   "metadata": {},
   "source": [
    "# Imports"
   ]
  },
  {
   "cell_type": "code",
   "execution_count": 1,
   "metadata": {},
   "outputs": [],
   "source": [
    "import pandas as pd\n",
    "import vectorbtpro as vbt\n",
    "import numpy as np"
   ]
  },
  {
   "cell_type": "markdown",
   "metadata": {},
   "source": [
    "# Initialization"
   ]
  },
  {
   "cell_type": "code",
   "execution_count": 2,
   "metadata": {},
   "outputs": [],
   "source": [
    "vbt.settings.wrapping [\"freq\"]                = \"1m\"\n",
    "vbt.settings.portfolio['init_cash']           = 10000"
   ]
  },
  {
   "cell_type": "markdown",
   "metadata": {},
   "source": [
    "# Settings and Parameters"
   ]
  },
  {
   "cell_type": "code",
   "execution_count": 3,
   "metadata": {},
   "outputs": [],
   "source": [
    "pickle_files_path = \"../data/RID0026_LSTM_pw75_lb250_bt2000_mem6000/*.pkl\"\n",
    "prediction_window = 75\n",
    "\n",
    "excel_output_file_name  = f\"../results/{pickle_files_path.split('/')[-2] + '.xlsx'}\""
   ]
  },
  {
   "cell_type": "markdown",
   "metadata": {},
   "source": [
    "# Local Imports"
   ]
  },
  {
   "cell_type": "code",
   "execution_count": 4,
   "metadata": {},
   "outputs": [],
   "source": [
    "import os\n",
    "import sys\n",
    "\n",
    "sys.path.append(os.getcwd())"
   ]
  },
  {
   "cell_type": "code",
   "execution_count": 5,
   "metadata": {},
   "outputs": [],
   "source": [
    "from lstm_analysis_utils import (read_pickle_files_into_df, add_forward_prices_to_df, generate_fwd_actual_column\n",
    "                                 , generate_df_with_euclidean_distances, calculate_slopes, calculate_correlation_slopes\n",
    "                                )\n",
    "from lstm_results_utils import (export_results, store_backtest_results)\n",
    "from lstm_analysis_constants import (ActionType, EntryType, LSTM_REVERSAL_EXITS_BACKTEST_RESULT_KEY\n",
    "                                     , LSTM_PREDICTION_WINDOW_EXITS_BACKTEST_RESULT_KEY)\n",
    "from quantile_value import generate_quantile_bands\n",
    "from prediction_window_slopes import PredictionWindowSlopes"
   ]
  },
  {
   "cell_type": "markdown",
   "metadata": {},
   "source": [
    "# Processing"
   ]
  },
  {
   "cell_type": "code",
   "execution_count": 6,
   "metadata": {},
   "outputs": [],
   "source": [
    "df = read_pickle_files_into_df(pickle_files_path)"
   ]
  },
  {
   "cell_type": "code",
   "execution_count": 7,
   "metadata": {},
   "outputs": [],
   "source": [
    "add_forward_prices_to_df(df, prediction_window)\n",
    "df = df.copy()  # for large prediction_window size, the copy() call eliminates the fragmented dataframe warning"
   ]
  },
  {
   "cell_type": "code",
   "execution_count": 8,
   "metadata": {},
   "outputs": [],
   "source": [
    "generate_fwd_actual_column(df)"
   ]
  },
  {
   "cell_type": "code",
   "execution_count": 9,
   "metadata": {},
   "outputs": [],
   "source": [
    "df = generate_df_with_euclidean_distances(df, prediction_window)"
   ]
  },
  {
   "cell_type": "code",
   "execution_count": 10,
   "metadata": {},
   "outputs": [],
   "source": [
    "calculate_slopes(df)"
   ]
  },
  {
   "cell_type": "code",
   "execution_count": 11,
   "metadata": {},
   "outputs": [
    {
     "name": "stdout",
     "output_type": "stream",
     "text": [
      "Correlation between Euclidean distance between long array and short array and future actual results:  0.1580986290742409\n",
      "Correlation between difference in long minus short predictions and future actual results for longs:  0.7410995138991072\n",
      "Correlation between difference in long minus short predictions and future actual results for shorts:  0.7619271447841974\n",
      "Correlation between long slopes and future results: 0.0004496569277633529\n",
      "Correlation between short slopes and future results: 0.02127331053907918\n"
     ]
    }
   ],
   "source": [
    "calculate_correlation_slopes(df)"
   ]
  },
  {
   "cell_type": "code",
   "execution_count": 12,
   "metadata": {},
   "outputs": [],
   "source": [
    "df.index = pd.to_datetime(df[\"close_time\"], utc=True, unit=\"s\")"
   ]
  },
  {
   "cell_type": "markdown",
   "metadata": {},
   "source": [
    "# Running backtest"
   ]
  },
  {
   "cell_type": "markdown",
   "metadata": {},
   "source": [
    "- ### Storing the results of the backtests"
   ]
  },
  {
   "cell_type": "code",
   "execution_count": 13,
   "metadata": {},
   "outputs": [],
   "source": [
    "results_as_list  = []"
   ]
  },
  {
   "cell_type": "markdown",
   "metadata": {},
   "source": [
    "- ### Baseline backtest - just listen to LSTM"
   ]
  },
  {
   "cell_type": "code",
   "execution_count": 14,
   "metadata": {},
   "outputs": [
    {
     "name": "stdout",
     "output_type": "stream",
     "text": [
      "--------LSTM_only_reversal_exits--------\n",
      "Total Return [%]: -11.55\n",
      "Win Rate [%]: 50.55\n",
      "Total Trades: 91\n"
     ]
    }
   ],
   "source": [
    "# Exits are from reversals, as our LSTM model doesn't produce exit signals\n",
    "entries         = pd.Series(np.where((df['recommendations'] == ActionType.OPEN_LONG  ), True, False))\n",
    "exits           = pd.Series(np.where((df['recommendations'] == ActionType.CLOSE_LONG ), True, False))\n",
    "short_entries   = pd.Series(np.where((df['recommendations'] == ActionType.OPEN_SHORT ), True, False))\n",
    "short_exits     = pd.Series(np.where((df['recommendations'] == ActionType.CLOSE_SHORT), True, False))\n",
    "\n",
    "pf = vbt.Portfolio.from_signals(\n",
    "    high                = df['BTCUSDT_High'],\n",
    "    low                 = df['BTCUSDT_Low'],\n",
    "    open                = df['BTCUSDT_Open'],\n",
    "    close               = df['BTCUSDT_Close'],\n",
    "    entries             = entries, # commented out for a short only backtest\n",
    "    exits               = exits,\n",
    "    short_entries       = short_entries,\n",
    "    short_exits         = short_exits,    \n",
    "    time_delta_format   = 'Rows', # Use the row index to calculate the time delta    \n",
    "    )\n",
    "\n",
    "store_backtest_results(LSTM_REVERSAL_EXITS_BACKTEST_RESULT_KEY, pf, results_as_list, None, True)"
   ]
  },
  {
   "cell_type": "code",
   "execution_count": 15,
   "metadata": {},
   "outputs": [
    {
     "name": "stdout",
     "output_type": "stream",
     "text": [
      "--------LSTM_only_prediction_window_exits--------\n",
      "Total Return [%]: -32.04\n",
      "Win Rate [%]: 47.74\n",
      "Total Trades: 687\n"
     ]
    }
   ],
   "source": [
    "# Exits are controlled by td_stop\n",
    "entries         = pd.Series(np.where((df['recommendations'] == ActionType.OPEN_LONG  ), True, False))\n",
    "short_entries   = pd.Series(np.where((df['recommendations'] == ActionType.OPEN_SHORT ), True, False))\n",
    "\n",
    "pf = vbt.Portfolio.from_signals(\n",
    "    high                = df['BTCUSDT_High'],\n",
    "    low                 = df['BTCUSDT_Low'],\n",
    "    open                = df['BTCUSDT_Open'],\n",
    "    close               = df['BTCUSDT_Close'],\n",
    "    entries             = entries, # commented out for a short only backtest    \n",
    "    short_entries       = short_entries,     \n",
    "    td_stop             = prediction_window,\n",
    "    time_delta_format   = 'Rows', # Use the row index to calculate the time delta    \n",
    "    )\n",
    "store_backtest_results(LSTM_PREDICTION_WINDOW_EXITS_BACKTEST_RESULT_KEY, pf, results_as_list, None, True)"
   ]
  },
  {
   "cell_type": "markdown",
   "metadata": {},
   "source": [
    "- ### Using different slope quantiles"
   ]
  },
  {
   "cell_type": "code",
   "execution_count": 16,
   "metadata": {},
   "outputs": [],
   "source": [
    "num_quantiles               = 5\n",
    "threshold_increment         = 0.0004\n",
    "quantiles                   = np.linspace(0, 1, num=num_quantiles + 1)"
   ]
  },
  {
   "cell_type": "markdown",
   "metadata": {},
   "source": [
    "- #### long_slope and short_slope"
   ]
  },
  {
   "cell_type": "code",
   "execution_count": 17,
   "metadata": {},
   "outputs": [],
   "source": [
    "long_slope_quantile_bands  = generate_quantile_bands(df[\"long_slope\"].quantile(quantiles))\n",
    "short_slope_quantile_bands = generate_quantile_bands(df[\"short_slope\"].quantile(quantiles))  "
   ]
  },
  {
   "cell_type": "code",
   "execution_count": 18,
   "metadata": {},
   "outputs": [],
   "source": [
    "for long_band in long_slope_quantile_bands:\n",
    "  for short_band in short_slope_quantile_bands:    \n",
    "    entry_slope_threshold       = [x for x in np.arange(long_band.lower_bound.value , long_band.upper_bound.value , threshold_increment)]\n",
    "    short_entry_slope_threshold = [x for x in np.arange(short_band.lower_bound.value, short_band.upper_bound.value, threshold_increment)]\n",
    "\n",
    "    for t1 in entry_slope_threshold:    \n",
    "      for t2 in short_entry_slope_threshold:        \n",
    "        entries       = pd.Series(np.where((df['long_slope' ] > t1  ), True, False))\n",
    "        short_entries = pd.Series(np.where((df['short_slope'] < -t2 ), True, False))        \n",
    "\n",
    "        num_trades = (entries == True).sum() + (short_entries == True).sum()\n",
    "\n",
    "        if num_trades > 0:    \n",
    "          pf = vbt.Portfolio.from_signals(\n",
    "              high              = df['BTCUSDT_High'],\n",
    "              low               = df['BTCUSDT_Low'],\n",
    "              open              = df['BTCUSDT_Open'],\n",
    "              close             = df['BTCUSDT_Close'],\n",
    "              entries           = entries, # commented out for a short only backtest          \n",
    "              short_entries     = short_entries,\n",
    "              td_stop           = prediction_window, # Hold on to the position for 8 bars\n",
    "              time_delta_format = 'Rows', # Use the row index to calculate the time delta              \n",
    "              accumulate        = False,\n",
    "              # sl_stop = 0.005,\n",
    "              )    \n",
    "          \n",
    "          key = f\"Prediction window exits\"\n",
    "          slopes = PredictionWindowSlopes(t1, t2, None, EntryType.LONG_SHORT)\n",
    "          store_backtest_results(key, pf, results_as_list, slopes)      "
   ]
  },
  {
   "cell_type": "code",
   "execution_count": 19,
   "metadata": {},
   "outputs": [],
   "source": [
    "for long_band in long_slope_quantile_bands:\n",
    "  for short_band in short_slope_quantile_bands:    \n",
    "    entry_slope_threshold       = [x for x in np.arange(long_band.lower_bound.value , long_band.upper_bound.value , threshold_increment)]\n",
    "    short_entry_slope_threshold = [x for x in np.arange(short_band.lower_bound.value, short_band.upper_bound.value, threshold_increment)]\n",
    "\n",
    "    for t1 in entry_slope_threshold:      \n",
    "      exit_t1_threshold = t1 * 0.5\n",
    "\n",
    "      for t2 in short_entry_slope_threshold:\n",
    "        exit_t2_threshold = t2 * 0.5\n",
    "\n",
    "        entries       = pd.Series(np.where((df['long_slope' ] > t1  ), True, False))\n",
    "        short_entries = pd.Series(np.where((df['short_slope'] < -t2 ), True, False))\n",
    "\n",
    "        exits         = pd.Series(np.where((df['long_slope' ] < exit_t1_threshold  ), True, False)) \n",
    "        short_exits   = pd.Series(np.where((df['short_slope'] > -exit_t2_threshold ), True, False))\n",
    "\n",
    "        num_trades = (entries == True).sum() + (short_entries == True).sum()\n",
    "\n",
    "        if num_trades > 0:    \n",
    "          pf = vbt.Portfolio.from_signals(\n",
    "              high              = df['BTCUSDT_High'],\n",
    "              low               = df['BTCUSDT_Low'],\n",
    "              open              = df['BTCUSDT_Open'],\n",
    "              close             = df['BTCUSDT_Close'],\n",
    "              entries           = entries, # commented out for a short only backtest          \n",
    "              exits             = exits,\n",
    "              short_entries     = short_entries,              \n",
    "              short_exits       = short_exits,\n",
    "              time_delta_format = 'Rows', # Use the row index to calculate the time delta              \n",
    "              accumulate        = False,\n",
    "              # sl_stop = 0.005,\n",
    "              )    \n",
    "          \n",
    "          key = f\"Fractional slope exits\"\n",
    "          slopes = PredictionWindowSlopes(t1, t2, None, EntryType.LONG_SHORT)\n",
    "          store_backtest_results(key, pf, results_as_list, slopes)      "
   ]
  },
  {
   "cell_type": "markdown",
   "metadata": {},
   "source": [
    "- #### long_minus_short"
   ]
  },
  {
   "cell_type": "code",
   "execution_count": 20,
   "metadata": {},
   "outputs": [],
   "source": [
    "long_minus_short_min = df['long_minus_short'].min()\n",
    "long_minus_short_max = df['long_minus_short'].max()\n",
    "\n",
    "long_minus_short_thresholds = [x for x in np.arange(long_minus_short_min, long_minus_short_max, threshold_increment)]"
   ]
  },
  {
   "cell_type": "code",
   "execution_count": 21,
   "metadata": {},
   "outputs": [],
   "source": [
    "for threshold in long_minus_short_thresholds:\n",
    "    entries = pd.Series(np.where((df['long_minus_short'] < threshold), True, False))\n",
    "\n",
    "    num_trades = (entries == True).sum()\n",
    "\n",
    "    if num_trades > 0:\n",
    "        pf = vbt.Portfolio.from_signals(\n",
    "            high              = df['BTCUSDT_High'],\n",
    "            low               = df['BTCUSDT_Low'],\n",
    "            open              = df['BTCUSDT_Open'],\n",
    "            close             = df['BTCUSDT_Close'],\n",
    "            entries           = entries, # commented out for a short only backtest    \n",
    "            td_stop           = prediction_window, # Hold on to the position for 8 bars\n",
    "            time_delta_format = 'Rows', # Use the row index to calculate the time delta    \n",
    "            accumulate        = False,    \n",
    "            )\n",
    "        \n",
    "        key = f\"Long minus short\"    \n",
    "        slopes = PredictionWindowSlopes(None, None, threshold, EntryType.LONG_ONLY)\n",
    "        store_backtest_results(key, pf, results_as_list, slopes)"
   ]
  },
  {
   "cell_type": "code",
   "execution_count": 22,
   "metadata": {},
   "outputs": [],
   "source": [
    "for threshold in long_minus_short_thresholds:\n",
    "    short_entries = pd.Series(np.where((df['long_minus_short'] < threshold), True, False))\n",
    "\n",
    "    num_trades = (short_entries == True).sum()\n",
    "\n",
    "    if num_trades > 0:\n",
    "        pf = vbt.Portfolio.from_signals(\n",
    "            high              = df['BTCUSDT_High'],\n",
    "            low               = df['BTCUSDT_Low'],\n",
    "            open              = df['BTCUSDT_Open'],\n",
    "            close             = df['BTCUSDT_Close'],\n",
    "            short_entries     = short_entries, # commented out for a short only backtest    \n",
    "            td_stop           = prediction_window, # Hold on to the position for 8 bars\n",
    "            time_delta_format = 'Rows', # Use the row index to calculate the time delta    \n",
    "            accumulate        = False,    \n",
    "            )\n",
    "        \n",
    "        key = f\"Long minus short\"    \n",
    "        slopes = PredictionWindowSlopes(None, None, threshold, EntryType.SHORT_ONLY)\n",
    "        store_backtest_results(key, pf, results_as_list, slopes)"
   ]
  },
  {
   "cell_type": "code",
   "execution_count": 23,
   "metadata": {},
   "outputs": [],
   "source": [
    "# for threshold in long_minus_short_thresholds:\n",
    "#   for long_band in long_slope_quantile_bands:\n",
    "#     for short_band in short_slope_quantile_bands:    \n",
    "#       entry_slope_threshold       = [x for x in np.arange(long_band.lower_bound.value , long_band.upper_bound.value , threshold_increment)]\n",
    "#       short_entry_slope_threshold = [x for x in np.arange(short_band.lower_bound.value, short_band.upper_bound.value, threshold_increment)]\n",
    "\n",
    "#       for t1 in entry_slope_threshold:    \n",
    "#         for t2 in short_entry_slope_threshold: \n",
    "#           entries       = pd.Series(np.where((df['long_minus_short'] < threshold) & (df['long_slope'] > t1), True, False))\n",
    "#           short_entries = pd.Series(np.where((df['long_minus_short'] < threshold) & (df['short_slope'] < t2), True, False))\n",
    "\n",
    "#           num_trades = (entries == True).sum() + (short_entries == True).sum()\n",
    "\n",
    "#           if num_trades > 0:\n",
    "#             pf = vbt.Portfolio.from_signals(\n",
    "#                 high              = df['BTCUSDT_High'],\n",
    "#                 low               = df['BTCUSDT_Low'],\n",
    "#                 open              = df['BTCUSDT_Open'],\n",
    "#                 close             = df['BTCUSDT_Close'],\n",
    "#                 entries           = entries, # commented out for a short only backtest    \n",
    "#                 short_entries     = short_entries,\n",
    "#                 td_stop           = prediction_window, # Hold on to the position for 8 bars\n",
    "#                 time_delta_format = 'Rows', # Use the row index to calculate the time delta    \n",
    "#                 accumulate        = False,    \n",
    "#                 )\n",
    "        \n",
    "#             key = f\"Long minus short with slopes\"    \n",
    "#             slopes = PredictionWindowSlopes(t1, t2, threshold, EntryType.LONG_SHORT)\n",
    "#             store_backtest_results(key, pf, results_as_list, slopes)"
   ]
  },
  {
   "cell_type": "code",
   "execution_count": 24,
   "metadata": {},
   "outputs": [],
   "source": [
    "for threshold in long_minus_short_thresholds:  \n",
    "  entries       = pd.Series(np.where((df['long_minus_short'] < threshold) & (df['long_slope'] > 0), True, False))\n",
    "  short_entries = pd.Series(np.where((df['long_minus_short'] < threshold) & (df['short_slope'] < 0), True, False))\n",
    "\n",
    "  num_trades = (entries == True).sum() + (short_entries == True).sum()\n",
    "\n",
    "  if num_trades > 0:\n",
    "    pf = vbt.Portfolio.from_signals(\n",
    "        high              = df['BTCUSDT_High'],\n",
    "        low               = df['BTCUSDT_Low'],\n",
    "        open              = df['BTCUSDT_Open'],\n",
    "        close             = df['BTCUSDT_Close'],\n",
    "        entries           = entries, # commented out for a short only backtest    \n",
    "        short_entries     = short_entries,\n",
    "        td_stop           = prediction_window, # Hold on to the position for 8 bars\n",
    "        time_delta_format = 'Rows', # Use the row index to calculate the time delta    \n",
    "        accumulate        = False,    \n",
    "        )\n",
    "\n",
    "    key = f\"Long minus short with slopes\"    \n",
    "    slopes = PredictionWindowSlopes(0, 0, threshold, EntryType.LONG_SHORT)\n",
    "    store_backtest_results(key, pf, results_as_list, slopes)"
   ]
  },
  {
   "cell_type": "code",
   "execution_count": null,
   "metadata": {},
   "outputs": [],
   "source": [
    "for threshold in long_minus_short_thresholds:  \n",
    "  entries       = pd.Series(np.where((df['long_minus_short'] < threshold) & (df['long_slope' ] > 0) & (df['short_slope'] > 0), True, False))\n",
    "  short_entries = pd.Series(np.where((df['long_minus_short'] < threshold) & (df['short_slope'] < 0) & (df['long_slope' ] < 0), True, False))\n",
    "\n",
    "  num_trades = (entries == True).sum() + (short_entries == True).sum()\n",
    "\n",
    "  if num_trades > 0:\n",
    "    pf = vbt.Portfolio.from_signals(\n",
    "        high              = df['BTCUSDT_High'],\n",
    "        low               = df['BTCUSDT_Low'],\n",
    "        open              = df['BTCUSDT_Open'],\n",
    "        close             = df['BTCUSDT_Close'],\n",
    "        entries           = entries, # commented out for a short only backtest    \n",
    "        short_entries     = short_entries,\n",
    "        td_stop           = prediction_window, # Hold on to the position for 8 bars\n",
    "        time_delta_format = 'Rows', # Use the row index to calculate the time delta    \n",
    "        accumulate        = False,    \n",
    "        )\n",
    "\n",
    "    key = f\"Long minus short with slopes - type 2\"    \n",
    "    slopes = PredictionWindowSlopes(0, 0, threshold, EntryType.LONG_SHORT)\n",
    "    store_backtest_results(key, pf, results_as_list, slopes)"
   ]
  },
  {
   "cell_type": "code",
   "execution_count": 32,
   "metadata": {},
   "outputs": [],
   "source": []
  },
  {
   "cell_type": "markdown",
   "metadata": {},
   "source": [
    "# Exporting the results"
   ]
  },
  {
   "cell_type": "code",
   "execution_count": 25,
   "metadata": {},
   "outputs": [],
   "source": [
    "results_df = export_results(results_as_list)\n",
    "results_df.to_excel(excel_output_file_name)"
   ]
  },
  {
   "cell_type": "code",
   "execution_count": 26,
   "metadata": {},
   "outputs": [],
   "source": [
    "# Use groupby on the index (date) to calculate statistics\n",
    "# bars_per_day = df.groupby(df.index.date).size()\n",
    "# min_bars_per_day = df.groupby(df.index.date).size().min()\n",
    "# max_bars_per_day = df.groupby(df.index.date).size().max()\n",
    "# average_bars_per_day = df.groupby(df.index.date).size().mean()\n",
    "\n",
    "# print(\"Number of bars per day:\")\n",
    "# print(bars_per_day)\n",
    "\n",
    "# print(\"\\nMinimum bars per day:\", min_bars_per_day)\n",
    "# print(\"Maximum bars per day:\", max_bars_per_day)\n",
    "# print(\"Average bars per day:\", average_bars_per_day)\n",
    "# bars_per_day.to_csv(\"bars_per_day.csv\")\n",
    "\n",
    "# pf.trades.records_readable.to_csv(\"records_readable.csv\")"
   ]
  },
  {
   "cell_type": "markdown",
   "metadata": {},
   "source": [
    "- ### Other backtests - work in progress and code may not execute at all!!!"
   ]
  },
  {
   "cell_type": "code",
   "execution_count": 27,
   "metadata": {},
   "outputs": [
    {
     "data": {
      "text/plain": [
       "count   66165.00000\n",
       "mean       -0.00009\n",
       "std         0.00066\n",
       "min        -0.00105\n",
       "25%        -0.00070\n",
       "50%        -0.00014\n",
       "75%         0.00050\n",
       "max         0.00105\n",
       "Name: long_slope, dtype: float64"
      ]
     },
     "execution_count": 27,
     "metadata": {},
     "output_type": "execute_result"
    }
   ],
   "source": [
    "df['long_slope'].describe()"
   ]
  },
  {
   "cell_type": "code",
   "execution_count": 28,
   "metadata": {},
   "outputs": [
    {
     "data": {
      "text/plain": [
       "0.00000   -0.00105\n",
       "0.20000   -0.00079\n",
       "0.40000   -0.00029\n",
       "0.60000    0.00031\n",
       "0.80000    0.00077\n",
       "1.00000    0.00105\n",
       "Name: short_slope, dtype: float64"
      ]
     },
     "execution_count": 28,
     "metadata": {},
     "output_type": "execute_result"
    }
   ],
   "source": [
    "df['short_slope'].quantile(quantiles)"
   ]
  },
  {
   "cell_type": "code",
   "execution_count": 29,
   "metadata": {},
   "outputs": [
    {
     "data": {
      "text/plain": [
       "count   66165.00000\n",
       "mean       -0.00000\n",
       "std         0.00000\n",
       "min        -0.00002\n",
       "25%        -0.00000\n",
       "50%        -0.00000\n",
       "75%         0.00000\n",
       "max         0.00002\n",
       "Name: actual_slope, dtype: float64"
      ]
     },
     "execution_count": 29,
     "metadata": {},
     "output_type": "execute_result"
    }
   ],
   "source": [
    "df['actual_slope'].describe()"
   ]
  },
  {
   "cell_type": "code",
   "execution_count": 30,
   "metadata": {},
   "outputs": [
    {
     "data": {
      "text/plain": [
       "count   66165.00000\n",
       "mean        0.88757\n",
       "std         0.20022\n",
       "min         0.09543\n",
       "25%         0.74038\n",
       "50%         0.88382\n",
       "75%         1.03607\n",
       "max         1.41243\n",
       "Name: long_minus_short, dtype: float64"
      ]
     },
     "execution_count": 30,
     "metadata": {},
     "output_type": "execute_result"
    }
   ],
   "source": [
    "df['long_minus_short'].describe()"
   ]
  },
  {
   "cell_type": "code",
   "execution_count": 31,
   "metadata": {},
   "outputs": [
    {
     "ename": "SyntaxError",
     "evalue": "invalid syntax (497242019.py, line 7)",
     "output_type": "error",
     "traceback": [
      "\u001b[0;36m  Cell \u001b[0;32mIn[31], line 7\u001b[0;36m\u001b[0m\n\u001b[0;31m    entries = pd.Series(np.where((df['long_minus_short'] < long_minus_short_t & long_slope > ??), True, False))\u001b[0m\n\u001b[0m                                                                                             ^\u001b[0m\n\u001b[0;31mSyntaxError\u001b[0m\u001b[0;31m:\u001b[0m invalid syntax\n"
     ]
    }
   ],
   "source": [
    "# Set up entries and exits based on the slope\n",
    "entry_slope_threshold = 0.0000\n",
    "short_entry_slope_threshold = 0.0000\n",
    "entries = pd.Series(np.where((df['long_slope'] > entry_slope_threshold), True, False))\n",
    "long_minus_short_t = 0.4\n",
    "entries = pd.Series(np.where((df['long_minus_short'] < long_minus_short_t), True, False))\n",
    "entries = pd.Series(np.where((df['long_minus_short'] < long_minus_short_t & long_slope > ??), True, False))\n",
    "#short_entries = pd.Series(np.where((new_df['short_slope'] < -short_entry_slope_threshold), True, False))\n",
    "#short_entries = pd.Series(np.where((new_df['long_minus_short'] < long_minus_short_t), True, False))\n",
    "pf = vbt.Portfolio.from_signals(\n",
    "    high=df['BTCUSDT_High'],\n",
    "    low=df['BTCUSDT_Low'],\n",
    "    open=df['BTCUSDT_Open'],\n",
    "    close=df['BTCUSDT_Close'],\n",
    "    entries=entries, # commented out for a short only backtest\n",
    "    # exits = result_df['long_slope']<0.04,\n",
    "    #short_entries=short_entries,\n",
    "    td_stop = prediction_window, # Hold on to the position for 8 bars\n",
    "    time_delta_format = 'Rows', # Use the row index to calculate the time delta\n",
    "    # tp_stop = 0.01,\n",
    "    accumulate=False,\n",
    "    # sl_stop = 0.005,\n",
    "    )\n",
    "print(pf.stats())"
   ]
  },
  {
   "cell_type": "code",
   "execution_count": null,
   "metadata": {},
   "outputs": [],
   "source": [
    "# print(f\"Num entries = {(entries == True).sum()}\")\n",
    "# print(f\"Num short entries = {(short_entries == True).sum()}\")\n",
    "# new_df[\"long_slope\"].describe()"
   ]
  },
  {
   "cell_type": "code",
   "execution_count": null,
   "metadata": {},
   "outputs": [],
   "source": []
  }
 ],
 "metadata": {
  "kernelspec": {
   "display_name": ".venv",
   "language": "python",
   "name": "python3"
  },
  "language_info": {
   "codemirror_mode": {
    "name": "ipython",
    "version": 3
   },
   "file_extension": ".py",
   "mimetype": "text/x-python",
   "name": "python",
   "nbconvert_exporter": "python",
   "pygments_lexer": "ipython3",
   "version": "3.10.6"
  },
  "orig_nbformat": 4
 },
 "nbformat": 4,
 "nbformat_minor": 2
}
