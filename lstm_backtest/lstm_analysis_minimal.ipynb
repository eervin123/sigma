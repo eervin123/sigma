{
 "cells": [
  {
   "cell_type": "markdown",
   "metadata": {},
   "source": [
    "# Imports"
   ]
  },
  {
   "cell_type": "code",
   "execution_count": null,
   "metadata": {},
   "outputs": [],
   "source": [
    "import pandas as pd\n",
    "import vectorbtpro as vbt\n",
    "import numpy as np"
   ]
  },
  {
   "cell_type": "markdown",
   "metadata": {},
   "source": [
    "# Initialization"
   ]
  },
  {
   "cell_type": "code",
   "execution_count": null,
   "metadata": {},
   "outputs": [],
   "source": [
    "vbt.settings.wrapping [\"freq\"]                = \"1m\"\n",
    "vbt.settings.portfolio['init_cash']           = 10000"
   ]
  },
  {
   "cell_type": "markdown",
   "metadata": {},
   "source": [
    "# Settings and Parameters"
   ]
  },
  {
   "cell_type": "code",
   "execution_count": null,
   "metadata": {},
   "outputs": [],
   "source": [
    "pickle_files_path = \"../data/RID0023_LSTM_pw75_lb250_bt2000_mem3000/*.pkl\"\n",
    "prediction_window = 75\n",
    "\n",
    "excel_output_file_name  = f\"../results/{pickle_files_path.split('/')[-2] + '.xlsx'}\""
   ]
  },
  {
   "cell_type": "markdown",
   "metadata": {},
   "source": [
    "# Local Imports"
   ]
  },
  {
   "cell_type": "code",
   "execution_count": null,
   "metadata": {},
   "outputs": [],
   "source": [
    "import os\n",
    "import sys\n",
    "\n",
    "sys.path.append(os.getcwd())"
   ]
  },
  {
   "cell_type": "code",
   "execution_count": null,
   "metadata": {},
   "outputs": [],
   "source": [
    "from lstm_analysis_utils import (read_pickle_files_into_df, add_forward_prices_to_df, generate_fwd_actual_column\n",
    "                                 , generate_df_with_euclidean_distances, calculate_slopes, calculate_correlation_slopes\n",
    "                                )\n",
    "from lstm_results_utils import (export_results, store_backtest_results)\n",
    "from lstm_analysis_constants import (ActionType, EntryType, LSTM_REVERSAL_EXITS_BACKTEST_RESULT_KEY\n",
    "                                     , LSTM_PREDICTION_WINDOW_EXITS_BACKTEST_RESULT_KEY)\n",
    "from quantile_value import generate_quantile_bands\n",
    "from prediction_window_slopes import PredictionWindowSlopes"
   ]
  },
  {
   "cell_type": "markdown",
   "metadata": {},
   "source": [
    "# Processing"
   ]
  },
  {
   "cell_type": "code",
   "execution_count": null,
   "metadata": {},
   "outputs": [],
   "source": [
    "df = read_pickle_files_into_df(pickle_files_path)"
   ]
  },
  {
   "cell_type": "code",
   "execution_count": null,
   "metadata": {},
   "outputs": [],
   "source": [
    "add_forward_prices_to_df(df, prediction_window)\n",
    "df = df.copy()  # for large prediction_window size, the copy() call eliminates the fragmented dataframe warning"
   ]
  },
  {
   "cell_type": "code",
   "execution_count": null,
   "metadata": {},
   "outputs": [],
   "source": [
    "generate_fwd_actual_column(df)"
   ]
  },
  {
   "cell_type": "code",
   "execution_count": null,
   "metadata": {},
   "outputs": [],
   "source": [
    "df = generate_df_with_euclidean_distances(df, prediction_window)"
   ]
  },
  {
   "cell_type": "code",
   "execution_count": null,
   "metadata": {},
   "outputs": [],
   "source": [
    "calculate_slopes(df)"
   ]
  },
  {
   "cell_type": "code",
   "execution_count": null,
   "metadata": {},
   "outputs": [],
   "source": [
    "calculate_correlation_slopes(df)"
   ]
  },
  {
   "cell_type": "markdown",
   "metadata": {},
   "source": [
    "# Running backtest"
   ]
  },
  {
   "cell_type": "markdown",
   "metadata": {},
   "source": [
    "- ### Storing the results of the backtests"
   ]
  },
  {
   "cell_type": "code",
   "execution_count": null,
   "metadata": {},
   "outputs": [],
   "source": [
    "results_as_list  = []"
   ]
  },
  {
   "cell_type": "markdown",
   "metadata": {},
   "source": [
    "- ### Baseline backtest - just listen to LSTM"
   ]
  },
  {
   "cell_type": "code",
   "execution_count": null,
   "metadata": {},
   "outputs": [],
   "source": [
    "# Exits are from reversals, as our LSTM model doesn't produce exit signals\n",
    "entries         = pd.Series(np.where((df['recommendations'] == ActionType.OPEN_LONG  ), True, False))\n",
    "exits           = pd.Series(np.where((df['recommendations'] == ActionType.CLOSE_LONG ), True, False))\n",
    "short_entries   = pd.Series(np.where((df['recommendations'] == ActionType.OPEN_SHORT ), True, False))\n",
    "short_exits     = pd.Series(np.where((df['recommendations'] == ActionType.CLOSE_SHORT), True, False))\n",
    "\n",
    "pf = vbt.Portfolio.from_signals(\n",
    "    high                = df['BTCUSDT_High'],\n",
    "    low                 = df['BTCUSDT_Low'],\n",
    "    open                = df['BTCUSDT_Open'],\n",
    "    close               = df['BTCUSDT_Close'],\n",
    "    entries             = entries, # commented out for a short only backtest\n",
    "    exits               = exits,\n",
    "    short_entries       = short_entries,\n",
    "    short_exits         = short_exits,    \n",
    "    time_delta_format   = 'Rows', # Use the row index to calculate the time delta    \n",
    "    )\n",
    "\n",
    "store_backtest_results(LSTM_REVERSAL_EXITS_BACKTEST_RESULT_KEY, pf, results_as_list, None, True)"
   ]
  },
  {
   "cell_type": "code",
   "execution_count": null,
   "metadata": {},
   "outputs": [],
   "source": [
    "# Exits are controlled by td_stop\n",
    "entries         = pd.Series(np.where((df['recommendations'] == ActionType.OPEN_LONG  ), True, False))\n",
    "short_entries   = pd.Series(np.where((df['recommendations'] == ActionType.OPEN_SHORT ), True, False))\n",
    "\n",
    "pf = vbt.Portfolio.from_signals(\n",
    "    high                = df['BTCUSDT_High'],\n",
    "    low                 = df['BTCUSDT_Low'],\n",
    "    open                = df['BTCUSDT_Open'],\n",
    "    close               = df['BTCUSDT_Close'],\n",
    "    entries             = entries, # commented out for a short only backtest    \n",
    "    short_entries       = short_entries,     \n",
    "    td_stop             = prediction_window,\n",
    "    time_delta_format   = 'Rows', # Use the row index to calculate the time delta    \n",
    "    )\n",
    "store_backtest_results(LSTM_PREDICTION_WINDOW_EXITS_BACKTEST_RESULT_KEY, pf, results_as_list, None, True)"
   ]
  },
  {
   "cell_type": "markdown",
   "metadata": {},
   "source": [
    "- ### Using different slope quantiles"
   ]
  },
  {
   "cell_type": "code",
   "execution_count": null,
   "metadata": {},
   "outputs": [],
   "source": [
    "num_quantiles               = 5\n",
    "threshold_increment         = 0.0001\n",
    "quantiles                   = np.linspace(0, 1, num=num_quantiles + 1)"
   ]
  },
  {
   "cell_type": "markdown",
   "metadata": {},
   "source": [
    "- #### long_slope and short_slope"
   ]
  },
  {
   "cell_type": "code",
   "execution_count": null,
   "metadata": {},
   "outputs": [],
   "source": [
    "long_slope_quantile_bands  = generate_quantile_bands(df[\"long_slope\"].quantile(quantiles))\n",
    "short_slope_quantile_bands = generate_quantile_bands(df[\"short_slope\"].quantile(quantiles))  "
   ]
  },
  {
   "cell_type": "code",
   "execution_count": null,
   "metadata": {},
   "outputs": [],
   "source": [
    "for long_band in long_slope_quantile_bands:\n",
    "  for short_band in short_slope_quantile_bands:    \n",
    "    entry_slope_threshold       = [x for x in np.arange(long_band.lower_bound.value , long_band.upper_bound.value , threshold_increment)]\n",
    "    short_entry_slope_threshold = [x for x in np.arange(short_band.lower_bound.value, short_band.upper_bound.value, threshold_increment)]\n",
    "\n",
    "    for t1 in entry_slope_threshold:    \n",
    "      for t2 in short_entry_slope_threshold:        \n",
    "        entries       = pd.Series(np.where((df['long_slope' ] > t1  ), True, False))\n",
    "        short_entries = pd.Series(np.where((df['short_slope'] < -t2 ), True, False))        \n",
    "\n",
    "        num_trades = (entries == True).sum() + (short_entries == True).sum()\n",
    "\n",
    "        if num_trades > 0:    \n",
    "          pf = vbt.Portfolio.from_signals(\n",
    "              high              = df['BTCUSDT_High'],\n",
    "              low               = df['BTCUSDT_Low'],\n",
    "              open              = df['BTCUSDT_Open'],\n",
    "              close             = df['BTCUSDT_Close'],\n",
    "              entries           = entries, # commented out for a short only backtest          \n",
    "              short_entries     = short_entries,\n",
    "              td_stop           = prediction_window, # Hold on to the position for 8 bars\n",
    "              time_delta_format = 'Rows', # Use the row index to calculate the time delta              \n",
    "              accumulate        = False,\n",
    "              # sl_stop = 0.005,\n",
    "              )    \n",
    "          \n",
    "          key = f\"Prediction window exits\"\n",
    "          slopes = PredictionWindowSlopes(t1, t2, None, EntryType.LONG_SHORT)\n",
    "          store_backtest_results(key, pf, results_as_list, slopes)      "
   ]
  },
  {
   "cell_type": "code",
   "execution_count": null,
   "metadata": {},
   "outputs": [],
   "source": [
    "for long_band in long_slope_quantile_bands:\n",
    "  for short_band in short_slope_quantile_bands:    \n",
    "    entry_slope_threshold       = [x for x in np.arange(long_band.lower_bound.value , long_band.upper_bound.value , threshold_increment)]\n",
    "    short_entry_slope_threshold = [x for x in np.arange(short_band.lower_bound.value, short_band.upper_bound.value, threshold_increment)]\n",
    "\n",
    "    for t1 in entry_slope_threshold:      \n",
    "      exit_t1_threshold = t1 * 0.5\n",
    "\n",
    "      for t2 in short_entry_slope_threshold:\n",
    "        exit_t2_threshold = t2 * 0.5\n",
    "\n",
    "        entries       = pd.Series(np.where((df['long_slope' ] > t1  ), True, False))\n",
    "        short_entries = pd.Series(np.where((df['short_slope'] < -t2 ), True, False))\n",
    "\n",
    "        exits         = pd.Series(np.where((df['long_slope' ] < exit_t1_threshold  ), True, False)) \n",
    "        short_exits   = pd.Series(np.where((df['short_slope'] > -exit_t2_threshold ), True, False))\n",
    "\n",
    "        num_trades = (entries == True).sum() + (short_entries == True).sum()\n",
    "\n",
    "        if num_trades > 0:    \n",
    "          pf = vbt.Portfolio.from_signals(\n",
    "              high              = df['BTCUSDT_High'],\n",
    "              low               = df['BTCUSDT_Low'],\n",
    "              open              = df['BTCUSDT_Open'],\n",
    "              close             = df['BTCUSDT_Close'],\n",
    "              entries           = entries, # commented out for a short only backtest          \n",
    "              exits             = exits,\n",
    "              short_entries     = short_entries,              \n",
    "              short_exits       = short_exits,\n",
    "              time_delta_format = 'Rows', # Use the row index to calculate the time delta              \n",
    "              accumulate        = False,\n",
    "              # sl_stop = 0.005,\n",
    "              )    \n",
    "          \n",
    "          key = f\"Fractional slope exits\"\n",
    "          slopes = PredictionWindowSlopes(t1, t2, None, EntryType.LONG_SHORT)\n",
    "          store_backtest_results(key, pf, results_as_list, slopes)      "
   ]
  },
  {
   "cell_type": "markdown",
   "metadata": {},
   "source": [
    "- #### long_minus_short"
   ]
  },
  {
   "cell_type": "code",
   "execution_count": null,
   "metadata": {},
   "outputs": [],
   "source": [
    "long_minus_short_min = df['long_minus_short'].min()\n",
    "long_minus_short_max = df['long_minus_short'].max()\n",
    "\n",
    "long_minus_short_thresholds = [x for x in np.arange(long_minus_short_min, long_minus_short_max, threshold_increment)]\n",
    "\n",
    "for threshold in long_minus_short_thresholds:\n",
    "    entries = pd.Series(np.where((df['long_minus_short'] < threshold), True, False))\n",
    "\n",
    "    num_trades = (entries == True).sum()\n",
    "\n",
    "    if num_trades > 0:\n",
    "        pf = vbt.Portfolio.from_signals(\n",
    "            high              = df['BTCUSDT_High'],\n",
    "            low               = df['BTCUSDT_Low'],\n",
    "            open              = df['BTCUSDT_Open'],\n",
    "            close             = df['BTCUSDT_Close'],\n",
    "            entries           = entries, # commented out for a short only backtest    \n",
    "            td_stop           = prediction_window, # Hold on to the position for 8 bars\n",
    "            time_delta_format = 'Rows', # Use the row index to calculate the time delta    \n",
    "            accumulate        = False,    \n",
    "            )\n",
    "        \n",
    "        key = f\"Long minus short\"    \n",
    "        slopes = PredictionWindowSlopes(None, None, threshold, EntryType.LONG_ONLY)\n",
    "        store_backtest_results(key, pf, results_as_list, slopes)"
   ]
  },
  {
   "cell_type": "code",
   "execution_count": null,
   "metadata": {},
   "outputs": [],
   "source": [
    "for threshold in long_minus_short_thresholds:\n",
    "    short_entries = pd.Series(np.where((df['long_minus_short'] < threshold), True, False))\n",
    "\n",
    "    num_trades = (short_entries == True).sum()\n",
    "\n",
    "    if num_trades > 0:\n",
    "        pf = vbt.Portfolio.from_signals(\n",
    "            high              = df['BTCUSDT_High'],\n",
    "            low               = df['BTCUSDT_Low'],\n",
    "            open              = df['BTCUSDT_Open'],\n",
    "            close             = df['BTCUSDT_Close'],\n",
    "            short_entries     = short_entries, # commented out for a short only backtest    \n",
    "            td_stop           = prediction_window, # Hold on to the position for 8 bars\n",
    "            time_delta_format = 'Rows', # Use the row index to calculate the time delta    \n",
    "            accumulate        = False,    \n",
    "            )\n",
    "        \n",
    "        key = f\"Long minus short\"    \n",
    "        slopes = PredictionWindowSlopes(None, None, threshold, EntryType.SHORT_ONLY)\n",
    "        store_backtest_results(key, pf, results_as_list, slopes)"
   ]
  },
  {
   "cell_type": "markdown",
   "metadata": {},
   "source": [
    "# Exporting the results"
   ]
  },
  {
   "cell_type": "code",
   "execution_count": null,
   "metadata": {},
   "outputs": [],
   "source": [
    "results_df = export_results(results_as_list)\n",
    "results_df.to_excel(excel_output_file_name)"
   ]
  },
  {
   "cell_type": "markdown",
   "metadata": {},
   "source": [
    "- ### Other backtests - work in progress and code may not execute at all!!!"
   ]
  },
  {
   "cell_type": "code",
   "execution_count": null,
   "metadata": {},
   "outputs": [],
   "source": [
    "df['long_slope'].describe()"
   ]
  },
  {
   "cell_type": "code",
   "execution_count": null,
   "metadata": {},
   "outputs": [],
   "source": [
    "df['short_slope'].quantile(quantiles)"
   ]
  },
  {
   "cell_type": "code",
   "execution_count": null,
   "metadata": {},
   "outputs": [],
   "source": [
    "df['actual_slope'].describe()"
   ]
  },
  {
   "cell_type": "code",
   "execution_count": null,
   "metadata": {},
   "outputs": [],
   "source": [
    "df['long_minus_short'].describe()"
   ]
  },
  {
   "cell_type": "code",
   "execution_count": null,
   "metadata": {},
   "outputs": [],
   "source": [
    "# Set up entries and exits based on the slope\n",
    "entry_slope_threshold = 0.0000\n",
    "short_entry_slope_threshold = 0.0000\n",
    "entries = pd.Series(np.where((df['long_slope'] > entry_slope_threshold), True, False))\n",
    "long_minus_short_t = 0.4\n",
    "entries = pd.Series(np.where((df['long_minus_short'] < long_minus_short_t), True, False))\n",
    "entries = pd.Series(np.where((df['long_minus_short'] < long_minus_short_t & long_slope > ??), True, False))\n",
    "#short_entries = pd.Series(np.where((new_df['short_slope'] < -short_entry_slope_threshold), True, False))\n",
    "#short_entries = pd.Series(np.where((new_df['long_minus_short'] < long_minus_short_t), True, False))\n",
    "pf = vbt.Portfolio.from_signals(\n",
    "    high=df['BTCUSDT_High'],\n",
    "    low=df['BTCUSDT_Low'],\n",
    "    open=df['BTCUSDT_Open'],\n",
    "    close=df['BTCUSDT_Close'],\n",
    "    entries=entries, # commented out for a short only backtest\n",
    "    # exits = result_df['long_slope']<0.04,\n",
    "    #short_entries=short_entries,\n",
    "    td_stop = prediction_window, # Hold on to the position for 8 bars\n",
    "    time_delta_format = 'Rows', # Use the row index to calculate the time delta\n",
    "    # tp_stop = 0.01,\n",
    "    accumulate=False,\n",
    "    # sl_stop = 0.005,\n",
    "    )\n",
    "print(pf.stats())"
   ]
  },
  {
   "cell_type": "code",
   "execution_count": null,
   "metadata": {},
   "outputs": [],
   "source": [
    "# print(f\"Num entries = {(entries == True).sum()}\")\n",
    "# print(f\"Num short entries = {(short_entries == True).sum()}\")\n",
    "# new_df[\"long_slope\"].describe()"
   ]
  },
  {
   "cell_type": "code",
   "execution_count": null,
   "metadata": {},
   "outputs": [],
   "source": []
  }
 ],
 "metadata": {
  "kernelspec": {
   "display_name": ".venv",
   "language": "python",
   "name": "python3"
  },
  "language_info": {
   "codemirror_mode": {
    "name": "ipython",
    "version": 3
   },
   "file_extension": ".py",
   "mimetype": "text/x-python",
   "name": "python",
   "nbconvert_exporter": "python",
   "pygments_lexer": "ipython3",
   "version": "3.10.6"
  },
  "orig_nbformat": 4
 },
 "nbformat": 4,
 "nbformat_minor": 2
}
