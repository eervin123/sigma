{
 "cells": [
  {
   "cell_type": "code",
   "execution_count": 1,
   "metadata": {},
   "outputs": [],
   "source": [
    "import glob\n",
    "import pandas as pd\n",
    "import numpy as np\n",
    "from typing import List"
   ]
  },
  {
   "cell_type": "code",
   "execution_count": 2,
   "metadata": {},
   "outputs": [],
   "source": [
    "pickle_files_path = \"../data/temp_test_data/*.pkl\""
   ]
  },
  {
   "cell_type": "code",
   "execution_count": 3,
   "metadata": {},
   "outputs": [],
   "source": [
    "def _read_pickle_files(path: str) -> List:\n",
    "  pickle_files  = glob.glob(path)\n",
    "  data          = []\n",
    "\n",
    "  pickle_files.sort()\n",
    "\n",
    "  for pickle_file in pickle_files:\n",
    "    with open(pickle_file, 'rb') as f:\n",
    "      file_contents = pd.read_pickle(f)\n",
    "      data.append(file_contents)\n",
    "\n",
    "  return data \n",
    "\n",
    "\n",
    "\n",
    "def _calc_euclidean_distance(arr1, arr2):\n",
    "  return np.sqrt(np.sum((np.array(arr1) - np.array(arr2)) ** 2))\n",
    "\n",
    "\n",
    "\n",
    "def _calculate_slope(weights):\n",
    "    t = np.arange(len(weights))\n",
    "    slope, intercept = np.polyfit(t, weights, 1)\n",
    "    return slope"
   ]
  },
  {
   "cell_type": "code",
   "execution_count": 4,
   "metadata": {},
   "outputs": [],
   "source": [
    "raw_pickle_data = _read_pickle_files(pickle_files_path)"
   ]
  },
  {
   "cell_type": "code",
   "execution_count": 5,
   "metadata": {},
   "outputs": [],
   "source": [
    "first_file = raw_pickle_data[0]"
   ]
  },
  {
   "cell_type": "code",
   "execution_count": 6,
   "metadata": {},
   "outputs": [
    {
     "data": {
      "text/plain": [
       "pandas.core.frame.DataFrame"
      ]
     },
     "execution_count": 6,
     "metadata": {},
     "output_type": "execute_result"
    }
   ],
   "source": [
    "type(first_file['price_data'])"
   ]
  },
  {
   "cell_type": "code",
   "execution_count": 7,
   "metadata": {},
   "outputs": [
    {
     "data": {
      "text/plain": [
       "65982    1.641687e+09\n",
       "65983    1.641687e+09\n",
       "65984    1.641687e+09\n",
       "65985    1.641688e+09\n",
       "65986    1.641689e+09\n",
       "             ...     \n",
       "66073    1.641770e+09\n",
       "66074    1.641770e+09\n",
       "66075    1.641771e+09\n",
       "66076    1.641771e+09\n",
       "66077    1.641772e+09\n",
       "Name: close_time, Length: 96, dtype: float64"
      ]
     },
     "execution_count": 7,
     "metadata": {},
     "output_type": "execute_result"
    }
   ],
   "source": [
    "first_file['price_data']['close_time']"
   ]
  },
  {
   "cell_type": "code",
   "execution_count": 8,
   "metadata": {},
   "outputs": [],
   "source": [
    "df1 = pd.DataFrame(first_file['price_data']['close_time'], columns=['close_time'])\n",
    "df1.reset_index(drop=True, inplace=True)"
   ]
  },
  {
   "cell_type": "code",
   "execution_count": 9,
   "metadata": {},
   "outputs": [],
   "source": [
    "df2 = pd.DataFrame(first_file['prediction_details'], columns=['long', 'short'])\n",
    "df2.reset_index(drop=True, inplace=True)"
   ]
  },
  {
   "cell_type": "code",
   "execution_count": 10,
   "metadata": {},
   "outputs": [],
   "source": [
    "df = pd.concat([df1, df2], axis=1)\n",
    "df.sort_values('close_time', inplace=True)"
   ]
  },
  {
   "cell_type": "code",
   "execution_count": 11,
   "metadata": {},
   "outputs": [
    {
     "data": {
      "text/html": [
       "<div>\n",
       "<style scoped>\n",
       "    .dataframe tbody tr th:only-of-type {\n",
       "        vertical-align: middle;\n",
       "    }\n",
       "\n",
       "    .dataframe tbody tr th {\n",
       "        vertical-align: top;\n",
       "    }\n",
       "\n",
       "    .dataframe thead th {\n",
       "        text-align: right;\n",
       "    }\n",
       "</style>\n",
       "<table border=\"1\" class=\"dataframe\">\n",
       "  <thead>\n",
       "    <tr style=\"text-align: right;\">\n",
       "      <th></th>\n",
       "      <th>close_time</th>\n",
       "      <th>long</th>\n",
       "      <th>short</th>\n",
       "    </tr>\n",
       "  </thead>\n",
       "  <tbody>\n",
       "    <tr>\n",
       "      <th>0</th>\n",
       "      <td>1.641687e+09</td>\n",
       "      <td>[0.00028395813, 0.00018264189, 0.00082501565, ...</td>\n",
       "      <td>[1.5434945e-05, 1.1722226e-05, 8.31921e-06, 3....</td>\n",
       "    </tr>\n",
       "    <tr>\n",
       "      <th>1</th>\n",
       "      <td>1.641687e+09</td>\n",
       "      <td>[6.961259e-05, 5.0820454e-05, 0.00030092167, 0...</td>\n",
       "      <td>[4.5889006e-05, 3.128108e-05, 1.8344024e-05, 6...</td>\n",
       "    </tr>\n",
       "    <tr>\n",
       "      <th>2</th>\n",
       "      <td>1.641687e+09</td>\n",
       "      <td>[0.00015814097, 0.0001234603, 0.00070723606, 0...</td>\n",
       "      <td>[5.8321515e-05, 2.863668e-05, 1.5200444e-05, 5...</td>\n",
       "    </tr>\n",
       "    <tr>\n",
       "      <th>3</th>\n",
       "      <td>1.641688e+09</td>\n",
       "      <td>[0.00012365845, 0.00010381089, 0.000671683, 0....</td>\n",
       "      <td>[3.4932964e-05, 2.065421e-05, 1.0802528e-05, 3...</td>\n",
       "    </tr>\n",
       "    <tr>\n",
       "      <th>4</th>\n",
       "      <td>1.641689e+09</td>\n",
       "      <td>[5.238538e-05, 4.9717157e-05, 7.11477e-05, 9.8...</td>\n",
       "      <td>[0.00023490381, 7.9151985e-05, 3.4724213e-05, ...</td>\n",
       "    </tr>\n",
       "    <tr>\n",
       "      <th>...</th>\n",
       "      <td>...</td>\n",
       "      <td>...</td>\n",
       "      <td>...</td>\n",
       "    </tr>\n",
       "    <tr>\n",
       "      <th>91</th>\n",
       "      <td>1.641770e+09</td>\n",
       "      <td>[0.0646079, 0.088854805, 0.12852715, 0.1199270...</td>\n",
       "      <td>[0.00012455195, 3.9227798e-05, 9.144978e-06, 4...</td>\n",
       "    </tr>\n",
       "    <tr>\n",
       "      <th>92</th>\n",
       "      <td>1.641770e+09</td>\n",
       "      <td>[0.06294112, 0.13441809, 0.38791734, 0.3512447...</td>\n",
       "      <td>[1.1209628e-05, 1.4858751e-06, 6.5118496e-07, ...</td>\n",
       "    </tr>\n",
       "    <tr>\n",
       "      <th>93</th>\n",
       "      <td>1.641771e+09</td>\n",
       "      <td>[0.15458693, 0.28162307, 0.34183595, 0.1739281...</td>\n",
       "      <td>[3.764567e-06, 1.0988465e-06, 7.35294e-07, 3.3...</td>\n",
       "    </tr>\n",
       "    <tr>\n",
       "      <th>94</th>\n",
       "      <td>1.641771e+09</td>\n",
       "      <td>[0.0842035, 0.18735978, 0.42329744, 0.2712586,...</td>\n",
       "      <td>[5.7789043e-06, 1.1860399e-06, 5.8768524e-07, ...</td>\n",
       "    </tr>\n",
       "    <tr>\n",
       "      <th>95</th>\n",
       "      <td>1.641772e+09</td>\n",
       "      <td>[0.029219989, 0.06998911, 0.2711753, 0.4685813...</td>\n",
       "      <td>[7.741063e-06, 9.951126e-07, 4.91137e-07, 2.42...</td>\n",
       "    </tr>\n",
       "  </tbody>\n",
       "</table>\n",
       "<p>96 rows × 3 columns</p>\n",
       "</div>"
      ],
      "text/plain": [
       "      close_time                                               long  \\\n",
       "0   1.641687e+09  [0.00028395813, 0.00018264189, 0.00082501565, ...   \n",
       "1   1.641687e+09  [6.961259e-05, 5.0820454e-05, 0.00030092167, 0...   \n",
       "2   1.641687e+09  [0.00015814097, 0.0001234603, 0.00070723606, 0...   \n",
       "3   1.641688e+09  [0.00012365845, 0.00010381089, 0.000671683, 0....   \n",
       "4   1.641689e+09  [5.238538e-05, 4.9717157e-05, 7.11477e-05, 9.8...   \n",
       "..           ...                                                ...   \n",
       "91  1.641770e+09  [0.0646079, 0.088854805, 0.12852715, 0.1199270...   \n",
       "92  1.641770e+09  [0.06294112, 0.13441809, 0.38791734, 0.3512447...   \n",
       "93  1.641771e+09  [0.15458693, 0.28162307, 0.34183595, 0.1739281...   \n",
       "94  1.641771e+09  [0.0842035, 0.18735978, 0.42329744, 0.2712586,...   \n",
       "95  1.641772e+09  [0.029219989, 0.06998911, 0.2711753, 0.4685813...   \n",
       "\n",
       "                                                short  \n",
       "0   [1.5434945e-05, 1.1722226e-05, 8.31921e-06, 3....  \n",
       "1   [4.5889006e-05, 3.128108e-05, 1.8344024e-05, 6...  \n",
       "2   [5.8321515e-05, 2.863668e-05, 1.5200444e-05, 5...  \n",
       "3   [3.4932964e-05, 2.065421e-05, 1.0802528e-05, 3...  \n",
       "4   [0.00023490381, 7.9151985e-05, 3.4724213e-05, ...  \n",
       "..                                                ...  \n",
       "91  [0.00012455195, 3.9227798e-05, 9.144978e-06, 4...  \n",
       "92  [1.1209628e-05, 1.4858751e-06, 6.5118496e-07, ...  \n",
       "93  [3.764567e-06, 1.0988465e-06, 7.35294e-07, 3.3...  \n",
       "94  [5.7789043e-06, 1.1860399e-06, 5.8768524e-07, ...  \n",
       "95  [7.741063e-06, 9.951126e-07, 4.91137e-07, 2.42...  \n",
       "\n",
       "[96 rows x 3 columns]"
      ]
     },
     "execution_count": 11,
     "metadata": {},
     "output_type": "execute_result"
    }
   ],
   "source": [
    "df"
   ]
  },
  {
   "cell_type": "code",
   "execution_count": 12,
   "metadata": {},
   "outputs": [],
   "source": [
    "df['long_slope']        = df['long'].apply(_calculate_slope)\n",
    "df['short_slope']       = df['short'].apply(_calculate_slope)\n",
    "df['long_minus_short']  = df.apply(lambda row: _calc_euclidean_distance(row['long'], row['short']), axis=1) # this is the difference between the long and short predictions"
   ]
  },
  {
   "cell_type": "code",
   "execution_count": 13,
   "metadata": {},
   "outputs": [
    {
     "data": {
      "text/html": [
       "<div>\n",
       "<style scoped>\n",
       "    .dataframe tbody tr th:only-of-type {\n",
       "        vertical-align: middle;\n",
       "    }\n",
       "\n",
       "    .dataframe tbody tr th {\n",
       "        vertical-align: top;\n",
       "    }\n",
       "\n",
       "    .dataframe thead th {\n",
       "        text-align: right;\n",
       "    }\n",
       "</style>\n",
       "<table border=\"1\" class=\"dataframe\">\n",
       "  <thead>\n",
       "    <tr style=\"text-align: right;\">\n",
       "      <th></th>\n",
       "      <th>close_time</th>\n",
       "      <th>long</th>\n",
       "      <th>short</th>\n",
       "      <th>long_slope</th>\n",
       "      <th>short_slope</th>\n",
       "      <th>long_minus_short</th>\n",
       "    </tr>\n",
       "  </thead>\n",
       "  <tbody>\n",
       "    <tr>\n",
       "      <th>0</th>\n",
       "      <td>1.641687e+09</td>\n",
       "      <td>[0.00028395813, 0.00018264189, 0.00082501565, ...</td>\n",
       "      <td>[1.5434945e-05, 1.1722226e-05, 8.31921e-06, 3....</td>\n",
       "      <td>-0.002697</td>\n",
       "      <td>0.000454</td>\n",
       "      <td>0.714199</td>\n",
       "    </tr>\n",
       "    <tr>\n",
       "      <th>1</th>\n",
       "      <td>1.641687e+09</td>\n",
       "      <td>[6.961259e-05, 5.0820454e-05, 0.00030092167, 0...</td>\n",
       "      <td>[4.5889006e-05, 3.128108e-05, 1.8344024e-05, 6...</td>\n",
       "      <td>-0.002642</td>\n",
       "      <td>0.000602</td>\n",
       "      <td>0.753278</td>\n",
       "    </tr>\n",
       "    <tr>\n",
       "      <th>2</th>\n",
       "      <td>1.641687e+09</td>\n",
       "      <td>[0.00015814097, 0.0001234603, 0.00070723606, 0...</td>\n",
       "      <td>[5.8321515e-05, 2.863668e-05, 1.5200444e-05, 5...</td>\n",
       "      <td>-0.002670</td>\n",
       "      <td>0.000548</td>\n",
       "      <td>0.711587</td>\n",
       "    </tr>\n",
       "    <tr>\n",
       "      <th>3</th>\n",
       "      <td>1.641688e+09</td>\n",
       "      <td>[0.00012365845, 0.00010381089, 0.000671683, 0....</td>\n",
       "      <td>[3.4932964e-05, 2.065421e-05, 1.0802528e-05, 3...</td>\n",
       "      <td>-0.002742</td>\n",
       "      <td>0.000671</td>\n",
       "      <td>0.765314</td>\n",
       "    </tr>\n",
       "    <tr>\n",
       "      <th>4</th>\n",
       "      <td>1.641689e+09</td>\n",
       "      <td>[5.238538e-05, 4.9717157e-05, 7.11477e-05, 9.8...</td>\n",
       "      <td>[0.00023490381, 7.9151985e-05, 3.4724213e-05, ...</td>\n",
       "      <td>-0.001814</td>\n",
       "      <td>0.001375</td>\n",
       "      <td>0.744892</td>\n",
       "    </tr>\n",
       "    <tr>\n",
       "      <th>...</th>\n",
       "      <td>...</td>\n",
       "      <td>...</td>\n",
       "      <td>...</td>\n",
       "      <td>...</td>\n",
       "      <td>...</td>\n",
       "      <td>...</td>\n",
       "    </tr>\n",
       "    <tr>\n",
       "      <th>91</th>\n",
       "      <td>1.641770e+09</td>\n",
       "      <td>[0.0646079, 0.088854805, 0.12852715, 0.1199270...</td>\n",
       "      <td>[0.00012455195, 3.9227798e-05, 9.144978e-06, 4...</td>\n",
       "      <td>-0.002933</td>\n",
       "      <td>0.003952</td>\n",
       "      <td>0.803543</td>\n",
       "    </tr>\n",
       "    <tr>\n",
       "      <th>92</th>\n",
       "      <td>1.641770e+09</td>\n",
       "      <td>[0.06294112, 0.13441809, 0.38791734, 0.3512447...</td>\n",
       "      <td>[1.1209628e-05, 1.4858751e-06, 6.5118496e-07, ...</td>\n",
       "      <td>-0.003559</td>\n",
       "      <td>0.002267</td>\n",
       "      <td>0.742605</td>\n",
       "    </tr>\n",
       "    <tr>\n",
       "      <th>93</th>\n",
       "      <td>1.641771e+09</td>\n",
       "      <td>[0.15458693, 0.28162307, 0.34183595, 0.1739281...</td>\n",
       "      <td>[3.764567e-06, 1.0988465e-06, 7.35294e-07, 3.3...</td>\n",
       "      <td>-0.003674</td>\n",
       "      <td>0.001954</td>\n",
       "      <td>0.735269</td>\n",
       "    </tr>\n",
       "    <tr>\n",
       "      <th>94</th>\n",
       "      <td>1.641771e+09</td>\n",
       "      <td>[0.0842035, 0.18735978, 0.42329744, 0.2712586,...</td>\n",
       "      <td>[5.7789043e-06, 1.1860399e-06, 5.8768524e-07, ...</td>\n",
       "      <td>-0.003612</td>\n",
       "      <td>0.002022</td>\n",
       "      <td>0.744928</td>\n",
       "    </tr>\n",
       "    <tr>\n",
       "      <th>95</th>\n",
       "      <td>1.641772e+09</td>\n",
       "      <td>[0.029219989, 0.06998911, 0.2711753, 0.4685813...</td>\n",
       "      <td>[7.741063e-06, 9.951126e-07, 4.91137e-07, 2.42...</td>\n",
       "      <td>-0.003453</td>\n",
       "      <td>0.002264</td>\n",
       "      <td>0.780090</td>\n",
       "    </tr>\n",
       "  </tbody>\n",
       "</table>\n",
       "<p>96 rows × 6 columns</p>\n",
       "</div>"
      ],
      "text/plain": [
       "      close_time                                               long  \\\n",
       "0   1.641687e+09  [0.00028395813, 0.00018264189, 0.00082501565, ...   \n",
       "1   1.641687e+09  [6.961259e-05, 5.0820454e-05, 0.00030092167, 0...   \n",
       "2   1.641687e+09  [0.00015814097, 0.0001234603, 0.00070723606, 0...   \n",
       "3   1.641688e+09  [0.00012365845, 0.00010381089, 0.000671683, 0....   \n",
       "4   1.641689e+09  [5.238538e-05, 4.9717157e-05, 7.11477e-05, 9.8...   \n",
       "..           ...                                                ...   \n",
       "91  1.641770e+09  [0.0646079, 0.088854805, 0.12852715, 0.1199270...   \n",
       "92  1.641770e+09  [0.06294112, 0.13441809, 0.38791734, 0.3512447...   \n",
       "93  1.641771e+09  [0.15458693, 0.28162307, 0.34183595, 0.1739281...   \n",
       "94  1.641771e+09  [0.0842035, 0.18735978, 0.42329744, 0.2712586,...   \n",
       "95  1.641772e+09  [0.029219989, 0.06998911, 0.2711753, 0.4685813...   \n",
       "\n",
       "                                                short  long_slope  \\\n",
       "0   [1.5434945e-05, 1.1722226e-05, 8.31921e-06, 3....   -0.002697   \n",
       "1   [4.5889006e-05, 3.128108e-05, 1.8344024e-05, 6...   -0.002642   \n",
       "2   [5.8321515e-05, 2.863668e-05, 1.5200444e-05, 5...   -0.002670   \n",
       "3   [3.4932964e-05, 2.065421e-05, 1.0802528e-05, 3...   -0.002742   \n",
       "4   [0.00023490381, 7.9151985e-05, 3.4724213e-05, ...   -0.001814   \n",
       "..                                                ...         ...   \n",
       "91  [0.00012455195, 3.9227798e-05, 9.144978e-06, 4...   -0.002933   \n",
       "92  [1.1209628e-05, 1.4858751e-06, 6.5118496e-07, ...   -0.003559   \n",
       "93  [3.764567e-06, 1.0988465e-06, 7.35294e-07, 3.3...   -0.003674   \n",
       "94  [5.7789043e-06, 1.1860399e-06, 5.8768524e-07, ...   -0.003612   \n",
       "95  [7.741063e-06, 9.951126e-07, 4.91137e-07, 2.42...   -0.003453   \n",
       "\n",
       "    short_slope  long_minus_short  \n",
       "0      0.000454          0.714199  \n",
       "1      0.000602          0.753278  \n",
       "2      0.000548          0.711587  \n",
       "3      0.000671          0.765314  \n",
       "4      0.001375          0.744892  \n",
       "..          ...               ...  \n",
       "91     0.003952          0.803543  \n",
       "92     0.002267          0.742605  \n",
       "93     0.001954          0.735269  \n",
       "94     0.002022          0.744928  \n",
       "95     0.002264          0.780090  \n",
       "\n",
       "[96 rows x 6 columns]"
      ]
     },
     "execution_count": 13,
     "metadata": {},
     "output_type": "execute_result"
    }
   ],
   "source": [
    "df"
   ]
  },
  {
   "cell_type": "code",
   "execution_count": 14,
   "metadata": {},
   "outputs": [],
   "source": [
    "long_arr = df.iloc[0].long\n",
    "short_arr = df.iloc[0].short"
   ]
  },
  {
   "cell_type": "code",
   "execution_count": 15,
   "metadata": {},
   "outputs": [],
   "source": [
    "long_slope = _calculate_slope(long_arr)\n",
    "short_slope = _calculate_slope(short_arr)\n",
    "long_minus_short = _calc_euclidean_distance(long_arr, short_arr)"
   ]
  },
  {
   "cell_type": "code",
   "execution_count": 41,
   "metadata": {},
   "outputs": [
    {
     "name": "stdout",
     "output_type": "stream",
     "text": [
      "-0.0026965933220893267\n",
      "0.0004540277800336521\n",
      "0.7141988\n"
     ]
    }
   ],
   "source": [
    "print(long_slope)\n",
    "print(short_slope)\n",
    "print(long_minus_short)"
   ]
  },
  {
   "cell_type": "code",
   "execution_count": 19,
   "metadata": {},
   "outputs": [
    {
     "data": {
      "text/plain": [
       "array([1.5434945e-05, 1.1722226e-05, 8.3192099e-06, 3.6023023e-06,\n",
       "       4.2805736e-06, 3.9104411e-06, 3.2810940e-06, 1.7069186e-06,\n",
       "       1.9690181e-06, 8.0227966e-07, 1.5354541e-06, 1.6222237e-06,\n",
       "       1.6068579e-05, 1.4560219e-05, 1.6056418e-05, 1.9931197e-04,\n",
       "       8.3784567e-04, 5.4696565e-03, 3.3471279e-02, 1.4629954e-01,\n",
       "       2.4904542e-01, 3.5774630e-01, 1.8818459e-01, 1.1717024e-02,\n",
       "       3.5268713e-03, 1.6545877e-03, 1.4383583e-04, 1.1129983e-04,\n",
       "       8.1453858e-05, 8.3636267e-05, 1.6045864e-04, 5.6381605e-04,\n",
       "       4.2643840e-04, 7.2842486e-05, 6.8814115e-05, 1.5250671e-05,\n",
       "       3.8515818e-06, 1.1045595e-05], dtype=float32)"
      ]
     },
     "execution_count": 19,
     "metadata": {},
     "output_type": "execute_result"
    }
   ],
   "source": [
    "short_arr"
   ]
  },
  {
   "cell_type": "code",
   "execution_count": null,
   "metadata": {},
   "outputs": [],
   "source": []
  }
 ],
 "metadata": {
  "kernelspec": {
   "display_name": ".venv",
   "language": "python",
   "name": "python3"
  },
  "language_info": {
   "codemirror_mode": {
    "name": "ipython",
    "version": 3
   },
   "file_extension": ".py",
   "mimetype": "text/x-python",
   "name": "python",
   "nbconvert_exporter": "python",
   "pygments_lexer": "ipython3",
   "version": "3.10.6"
  },
  "orig_nbformat": 4
 },
 "nbformat": 4,
 "nbformat_minor": 2
}
