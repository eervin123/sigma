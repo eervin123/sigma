{
 "cells": [
  {
   "cell_type": "markdown",
   "metadata": {},
   "source": [
    "# Backtests - Multiple RIDs combined"
   ]
  },
  {
   "cell_type": "markdown",
   "metadata": {},
   "source": [
    "### Imports"
   ]
  },
  {
   "cell_type": "code",
   "execution_count": 1,
   "metadata": {},
   "outputs": [],
   "source": [
    "import pandas as pd\n",
    "import vectorbtpro as vbt\n",
    "import numpy as np"
   ]
  },
  {
   "cell_type": "code",
   "execution_count": 2,
   "metadata": {},
   "outputs": [],
   "source": [
    "import os\n",
    "import sys\n",
    "\n",
    "sys.path.append(os.getcwd())\n",
    "\n",
    "from dataframes_merger_factory import DataFrameMergerFactory\n",
    "from dataframes_merger import DataFrameMergerType\n",
    "from settings_and_params import generate_multiple_models_backtest_output_file_name_no_ext, generate_csv_for_excel_output_file_path, generate_dataframe_csv_output_file_path\n",
    "from multiple_models_backtesting_factory import MultiModelBacktestMethod, MultiModelBacktestFactory\n",
    "from multiple_models_backtesting import run_one_multi_model_backtest_majority_rule\n",
    "from parameter_optimization import Thresholds"
   ]
  },
  {
   "cell_type": "markdown",
   "metadata": {},
   "source": [
    "### Settings and Params"
   ]
  },
  {
   "cell_type": "markdown",
   "metadata": {},
   "source": [
    "#### System values"
   ]
  },
  {
   "cell_type": "code",
   "execution_count": 3,
   "metadata": {},
   "outputs": [],
   "source": [
    "vbt.settings.wrapping [\"freq\"]                = \"1m\"\n",
    "vbt.settings.portfolio['init_cash']           = 10000"
   ]
  },
  {
   "cell_type": "code",
   "execution_count": 4,
   "metadata": {},
   "outputs": [],
   "source": [
    "MULTI_YEAR_PW38_GROUP = [  \"RID0029_LSTM_pw38_lb250_bt2000_mem6000\"\n",
    "                         , \"RID0032_LSTM_pw38_lb250_bt2000_mem10000\"\n",
    "                         , \"RID0033_LSTM_pw38_lb250_bt1000_mem10000\"]\n",
    "\n",
    "MULTI_YEAR_PW75_GROUP = [  \"RID0026_LSTM_pw75_lb250_bt2000_mem6000\"\n",
    "                         , \"RID0030_LSTM_pw75_lb250_bt1000_mem10000\"\n",
    "                         , \"RID0031_LSTM_pw75_lb250_bt2000_mem10000\"]\n",
    "\n",
    "ONE_YEAR_PW38_GROUP   = [  \"RID0044_LSTM_pw38_lb5000_bt2000_mem6000\"\n",
    "                         , \"RID0045_LSTM_pw38_lb5000_bt2000_mem10000\"\n",
    "                         , \"RID0046_LSTM_pw38_lb250_bt2000_mem6000\"]\n",
    "\n",
    "ONE_YEAR_PW75_GROUP   = [  \"RID0047_LSTM_pw75_lb250_bt1000_mem10000\"\n",
    "                         , \"RID0048_LSTM_pw75_lb5000_bt1000_mem10000\"]"
   ]
  },
  {
   "cell_type": "markdown",
   "metadata": {},
   "source": [
    "### Backtests using averages"
   ]
  },
  {
   "cell_type": "markdown",
   "metadata": {},
   "source": [
    "#### Intersection\n",
    "Only has to change two settings: \n",
    "- group_to_use\n",
    "- merger - since this is intersection, it should always be DataFrameMergerFactory.create(DataFrameMergerType.INTERSECTION)"
   ]
  },
  {
   "cell_type": "code",
   "execution_count": null,
   "metadata": {},
   "outputs": [],
   "source": [
    "group_to_use = ONE_YEAR_PW75_GROUP\n",
    "merger = DataFrameMergerFactory.create(DataFrameMergerType.INTERSECTION)"
   ]
  },
  {
   "cell_type": "code",
   "execution_count": null,
   "metadata": {},
   "outputs": [],
   "source": [
    "df, result = MultiModelBacktestFactory.create(MultiModelBacktestMethod.AVERAGE, merger, group_to_use).run()"
   ]
  },
  {
   "cell_type": "markdown",
   "metadata": {},
   "source": [
    "##### Output to CSV"
   ]
  },
  {
   "cell_type": "code",
   "execution_count": null,
   "metadata": {},
   "outputs": [],
   "source": [
    "model_name = generate_multiple_models_backtest_output_file_name_no_ext(group_to_use, MultiModelBacktestMethod.AVERAGE.value + f\"_{merger.get_method_as_string()}\") \n",
    "csv_for_excel_output_file_name  = generate_csv_for_excel_output_file_path(model_name)\n",
    "dataframe_csv_output_file_name  = generate_dataframe_csv_output_file_path(model_name)\n",
    "\n",
    "if df is not None:\n",
    "  df.to_csv(dataframe_csv_output_file_name)\n",
    "\n",
    "if result is not None:\n",
    "  result.to_csv(csv_for_excel_output_file_name)"
   ]
  },
  {
   "cell_type": "markdown",
   "metadata": {},
   "source": [
    "### Backtests using majority rule"
   ]
  },
  {
   "cell_type": "code",
   "execution_count": 9,
   "metadata": {},
   "outputs": [],
   "source": [
    "group_to_use = MULTI_YEAR_PW75_GROUP + ONE_YEAR_PW75_GROUP\n",
    "merger = DataFrameMergerFactory.create(DataFrameMergerType.UNION)"
   ]
  },
  {
   "cell_type": "code",
   "execution_count": 10,
   "metadata": {},
   "outputs": [],
   "source": [
    "df, result = MultiModelBacktestFactory.create(MultiModelBacktestMethod.MAJORITY, merger, group_to_use).run()"
   ]
  },
  {
   "cell_type": "code",
   "execution_count": 11,
   "metadata": {},
   "outputs": [],
   "source": [
    "model_name = generate_multiple_models_backtest_output_file_name_no_ext(group_to_use, MultiModelBacktestMethod.MAJORITY.value + f\"_{merger.get_method_as_string()}\") \n",
    "csv_for_excel_output_file_name  = generate_csv_for_excel_output_file_path(model_name)\n",
    "dataframe_csv_output_file_name  = generate_dataframe_csv_output_file_path(model_name)\n",
    "\n",
    "if df is not None:\n",
    "  df.to_csv(dataframe_csv_output_file_name)\n",
    "\n",
    "if result is not None:\n",
    "  result.to_csv(csv_for_excel_output_file_name)"
   ]
  },
  {
   "cell_type": "markdown",
   "metadata": {},
   "source": [
    "### Misc"
   ]
  },
  {
   "cell_type": "code",
   "execution_count": 12,
   "metadata": {},
   "outputs": [],
   "source": [
    "# group_to_use = MULTI_YEAR_PW38_GROUP + ONE_YEAR_PW38_GROUP\n",
    "# merger = DataFrameMergerFactory.create(DataFrameMergerType.INTERSECTION)\n",
    "# thresholds = [  Thresholds(\"RID0029\", 1.18812412357536 , -0.0037693704987867,  0.003769359935169  )\n",
    "#               , Thresholds(\"RID0032\", 1.1826330824145  , -0.003769369036463\t,  0.0032109459013974\t)\n",
    "#               , Thresholds(\"RID0033\", 0.6646558806814  ,\t0.0020940911391949,\t-0.0018148799431913\t)\n",
    "#               , Thresholds(\"RID0044\", 0.758671777515576, -0.0015356665705393,\t-0.0004188144788857\t)\n",
    "#               , Thresholds(\"RID0045\", 0.588396542031189,\t0.0015356651432104,\t-0.0026525241302293\t)\n",
    "#               , Thresholds(\"RID0046\", 1.26957397734554 , -0.0020940974383344,\t 0.0001395866037739 )\n",
    "    \n",
    "# ]\n",
    "# pf = run_one_multi_model_backtest_majority_rule(merger, group_to_use, thresholds)\n"
   ]
  }
 ],
 "metadata": {
  "kernelspec": {
   "display_name": ".venv",
   "language": "python",
   "name": "python3"
  },
  "language_info": {
   "codemirror_mode": {
    "name": "ipython",
    "version": 3
   },
   "file_extension": ".py",
   "mimetype": "text/x-python",
   "name": "python",
   "nbconvert_exporter": "python",
   "pygments_lexer": "ipython3",
   "version": "3.10.12"
  },
  "orig_nbformat": 4
 },
 "nbformat": 4,
 "nbformat_minor": 2
}
