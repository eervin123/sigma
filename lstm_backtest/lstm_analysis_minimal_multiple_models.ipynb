{
 "cells": [
  {
   "cell_type": "markdown",
   "metadata": {},
   "source": [
    "# Backtests - Multiple RIDs combined"
   ]
  },
  {
   "cell_type": "markdown",
   "metadata": {},
   "source": [
    "### Imports"
   ]
  },
  {
   "cell_type": "code",
   "execution_count": 1,
   "metadata": {},
   "outputs": [],
   "source": [
    "import pandas as pd\n",
    "import vectorbtpro as vbt\n",
    "import numpy as np"
   ]
  },
  {
   "cell_type": "code",
   "execution_count": 2,
   "metadata": {},
   "outputs": [],
   "source": [
    "import os\n",
    "import sys\n",
    "\n",
    "sys.path.append(os.getcwd())\n",
    "\n",
    "from dataframes_merger_factory import DataFrameMergerType, DataFrameMergerFactory\n",
    "from settings_and_params import generate_multiple_models_backtest_output_file_name_no_ext, generate_csv_for_excel_output_file_path, generate_dataframe_csv_output_file_path\n",
    "from multiple_models_backtesting import MultiModelBacktest, MultiModelBacktestMethod"
   ]
  },
  {
   "cell_type": "markdown",
   "metadata": {},
   "source": [
    "### Settings and Params"
   ]
  },
  {
   "cell_type": "markdown",
   "metadata": {},
   "source": [
    "#### System values"
   ]
  },
  {
   "cell_type": "code",
   "execution_count": 3,
   "metadata": {},
   "outputs": [],
   "source": [
    "vbt.settings.wrapping [\"freq\"]                = \"1m\"\n",
    "vbt.settings.portfolio['init_cash']           = 10000"
   ]
  },
  {
   "cell_type": "markdown",
   "metadata": {},
   "source": [
    "### Backtests using averages"
   ]
  },
  {
   "cell_type": "code",
   "execution_count": 4,
   "metadata": {},
   "outputs": [],
   "source": [
    "MULTI_YEAR_PW38_GROUP = [  \"../results/RID0029_LSTM_pw38_lb250_bt2000_mem6000.csv\"\n",
    "                         , \"../results/RID0032_LSTM_pw38_lb250_bt2000_mem10000.csv\"\n",
    "                         , \"../results/RID0033_LSTM_pw38_lb250_bt1000_mem10000.csv\"]\n",
    "\n",
    "MULTI_YEAR_PW75_GROUP = [  \"../results/RID0026_LSTM_pw75_lb250_bt2000_mem6000.csv\"\n",
    "                         , \"../results/RID0030_LSTM_pw75_lb250_bt1000_mem10000.csv\"\n",
    "                         , \"../results/RID0031_LSTM_pw75_lb250_bt2000_mem10000.csv\"]\n",
    "\n",
    "ONE_YEAR_PW38_GROUP   = [  \"../results/RID0044_LSTM_pw38_lb5000_bt2000_mem6000.csv\"\n",
    "                         , \"../results/RID0045_LSTM_pw38_lb5000_bt2000_mem10000.csv\"\n",
    "                         , \"../results/RID0046_LSTM_pw38_lb250_bt2000_mem6000.csv\"]\n",
    "\n",
    "ONE_YEAR_PW75_GROUP   = [  \"../results/RID0047_LSTM_pw75_lb250_bt1000_mem10000.csv\"\n",
    "                         , \"../results/RID0048_LSTM_pw75_lb5000_bt1000_mem10000.csv\"]"
   ]
  },
  {
   "cell_type": "markdown",
   "metadata": {},
   "source": [
    "#### Intersection\n",
    "Only has to change two settings: \n",
    "- group_to_use\n",
    "- merger - since this is intersection, it should always be DataFrameMergerFactory.create(DataFrameMergerType.INTERSECTION)"
   ]
  },
  {
   "cell_type": "code",
   "execution_count": 10,
   "metadata": {},
   "outputs": [],
   "source": [
    "group_to_use = ONE_YEAR_PW75_GROUP\n",
    "merger = DataFrameMergerFactory.create(DataFrameMergerType.INTERSECTION)"
   ]
  },
  {
   "cell_type": "code",
   "execution_count": 11,
   "metadata": {},
   "outputs": [],
   "source": [
    "df, result = MultiModelBacktest(merger, group_to_use).run()"
   ]
  },
  {
   "cell_type": "markdown",
   "metadata": {},
   "source": [
    "##### Output to CSV"
   ]
  },
  {
   "cell_type": "code",
   "execution_count": 12,
   "metadata": {},
   "outputs": [],
   "source": [
    "model_name = generate_multiple_models_backtest_output_file_name_no_ext(group_to_use, MultiModelBacktestMethod.AVERAGE.value) \n",
    "csv_for_excel_output_file_name  = generate_csv_for_excel_output_file_path(model_name)\n",
    "dataframe_csv_output_file_name  = generate_dataframe_csv_output_file_path(model_name)\n",
    "\n",
    "if df is not None:\n",
    "  df.to_csv(dataframe_csv_output_file_name)\n",
    "\n",
    "if result is not None:\n",
    "  result.to_csv(csv_for_excel_output_file_name)"
   ]
  }
 ],
 "metadata": {
  "kernelspec": {
   "display_name": ".venv",
   "language": "python",
   "name": "python3"
  },
  "language_info": {
   "codemirror_mode": {
    "name": "ipython",
    "version": 3
   },
   "file_extension": ".py",
   "mimetype": "text/x-python",
   "name": "python",
   "nbconvert_exporter": "python",
   "pygments_lexer": "ipython3",
   "version": "3.10.12"
  },
  "orig_nbformat": 4
 },
 "nbformat": 4,
 "nbformat_minor": 2
}
