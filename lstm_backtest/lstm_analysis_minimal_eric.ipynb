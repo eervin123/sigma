{
 "cells": [
  {
   "cell_type": "markdown",
   "metadata": {},
   "source": [
    "# Imports"
   ]
  },
  {
   "cell_type": "code",
   "execution_count": 1,
   "metadata": {},
   "outputs": [
    {
     "name": "stderr",
     "output_type": "stream",
     "text": [
      "/Users/ericervin/opt/anaconda3/envs/datascience/lib/python3.10/site-packages/numba/core/decorators.py:262: NumbaDeprecationWarning: \u001b[1mnumba.generated_jit is deprecated. Please see the documentation at: https://numba.readthedocs.io/en/stable/reference/deprecation.html#deprecation-of-generated-jit for more information and advice on a suitable replacement.\u001b[0m\n",
      "  warnings.warn(msg, NumbaDeprecationWarning)\n"
     ]
    }
   ],
   "source": [
    "import pandas as pd\n",
    "import vectorbtpro as vbt\n",
    "import numpy as np\n",
    "import warnings\n",
    "warnings.filterwarnings('ignore')"
   ]
  },
  {
   "cell_type": "markdown",
   "metadata": {},
   "source": [
    "# Initialization"
   ]
  },
  {
   "cell_type": "code",
   "execution_count": 2,
   "metadata": {},
   "outputs": [],
   "source": [
    "vbt.settings.wrapping [\"freq\"]                = \"1m\"\n",
    "vbt.settings.portfolio['init_cash']           = 10000"
   ]
  },
  {
   "cell_type": "markdown",
   "metadata": {},
   "source": [
    "# Settings and Parameters"
   ]
  },
  {
   "cell_type": "code",
   "execution_count": 3,
   "metadata": {},
   "outputs": [],
   "source": [
    "pickle_files_path = \"../data/RID0029_LSTM_pw38_lb250_bt2000_mem6000/*.pkl\"\n",
    "prediction_window = 38\n",
    "\n",
    "min_num_entries          = 100\n",
    "excel_output_file_name  = f\"../results/{pickle_files_path.split('/')[-2] + '.xlsx'}\""
   ]
  },
  {
   "cell_type": "markdown",
   "metadata": {},
   "source": [
    "# Local Imports"
   ]
  },
  {
   "cell_type": "code",
   "execution_count": 88,
   "metadata": {},
   "outputs": [],
   "source": [
    "import os\n",
    "import sys\n",
    "\n",
    "sys.path.append(os.getcwd())"
   ]
  },
  {
   "cell_type": "code",
   "execution_count": 89,
   "metadata": {},
   "outputs": [],
   "source": [
    "from lstm_analysis_utils import (read_pickle_files_into_df, add_forward_prices_to_df, generate_fwd_actual_column\n",
    "                                 , generate_df_with_euclidean_distances, calculate_slopes, calculate_correlation_slopes\n",
    "                                )\n",
    "from lstm_results_utils import (export_results, store_backtest_results)\n",
    "from lstm_only_backtests import run_backtest_lstm_recommendations_reversal_exits, run_backtests_lstm_recommendations_prediction_size_exit\n",
    "from lstm_analysis_constants import EntryType\n",
    "from quantile_value import generate_quantile_bands, extract_boundary_values_from_quantile_bands\n",
    "from prediction_window_slopes import PredictionWindowSlopes\n",
    "from long_slope_short_slope_backtests import run_backtest_long_slope_short_slope_prediction_size_exit, run_backtest_long_slope_short_slope_fractional_exits\n",
    "from long_minus_short_backtests import run_backtest_long_minus_short_entry_type_long_only, run_backtest_long_minus_short_entry_type_short_only, run_backtest_long_minus_short_entry_type_long_short"
   ]
  },
  {
   "cell_type": "markdown",
   "metadata": {},
   "source": [
    "# Processing"
   ]
  },
  {
   "cell_type": "code",
   "execution_count": 90,
   "metadata": {},
   "outputs": [],
   "source": [
    "df = read_pickle_files_into_df(pickle_files_path)"
   ]
  },
  {
   "cell_type": "code",
   "execution_count": 91,
   "metadata": {},
   "outputs": [],
   "source": [
    "add_forward_prices_to_df(df, prediction_window)\n",
    "df = df.copy()  # for large prediction_window size, the copy() call eliminates the fragmented dataframe warning"
   ]
  },
  {
   "cell_type": "code",
   "execution_count": 92,
   "metadata": {},
   "outputs": [],
   "source": [
    "generate_fwd_actual_column(df)"
   ]
  },
  {
   "cell_type": "code",
   "execution_count": 93,
   "metadata": {},
   "outputs": [],
   "source": [
    "df = generate_df_with_euclidean_distances(df, prediction_window)"
   ]
  },
  {
   "cell_type": "code",
   "execution_count": 94,
   "metadata": {},
   "outputs": [],
   "source": [
    "calculate_slopes(df)"
   ]
  },
  {
   "cell_type": "code",
   "execution_count": 95,
   "metadata": {},
   "outputs": [
    {
     "name": "stdout",
     "output_type": "stream",
     "text": [
      "Correlation between Euclidean distance between long array and short array and future actual results:  0.23252517589935243\n",
      "Correlation between difference in long minus short predictions and future actual results for longs:  0.7740239236150575\n",
      "Correlation between difference in long minus short predictions and future actual results for shorts:  0.778859471995504\n",
      "Correlation between long slopes and future results: -0.010443185855921886\n",
      "Correlation between short slopes and future results: 0.018291259185979517\n"
     ]
    }
   ],
   "source": [
    "calculate_correlation_slopes(df)"
   ]
  },
  {
   "cell_type": "code",
   "execution_count": 96,
   "metadata": {},
   "outputs": [],
   "source": [
    "df.index = pd.to_datetime(df[\"close_time\"], utc=True, unit=\"s\")"
   ]
  },
  {
   "cell_type": "code",
   "execution_count": 73,
   "metadata": {},
   "outputs": [],
   "source": [
    "df.to_csv('RID0029_LSTM_pw38_lb250_bt2000_mem6000.csv')"
   ]
  },
  {
   "cell_type": "code",
   "execution_count": 78,
   "metadata": {},
   "outputs": [
    {
     "data": {
      "text/html": [
       "<div>\n",
       "<style scoped>\n",
       "    .dataframe tbody tr th:only-of-type {\n",
       "        vertical-align: middle;\n",
       "    }\n",
       "\n",
       "    .dataframe tbody tr th {\n",
       "        vertical-align: top;\n",
       "    }\n",
       "\n",
       "    .dataframe thead th {\n",
       "        text-align: right;\n",
       "    }\n",
       "</style>\n",
       "<table border=\"1\" class=\"dataframe\">\n",
       "  <thead>\n",
       "    <tr style=\"text-align: right;\">\n",
       "      <th></th>\n",
       "      <th>close_time</th>\n",
       "      <th>BTCUSDT_Open</th>\n",
       "      <th>BTCUSDT_High</th>\n",
       "      <th>BTCUSDT_Low</th>\n",
       "      <th>BTCUSDT_Close</th>\n",
       "      <th>recommendations</th>\n",
       "      <th>long</th>\n",
       "      <th>short</th>\n",
       "      <th>indx_hi</th>\n",
       "      <th>indx_low</th>\n",
       "      <th>...</th>\n",
       "      <th>BTCUSDT_Open_38</th>\n",
       "      <th>fwd_actual</th>\n",
       "      <th>long_distance_to_actual</th>\n",
       "      <th>short_distance_to_actual</th>\n",
       "      <th>long_minus_short</th>\n",
       "      <th>long_slope</th>\n",
       "      <th>short_slope</th>\n",
       "      <th>actual_slope</th>\n",
       "      <th>entries</th>\n",
       "      <th>clean_entries</th>\n",
       "    </tr>\n",
       "    <tr>\n",
       "      <th>close_time</th>\n",
       "      <th></th>\n",
       "      <th></th>\n",
       "      <th></th>\n",
       "      <th></th>\n",
       "      <th></th>\n",
       "      <th></th>\n",
       "      <th></th>\n",
       "      <th></th>\n",
       "      <th></th>\n",
       "      <th></th>\n",
       "      <th></th>\n",
       "      <th></th>\n",
       "      <th></th>\n",
       "      <th></th>\n",
       "      <th></th>\n",
       "      <th></th>\n",
       "      <th></th>\n",
       "      <th></th>\n",
       "      <th></th>\n",
       "      <th></th>\n",
       "      <th></th>\n",
       "    </tr>\n",
       "  </thead>\n",
       "  <tbody>\n",
       "    <tr>\n",
       "      <th>2022-01-09 00:03:00+00:00</th>\n",
       "      <td>1641686580.00000</td>\n",
       "      <td>41659.21000</td>\n",
       "      <td>41670.06000</td>\n",
       "      <td>41601.83000</td>\n",
       "      <td>41611.49000</td>\n",
       "      <td>ActionType.NOOP</td>\n",
       "      <td>[0.00028395813, 0.00018264189, 0.00082501565, ...</td>\n",
       "      <td>[1.5434945e-05, 1.1722226e-05, 8.31921e-06, 3....</td>\n",
       "      <td>[6]</td>\n",
       "      <td>[9]</td>\n",
       "      <td>...</td>\n",
       "      <td>41865.61000</td>\n",
       "      <td>[0.026259509309008697, 0.026146508072695626, 0...</td>\n",
       "      <td>0.48545</td>\n",
       "      <td>0.47090</td>\n",
       "      <td>0.71420</td>\n",
       "      <td>-0.00270</td>\n",
       "      <td>0.00045</td>\n",
       "      <td>-0.00000</td>\n",
       "      <td>NaN</td>\n",
       "      <td>NaN</td>\n",
       "    </tr>\n",
       "    <tr>\n",
       "      <th>2022-01-09 00:08:00+00:00</th>\n",
       "      <td>1641686880.00000</td>\n",
       "      <td>41479.94000</td>\n",
       "      <td>41500.76000</td>\n",
       "      <td>41419.93000</td>\n",
       "      <td>41460.91000</td>\n",
       "      <td>ActionType.NOOP</td>\n",
       "      <td>[6.961259e-05, 5.0820454e-05, 0.00030092167, 0...</td>\n",
       "      <td>[4.5889006e-05, 3.128108e-05, 1.8344024e-05, 6...</td>\n",
       "      <td>[7]</td>\n",
       "      <td>[9]</td>\n",
       "      <td>...</td>\n",
       "      <td>41840.61000</td>\n",
       "      <td>[0.02614310679206083, 0.026117934246361028, 0....</td>\n",
       "      <td>0.48740</td>\n",
       "      <td>0.52652</td>\n",
       "      <td>0.75328</td>\n",
       "      <td>-0.00264</td>\n",
       "      <td>0.00060</td>\n",
       "      <td>-0.00000</td>\n",
       "      <td>NaN</td>\n",
       "      <td>NaN</td>\n",
       "    </tr>\n",
       "    <tr>\n",
       "      <th>2022-01-09 00:13:00+00:00</th>\n",
       "      <td>1641687180.00000</td>\n",
       "      <td>41440.00000</td>\n",
       "      <td>41670.94000</td>\n",
       "      <td>41426.89000</td>\n",
       "      <td>41577.59000</td>\n",
       "      <td>ActionType.NOOP</td>\n",
       "      <td>[0.00015814097, 0.0001234603, 0.00070723606, 0...</td>\n",
       "      <td>[5.8321515e-05, 2.863668e-05, 1.5200444e-05, 5...</td>\n",
       "      <td>[6]</td>\n",
       "      <td>[9]</td>\n",
       "      <td>...</td>\n",
       "      <td>41802.57000</td>\n",
       "      <td>[0.02611199858370133, 0.026137820729018903, 0....</td>\n",
       "      <td>0.46220</td>\n",
       "      <td>0.48989</td>\n",
       "      <td>0.71159</td>\n",
       "      <td>-0.00267</td>\n",
       "      <td>0.00055</td>\n",
       "      <td>-0.00000</td>\n",
       "      <td>NaN</td>\n",
       "      <td>NaN</td>\n",
       "    </tr>\n",
       "    <tr>\n",
       "      <th>2022-01-09 00:25:00+00:00</th>\n",
       "      <td>1641687900.00000</td>\n",
       "      <td>41480.98000</td>\n",
       "      <td>41532.57000</td>\n",
       "      <td>41466.82000</td>\n",
       "      <td>41523.40000</td>\n",
       "      <td>ActionType.NOOP</td>\n",
       "      <td>[0.00012365845, 0.00010381089, 0.000671683, 0....</td>\n",
       "      <td>[3.4932964e-05, 2.065421e-05, 1.0802528e-05, 3...</td>\n",
       "      <td>[6]</td>\n",
       "      <td>[9]</td>\n",
       "      <td>...</td>\n",
       "      <td>41754.46000</td>\n",
       "      <td>[0.026131850618096277, 0.026197247998116336, 0...</td>\n",
       "      <td>0.47700</td>\n",
       "      <td>0.55266</td>\n",
       "      <td>0.76531</td>\n",
       "      <td>-0.00274</td>\n",
       "      <td>0.00067</td>\n",
       "      <td>-0.00000</td>\n",
       "      <td>NaN</td>\n",
       "      <td>NaN</td>\n",
       "    </tr>\n",
       "    <tr>\n",
       "      <th>2022-01-09 00:46:00+00:00</th>\n",
       "      <td>1641689160.00000</td>\n",
       "      <td>41584.79000</td>\n",
       "      <td>41765.00000</td>\n",
       "      <td>41574.99000</td>\n",
       "      <td>41720.04000</td>\n",
       "      <td>ActionType.NOOP</td>\n",
       "      <td>[5.238538e-05, 4.9717157e-05, 7.11477e-05, 9.8...</td>\n",
       "      <td>[0.00023490381, 7.9151985e-05, 3.4724213e-05, ...</td>\n",
       "      <td>[10]</td>\n",
       "      <td>[11]</td>\n",
       "      <td>...</td>\n",
       "      <td>41688.78000</td>\n",
       "      <td>[0.026192735390360395, 0.02628890922619687, 0....</td>\n",
       "      <td>0.51901</td>\n",
       "      <td>0.48254</td>\n",
       "      <td>0.74489</td>\n",
       "      <td>-0.00181</td>\n",
       "      <td>0.00137</td>\n",
       "      <td>-0.00000</td>\n",
       "      <td>NaN</td>\n",
       "      <td>NaN</td>\n",
       "    </tr>\n",
       "    <tr>\n",
       "      <th>...</th>\n",
       "      <td>...</td>\n",
       "      <td>...</td>\n",
       "      <td>...</td>\n",
       "      <td>...</td>\n",
       "      <td>...</td>\n",
       "      <td>...</td>\n",
       "      <td>...</td>\n",
       "      <td>...</td>\n",
       "      <td>...</td>\n",
       "      <td>...</td>\n",
       "      <td>...</td>\n",
       "      <td>...</td>\n",
       "      <td>...</td>\n",
       "      <td>...</td>\n",
       "      <td>...</td>\n",
       "      <td>...</td>\n",
       "      <td>...</td>\n",
       "      <td>...</td>\n",
       "      <td>...</td>\n",
       "      <td>...</td>\n",
       "      <td>...</td>\n",
       "    </tr>\n",
       "    <tr>\n",
       "      <th>2023-06-30 16:51:00+00:00</th>\n",
       "      <td>1688143860.00000</td>\n",
       "      <td>30372.80000</td>\n",
       "      <td>30470.00000</td>\n",
       "      <td>30365.30000</td>\n",
       "      <td>30440.50000</td>\n",
       "      <td>ActionType.NOOP</td>\n",
       "      <td>[0.0061495774, 0.00018050753, 0.00081764325, 0...</td>\n",
       "      <td>[0.0030833296, 0.07149258, 0.87284064, 0.04817...</td>\n",
       "      <td>[27]</td>\n",
       "      <td>[24]</td>\n",
       "      <td>...</td>\n",
       "      <td>30441.10000</td>\n",
       "      <td>[0.02624642385475425, 0.026346923614220218, 0....</td>\n",
       "      <td>0.70048</td>\n",
       "      <td>0.86199</td>\n",
       "      <td>1.13339</td>\n",
       "      <td>0.00188</td>\n",
       "      <td>-0.00360</td>\n",
       "      <td>-0.00000</td>\n",
       "      <td>NaN</td>\n",
       "      <td>NaN</td>\n",
       "    </tr>\n",
       "    <tr>\n",
       "      <th>2023-06-30 16:53:00+00:00</th>\n",
       "      <td>1688143980.00000</td>\n",
       "      <td>30489.10000</td>\n",
       "      <td>30525.00000</td>\n",
       "      <td>30450.60000</td>\n",
       "      <td>30471.30000</td>\n",
       "      <td>ActionType.NOOP</td>\n",
       "      <td>[0.0031322541, 0.0010677791, 0.0020046635, 3.9...</td>\n",
       "      <td>[0.01976914, 0.19325812, 0.19367228, 0.0127412...</td>\n",
       "      <td>[27]</td>\n",
       "      <td>[8]</td>\n",
       "      <td>...</td>\n",
       "      <td>30508.70000</td>\n",
       "      <td>[0.026345368686192246, 0.026287215335893916, 0...</td>\n",
       "      <td>0.91231</td>\n",
       "      <td>0.56757</td>\n",
       "      <td>1.09725</td>\n",
       "      <td>0.00180</td>\n",
       "      <td>0.00004</td>\n",
       "      <td>-0.00000</td>\n",
       "      <td>NaN</td>\n",
       "      <td>NaN</td>\n",
       "    </tr>\n",
       "    <tr>\n",
       "      <th>2023-06-30 16:56:00+00:00</th>\n",
       "      <td>1688144160.00000</td>\n",
       "      <td>30421.80000</td>\n",
       "      <td>30460.00000</td>\n",
       "      <td>30418.00000</td>\n",
       "      <td>30425.30000</td>\n",
       "      <td>ActionType.NOOP</td>\n",
       "      <td>[0.00017900167, 7.695741e-05, 0.0002836467, 1....</td>\n",
       "      <td>[0.0051571326, 0.12851144, 0.55542386, 0.29695...</td>\n",
       "      <td>[27]</td>\n",
       "      <td>[13]</td>\n",
       "      <td>...</td>\n",
       "      <td>30459.70000</td>\n",
       "      <td>[0.026286770138129575, 0.02626525462700139, 0....</td>\n",
       "      <td>0.73379</td>\n",
       "      <td>0.62215</td>\n",
       "      <td>0.98874</td>\n",
       "      <td>0.00167</td>\n",
       "      <td>-0.00357</td>\n",
       "      <td>-0.00000</td>\n",
       "      <td>NaN</td>\n",
       "      <td>NaN</td>\n",
       "    </tr>\n",
       "    <tr>\n",
       "      <th>2023-06-30 17:00:00+00:00</th>\n",
       "      <td>1688144400.00000</td>\n",
       "      <td>30396.90000</td>\n",
       "      <td>30407.40000</td>\n",
       "      <td>30372.00000</td>\n",
       "      <td>30381.50000</td>\n",
       "      <td>ActionType.NOOP</td>\n",
       "      <td>[0.0008620111, 4.6397417e-05, 0.0017905841, 1....</td>\n",
       "      <td>[0.00025132665, 0.0010259316, 0.94365233, 0.00...</td>\n",
       "      <td>[22]</td>\n",
       "      <td>[21]</td>\n",
       "      <td>...</td>\n",
       "      <td>30444.40000</td>\n",
       "      <td>[0.026264394507243966, 0.026263530458788126, 0...</td>\n",
       "      <td>0.81872</td>\n",
       "      <td>0.93014</td>\n",
       "      <td>1.25877</td>\n",
       "      <td>0.00077</td>\n",
       "      <td>-0.00331</td>\n",
       "      <td>-0.00000</td>\n",
       "      <td>NaN</td>\n",
       "      <td>NaN</td>\n",
       "    </tr>\n",
       "    <tr>\n",
       "      <th>2023-06-30 17:04:00+00:00</th>\n",
       "      <td>1688144640.00000</td>\n",
       "      <td>30395.90000</td>\n",
       "      <td>30458.40000</td>\n",
       "      <td>30387.60000</td>\n",
       "      <td>30447.00000</td>\n",
       "      <td>ActionType.NOOP</td>\n",
       "      <td>[0.07287635, 0.00027476362, 0.00031013382, 1.5...</td>\n",
       "      <td>[0.0069373418, 0.08681829, 0.16796508, 0.00953...</td>\n",
       "      <td>[27]</td>\n",
       "      <td>[9]</td>\n",
       "      <td>...</td>\n",
       "      <td>30467.50000</td>\n",
       "      <td>[0.026262452587286905, 0.026319650247539714, 0...</td>\n",
       "      <td>0.85580</td>\n",
       "      <td>0.45296</td>\n",
       "      <td>0.99420</td>\n",
       "      <td>0.00142</td>\n",
       "      <td>0.00154</td>\n",
       "      <td>-0.00000</td>\n",
       "      <td>NaN</td>\n",
       "      <td>NaN</td>\n",
       "    </tr>\n",
       "  </tbody>\n",
       "</table>\n",
       "<p>66202 rows × 58 columns</p>\n",
       "</div>"
      ],
      "text/plain": [
       "                                close_time  BTCUSDT_Open  BTCUSDT_High  \\\n",
       "close_time                                                               \n",
       "2022-01-09 00:03:00+00:00 1641686580.00000   41659.21000   41670.06000   \n",
       "2022-01-09 00:08:00+00:00 1641686880.00000   41479.94000   41500.76000   \n",
       "2022-01-09 00:13:00+00:00 1641687180.00000   41440.00000   41670.94000   \n",
       "2022-01-09 00:25:00+00:00 1641687900.00000   41480.98000   41532.57000   \n",
       "2022-01-09 00:46:00+00:00 1641689160.00000   41584.79000   41765.00000   \n",
       "...                                    ...           ...           ...   \n",
       "2023-06-30 16:51:00+00:00 1688143860.00000   30372.80000   30470.00000   \n",
       "2023-06-30 16:53:00+00:00 1688143980.00000   30489.10000   30525.00000   \n",
       "2023-06-30 16:56:00+00:00 1688144160.00000   30421.80000   30460.00000   \n",
       "2023-06-30 17:00:00+00:00 1688144400.00000   30396.90000   30407.40000   \n",
       "2023-06-30 17:04:00+00:00 1688144640.00000   30395.90000   30458.40000   \n",
       "\n",
       "                           BTCUSDT_Low  BTCUSDT_Close  recommendations  \\\n",
       "close_time                                                               \n",
       "2022-01-09 00:03:00+00:00  41601.83000    41611.49000  ActionType.NOOP   \n",
       "2022-01-09 00:08:00+00:00  41419.93000    41460.91000  ActionType.NOOP   \n",
       "2022-01-09 00:13:00+00:00  41426.89000    41577.59000  ActionType.NOOP   \n",
       "2022-01-09 00:25:00+00:00  41466.82000    41523.40000  ActionType.NOOP   \n",
       "2022-01-09 00:46:00+00:00  41574.99000    41720.04000  ActionType.NOOP   \n",
       "...                                ...            ...              ...   \n",
       "2023-06-30 16:51:00+00:00  30365.30000    30440.50000  ActionType.NOOP   \n",
       "2023-06-30 16:53:00+00:00  30450.60000    30471.30000  ActionType.NOOP   \n",
       "2023-06-30 16:56:00+00:00  30418.00000    30425.30000  ActionType.NOOP   \n",
       "2023-06-30 17:00:00+00:00  30372.00000    30381.50000  ActionType.NOOP   \n",
       "2023-06-30 17:04:00+00:00  30387.60000    30447.00000  ActionType.NOOP   \n",
       "\n",
       "                                                                        long  \\\n",
       "close_time                                                                     \n",
       "2022-01-09 00:03:00+00:00  [0.00028395813, 0.00018264189, 0.00082501565, ...   \n",
       "2022-01-09 00:08:00+00:00  [6.961259e-05, 5.0820454e-05, 0.00030092167, 0...   \n",
       "2022-01-09 00:13:00+00:00  [0.00015814097, 0.0001234603, 0.00070723606, 0...   \n",
       "2022-01-09 00:25:00+00:00  [0.00012365845, 0.00010381089, 0.000671683, 0....   \n",
       "2022-01-09 00:46:00+00:00  [5.238538e-05, 4.9717157e-05, 7.11477e-05, 9.8...   \n",
       "...                                                                      ...   \n",
       "2023-06-30 16:51:00+00:00  [0.0061495774, 0.00018050753, 0.00081764325, 0...   \n",
       "2023-06-30 16:53:00+00:00  [0.0031322541, 0.0010677791, 0.0020046635, 3.9...   \n",
       "2023-06-30 16:56:00+00:00  [0.00017900167, 7.695741e-05, 0.0002836467, 1....   \n",
       "2023-06-30 17:00:00+00:00  [0.0008620111, 4.6397417e-05, 0.0017905841, 1....   \n",
       "2023-06-30 17:04:00+00:00  [0.07287635, 0.00027476362, 0.00031013382, 1.5...   \n",
       "\n",
       "                                                                       short  \\\n",
       "close_time                                                                     \n",
       "2022-01-09 00:03:00+00:00  [1.5434945e-05, 1.1722226e-05, 8.31921e-06, 3....   \n",
       "2022-01-09 00:08:00+00:00  [4.5889006e-05, 3.128108e-05, 1.8344024e-05, 6...   \n",
       "2022-01-09 00:13:00+00:00  [5.8321515e-05, 2.863668e-05, 1.5200444e-05, 5...   \n",
       "2022-01-09 00:25:00+00:00  [3.4932964e-05, 2.065421e-05, 1.0802528e-05, 3...   \n",
       "2022-01-09 00:46:00+00:00  [0.00023490381, 7.9151985e-05, 3.4724213e-05, ...   \n",
       "...                                                                      ...   \n",
       "2023-06-30 16:51:00+00:00  [0.0030833296, 0.07149258, 0.87284064, 0.04817...   \n",
       "2023-06-30 16:53:00+00:00  [0.01976914, 0.19325812, 0.19367228, 0.0127412...   \n",
       "2023-06-30 16:56:00+00:00  [0.0051571326, 0.12851144, 0.55542386, 0.29695...   \n",
       "2023-06-30 17:00:00+00:00  [0.00025132665, 0.0010259316, 0.94365233, 0.00...   \n",
       "2023-06-30 17:04:00+00:00  [0.0069373418, 0.08681829, 0.16796508, 0.00953...   \n",
       "\n",
       "                          indx_hi indx_low  ... BTCUSDT_Open_38  \\\n",
       "close_time                                  ...                   \n",
       "2022-01-09 00:03:00+00:00     [6]      [9]  ...     41865.61000   \n",
       "2022-01-09 00:08:00+00:00     [7]      [9]  ...     41840.61000   \n",
       "2022-01-09 00:13:00+00:00     [6]      [9]  ...     41802.57000   \n",
       "2022-01-09 00:25:00+00:00     [6]      [9]  ...     41754.46000   \n",
       "2022-01-09 00:46:00+00:00    [10]     [11]  ...     41688.78000   \n",
       "...                           ...      ...  ...             ...   \n",
       "2023-06-30 16:51:00+00:00    [27]     [24]  ...     30441.10000   \n",
       "2023-06-30 16:53:00+00:00    [27]      [8]  ...     30508.70000   \n",
       "2023-06-30 16:56:00+00:00    [27]     [13]  ...     30459.70000   \n",
       "2023-06-30 17:00:00+00:00    [22]     [21]  ...     30444.40000   \n",
       "2023-06-30 17:04:00+00:00    [27]      [9]  ...     30467.50000   \n",
       "\n",
       "                                                                  fwd_actual  \\\n",
       "close_time                                                                     \n",
       "2022-01-09 00:03:00+00:00  [0.026259509309008697, 0.026146508072695626, 0...   \n",
       "2022-01-09 00:08:00+00:00  [0.02614310679206083, 0.026117934246361028, 0....   \n",
       "2022-01-09 00:13:00+00:00  [0.02611199858370133, 0.026137820729018903, 0....   \n",
       "2022-01-09 00:25:00+00:00  [0.026131850618096277, 0.026197247998116336, 0...   \n",
       "2022-01-09 00:46:00+00:00  [0.026192735390360395, 0.02628890922619687, 0....   \n",
       "...                                                                      ...   \n",
       "2023-06-30 16:51:00+00:00  [0.02624642385475425, 0.026346923614220218, 0....   \n",
       "2023-06-30 16:53:00+00:00  [0.026345368686192246, 0.026287215335893916, 0...   \n",
       "2023-06-30 16:56:00+00:00  [0.026286770138129575, 0.02626525462700139, 0....   \n",
       "2023-06-30 17:00:00+00:00  [0.026264394507243966, 0.026263530458788126, 0...   \n",
       "2023-06-30 17:04:00+00:00  [0.026262452587286905, 0.026319650247539714, 0...   \n",
       "\n",
       "                           long_distance_to_actual  short_distance_to_actual  \\\n",
       "close_time                                                                     \n",
       "2022-01-09 00:03:00+00:00                  0.48545                   0.47090   \n",
       "2022-01-09 00:08:00+00:00                  0.48740                   0.52652   \n",
       "2022-01-09 00:13:00+00:00                  0.46220                   0.48989   \n",
       "2022-01-09 00:25:00+00:00                  0.47700                   0.55266   \n",
       "2022-01-09 00:46:00+00:00                  0.51901                   0.48254   \n",
       "...                                            ...                       ...   \n",
       "2023-06-30 16:51:00+00:00                  0.70048                   0.86199   \n",
       "2023-06-30 16:53:00+00:00                  0.91231                   0.56757   \n",
       "2023-06-30 16:56:00+00:00                  0.73379                   0.62215   \n",
       "2023-06-30 17:00:00+00:00                  0.81872                   0.93014   \n",
       "2023-06-30 17:04:00+00:00                  0.85580                   0.45296   \n",
       "\n",
       "                           long_minus_short  long_slope  short_slope  \\\n",
       "close_time                                                             \n",
       "2022-01-09 00:03:00+00:00           0.71420    -0.00270      0.00045   \n",
       "2022-01-09 00:08:00+00:00           0.75328    -0.00264      0.00060   \n",
       "2022-01-09 00:13:00+00:00           0.71159    -0.00267      0.00055   \n",
       "2022-01-09 00:25:00+00:00           0.76531    -0.00274      0.00067   \n",
       "2022-01-09 00:46:00+00:00           0.74489    -0.00181      0.00137   \n",
       "...                                     ...         ...          ...   \n",
       "2023-06-30 16:51:00+00:00           1.13339     0.00188     -0.00360   \n",
       "2023-06-30 16:53:00+00:00           1.09725     0.00180      0.00004   \n",
       "2023-06-30 16:56:00+00:00           0.98874     0.00167     -0.00357   \n",
       "2023-06-30 17:00:00+00:00           1.25877     0.00077     -0.00331   \n",
       "2023-06-30 17:04:00+00:00           0.99420     0.00142      0.00154   \n",
       "\n",
       "                           actual_slope  entries  clean_entries  \n",
       "close_time                                                       \n",
       "2022-01-09 00:03:00+00:00      -0.00000      NaN            NaN  \n",
       "2022-01-09 00:08:00+00:00      -0.00000      NaN            NaN  \n",
       "2022-01-09 00:13:00+00:00      -0.00000      NaN            NaN  \n",
       "2022-01-09 00:25:00+00:00      -0.00000      NaN            NaN  \n",
       "2022-01-09 00:46:00+00:00      -0.00000      NaN            NaN  \n",
       "...                                 ...      ...            ...  \n",
       "2023-06-30 16:51:00+00:00      -0.00000      NaN            NaN  \n",
       "2023-06-30 16:53:00+00:00      -0.00000      NaN            NaN  \n",
       "2023-06-30 16:56:00+00:00      -0.00000      NaN            NaN  \n",
       "2023-06-30 17:00:00+00:00      -0.00000      NaN            NaN  \n",
       "2023-06-30 17:04:00+00:00      -0.00000      NaN            NaN  \n",
       "\n",
       "[66202 rows x 58 columns]"
      ]
     },
     "execution_count": 78,
     "metadata": {},
     "output_type": "execute_result"
    }
   ],
   "source": [
    "\n"
   ]
  },
  {
   "cell_type": "markdown",
   "metadata": {},
   "source": [
    "# Running backtest"
   ]
  },
  {
   "cell_type": "markdown",
   "metadata": {},
   "source": [
    "- ### Storing the results of the backtests"
   ]
  },
  {
   "cell_type": "code",
   "execution_count": 13,
   "metadata": {},
   "outputs": [],
   "source": [
    "results_as_list  = []"
   ]
  },
  {
   "cell_type": "markdown",
   "metadata": {},
   "source": [
    "- ### Baseline backtest - just listen to LSTM"
   ]
  },
  {
   "cell_type": "markdown",
   "metadata": {},
   "source": [
    "- ### Using different slopes"
   ]
  },
  {
   "cell_type": "code",
   "execution_count": 97,
   "metadata": {},
   "outputs": [],
   "source": [
    "min_long_slope  = df[\"long_slope\"].min()\n",
    "max_long_slope  = df[\"long_slope\"].max()\n",
    "min_short_slope = df[\"short_slope\"].min()\n",
    "max_short_slope = df[\"short_slope\"].max()"
   ]
  },
  {
   "cell_type": "code",
   "execution_count": 15,
   "metadata": {},
   "outputs": [],
   "source": [
    "num_quantiles               = 5\n",
    "threshold_increment         = 0.001\n",
    "quantiles                   = np.linspace(0, 1, num=num_quantiles + 1)"
   ]
  },
  {
   "cell_type": "markdown",
   "metadata": {},
   "source": [
    "- #### long_slope and short_slope"
   ]
  },
  {
   "cell_type": "markdown",
   "metadata": {},
   "source": [
    "- #### long_minus_short"
   ]
  },
  {
   "cell_type": "code",
   "execution_count": 98,
   "metadata": {},
   "outputs": [],
   "source": [
    "long_minus_short_min = df['long_minus_short'].min()\n",
    "long_minus_short_max = df['long_minus_short'].max()\n",
    "\n",
    "long_minus_short_thresholds = [x for x in np.arange(long_minus_short_min, long_minus_short_max, threshold_increment)]"
   ]
  },
  {
   "cell_type": "markdown",
   "metadata": {},
   "source": [
    "# Paramater Combinations in VBT"
   ]
  },
  {
   "cell_type": "code",
   "execution_count": 99,
   "metadata": {},
   "outputs": [],
   "source": [
    "def lms_slope_type_3(long_minus_short, long_slope, short_slope, lms_threshold, long_slope_thresh, short_slope_thresh):\n",
    "    entries       = pd.Series(np.where((long_minus_short < lms_threshold) & (long_slope > long_slope_thresh), True, False))\n",
    "    short_entries = pd.Series(np.where((long_minus_short < lms_threshold) & (short_slope < short_slope_thresh), True, False))\n",
    "    \n",
    "    return entries, short_entries\n",
    "\n",
    "# Create an indicator factory\n",
    "lms_slope_type_3_indicator = vbt.IndicatorFactory(\n",
    "    class_name  ='LongMinusShortSlopeType3', # name of the class\n",
    "    short_name  ='lmsSlope3', # name of the indicator\n",
    "    input_names =['long_minus_short', 'long_slope', 'short_slope'], # names of input arguments\n",
    "    param_names =['lms_threshold', 'long_slope_thresh', 'short_slope_thresh'], # names of parameters\n",
    "    output_names=['entries', 'short_entries'], # names of output values\n",
    ").with_apply_func(\n",
    "    lms_slope_type_3, # function to apply\n",
    "    takes_1d=True, # whether the function takes 1-dim. arrays as input\n",
    "    lms_threshold=0.5, # default value for parameter 'lms_threshold'\n",
    "    long_slope_thresh=0.0, # default value for parameter 'long_slope_thresh'\n",
    "    short_slope_thresh=0.0, # default value for parameter 'short_slope_thresh'\n",
    ")\n",
    "  "
   ]
  },
  {
   "cell_type": "markdown",
   "metadata": {},
   "source": [
    "You created the strategy up above but you haven't run it yet. In this next cell we run it with a lot of different combinations. This basically builds a big matrix of all the different strategy combinations with each having a different `lms_threshold` and `long_slope_thresh` and `short_slope_thresh`. We will use these to simulate a portfolio after this."
   ]
  },
  {
   "cell_type": "code",
   "execution_count": 100,
   "metadata": {},
   "outputs": [],
   "source": [
    "\n",
    "\n",
    "lms_min                 = df.long_minus_short.min()\n",
    "lms_max                 = df.long_minus_short.max()\n",
    "long_slope_min          = df.long_slope.min()\n",
    "long_slope_max          = df.long_slope.max()\n",
    "short_slope_min         = df.short_slope.min()\n",
    "short_slope_max         = df.short_slope.max()\n",
    "lms_increment           = abs((df.long_minus_short.max()-df.long_minus_short.min())/10)\n",
    "long_slope_increment    = abs((df.long_slope.max()-df.long_slope.min())/10)\n",
    "short_slope_increment   = abs((df.short_slope.max()-df.short_slope.min())/10)"
   ]
  },
  {
   "cell_type": "code",
   "execution_count": 19,
   "metadata": {},
   "outputs": [],
   "source": [
    "lms_strategy = lms_slope_type_3_indicator.run(\n",
    "    long_minus_short    =df['long_minus_short'],\n",
    "    long_slope          =df['long_slope'],\n",
    "    short_slope         =df['short_slope'],\n",
    "    lms_threshold       =np.arange(lms_min, lms_max, lms_increment),\n",
    "    long_slope_thresh   =np.arange(long_slope_min, long_slope_max, long_slope_increment),\n",
    "    short_slope_thresh  =np.arange(short_slope_min, short_slope_max, short_slope_increment),\n",
    "    param_product=True, # True: all combinations of parameters, False: only one combination for each parameter\n",
    ")"
   ]
  },
  {
   "cell_type": "markdown",
   "metadata": {},
   "source": [
    "Now let's run a portfolio simulation on all of those different parameter combinations. Note, the first time you run this it might take a bit but as you play and run it again it will get really fast."
   ]
  },
  {
   "cell_type": "code",
   "execution_count": 101,
   "metadata": {},
   "outputs": [
    {
     "name": "stdout",
     "output_type": "stream",
     "text": [
      "Start                         2022-01-09 00:03:00+00:00\n",
      "End                           2023-06-30 17:04:00+00:00\n",
      "Period                                 45 days 23:22:00\n",
      "Start Value                                 10000.00000\n",
      "Min Value                                    7258.74612\n",
      "Max Value                                   13695.52379\n",
      "End Value                                    9131.55045\n",
      "Total Return [%]                               -8.68450\n",
      "Benchmark Return [%]                          -26.83031\n",
      "Total Time Exposure [%]                        51.06045\n",
      "Max Gross Exposure [%]                        100.06693\n",
      "Max Drawdown [%]                               45.12538\n",
      "Max Drawdown Duration                  29 days 23:57:39\n",
      "Total Orders                                 2079.46600\n",
      "Total Fees Paid                                 0.00000\n",
      "Total Trades                                 1388.65200\n",
      "Win Rate [%]                                   51.03679\n",
      "Best Trade [%]                                  7.08219\n",
      "Worst Trade [%]                                -6.30671\n",
      "Avg Winning Trade [%]                           1.16851\n",
      "Avg Losing Trade [%]                           -1.06558\n",
      "Avg Winning Trade Duration    0 days 00:31:10.077033650\n",
      "Avg Losing Trade Duration     0 days 00:31:03.552060003\n",
      "Profit Factor                                       inf\n",
      "Expectancy                                      7.65380\n",
      "Sharpe Ratio                                    0.38524\n",
      "Calmar Ratio                                    0.02714\n",
      "Omega Ratio                                     1.02031\n",
      "Sortino Ratio                                   0.60170\n",
      "Name: agg_stats, dtype: object\n"
     ]
    }
   ],
   "source": [
    "multiple_pf = vbt.Portfolio.from_signals(\n",
    "    close               =df['BTCUSDT_Close'],\n",
    "    high                =df['BTCUSDT_High'],\n",
    "    low                 =df['BTCUSDT_Low'],\n",
    "    open                =df['BTCUSDT_Open'],\n",
    "    entries             =lms_strategy.entries,\n",
    "    short_entries       =lms_strategy.short_entries,\n",
    "    td_stop             =prediction_window,\n",
    "    time_delta_format   ='Rows',\n",
    "    accumulate          =False,\n",
    "    \n",
    ")\n",
    "\n",
    "print(multiple_pf.stats()) # Prints the average of all of the simulations"
   ]
  },
  {
   "cell_type": "code",
   "execution_count": 102,
   "metadata": {},
   "outputs": [
    {
     "data": {
      "text/plain": [
       "lmsSlope3_lms_threshold  lmsSlope3_long_slope_thresh  lmsSlope3_short_slope_thresh\n",
       "0.10839                  -0.00405                     -0.00405                           0\n",
       "                                                      -0.00324                           0\n",
       "                                                      -0.00243                           0\n",
       "                                                      -0.00162                           0\n",
       "                                                      -0.00081                           0\n",
       "                                                                                      ... \n",
       "1.28250                  0.00324                      -0.00000                        2446\n",
       "                                                      0.00081                         1995\n",
       "                                                      0.00162                         1763\n",
       "                                                      0.00243                         1679\n",
       "                                                      0.00324                         1675\n",
       "Name: count, Length: 1000, dtype: int64"
      ]
     },
     "execution_count": 102,
     "metadata": {},
     "output_type": "execute_result"
    }
   ],
   "source": [
    "multiple_pf.trades.count()"
   ]
  },
  {
   "cell_type": "code",
   "execution_count": 103,
   "metadata": {},
   "outputs": [],
   "source": [
    "num_trade_filter = multiple_pf.trades.count() > 100\n",
    "\n",
    "# Use these indexes to filter multiple_pf\n",
    "filtered_pf = multiple_pf.loc[:, num_trade_filter]"
   ]
  },
  {
   "cell_type": "code",
   "execution_count": 23,
   "metadata": {},
   "outputs": [
    {
     "data": {
      "text/plain": [
       "lmsSlope3_lms_threshold  lmsSlope3_long_slope_thresh  lmsSlope3_short_slope_thresh\n",
       "0.36930                  -0.00405                     -0.00405                         216\n",
       "                                                      -0.00324                         214\n",
       "                                                      -0.00243                         203\n",
       "                                                      -0.00162                         176\n",
       "                                                      -0.00081                         142\n",
       "                                                                                      ... \n",
       "1.28250                  0.00324                      -0.00000                        2446\n",
       "                                                      0.00081                         1995\n",
       "                                                      0.00162                         1763\n",
       "                                                      0.00243                         1679\n",
       "                                                      0.00324                         1675\n",
       "Name: count, Length: 754, dtype: int64"
      ]
     },
     "execution_count": 23,
     "metadata": {},
     "output_type": "execute_result"
    }
   ],
   "source": [
    "filtered_pf.trades.count()"
   ]
  },
  {
   "cell_type": "code",
   "execution_count": 24,
   "metadata": {},
   "outputs": [
    {
     "data": {
      "text/plain": [
       "lmsSlope3_lms_threshold  lmsSlope3_long_slope_thresh  lmsSlope3_short_slope_thresh\n",
       "0.36930                  -0.00405                     -0.00405                       -0.09413\n",
       "                                                      -0.00324                       -0.12288\n",
       "                                                      -0.00243                       -0.09622\n",
       "                                                      -0.00162                       -0.02534\n",
       "                                                      -0.00081                        0.00185\n",
       "                                                                                       ...   \n",
       "1.28250                  0.00324                      -0.00000                       -0.36066\n",
       "                                                      0.00081                        -0.25707\n",
       "                                                      0.00162                        -0.23125\n",
       "                                                      0.00243                        -0.10515\n",
       "                                                      0.00324                        -0.07497\n",
       "Name: total_return, Length: 754, dtype: float64"
      ]
     },
     "execution_count": 24,
     "metadata": {},
     "output_type": "execute_result"
    }
   ],
   "source": [
    "filtered_pf.total_return\n"
   ]
  },
  {
   "cell_type": "code",
   "execution_count": null,
   "metadata": {},
   "outputs": [],
   "source": []
  },
  {
   "cell_type": "code",
   "execution_count": 26,
   "metadata": {},
   "outputs": [],
   "source": [
    "#run_backtest_long_minus_short_entry_type_long_short(df, results_as_list, prediction_window, threshold_increment, min_num_entries, quantiles)\n",
    "\n",
    "# loop 1 is split into 100\n",
    "# for threshold in long_minus_short_thresholds:  \n",
    "#   for long_slope_threshold in long_slope_quantile_values:\n",
    "#     for short_slope_threshold in short_slope_quantile_values:\n",
    "#       entries       = pd.Series(np.where((df['long_minus_short'] < threshold) & (df['long_slope'] > long_slope_threshold), True, False))\n",
    "#       short_entries = pd.Series(np.where((df['long_minus_short'] < threshold) & (df['short_slope'] < short_slope_threshold), True, False))\n",
    "\n",
    "#       num_entries = (entries == True).sum() + (short_entries == True).sum()\n",
    "\n",
    "#       if num_entries > min_num_entries:\n",
    "#         pf = vbt.Portfolio.from_signals(\n",
    "#             high              = df['BTCUSDT_High'],\n",
    "#             low               = df['BTCUSDT_Low'],\n",
    "#             open              = df['BTCUSDT_Open'],\n",
    "#             close             = df['BTCUSDT_Close'],\n",
    "#             entries           = entries, # commented out for a short only backtest    \n",
    "#             short_entries     = short_entries,\n",
    "#             td_stop           = prediction_window, # Hold on to the position for 8 bars\n",
    "#             time_delta_format = 'Rows', # Use the row index to calculate the time delta    \n",
    "#             accumulate        = False,    \n",
    "#             )\n",
    "\n",
    "#         key = f\"Long minus short with slopes - type 3\"    \n",
    "#         slopes = PredictionWindowSlopes(long_slope_threshold, short_slope_threshold, threshold, EntryType.LONG_SHORT)\n",
    "#         store_backtest_results(key, pf, results_as_list, slopes)"
   ]
  },
  {
   "cell_type": "code",
   "execution_count": null,
   "metadata": {},
   "outputs": [],
   "source": []
  },
  {
   "cell_type": "code",
   "execution_count": null,
   "metadata": {},
   "outputs": [],
   "source": []
  },
  {
   "cell_type": "code",
   "execution_count": null,
   "metadata": {},
   "outputs": [],
   "source": []
  },
  {
   "cell_type": "code",
   "execution_count": null,
   "metadata": {},
   "outputs": [],
   "source": []
  },
  {
   "cell_type": "markdown",
   "metadata": {},
   "source": [
    "# Exporting the results"
   ]
  },
  {
   "cell_type": "code",
   "execution_count": 27,
   "metadata": {},
   "outputs": [],
   "source": [
    "results_df = export_results(results_as_list)\n",
    "results_df.to_excel(excel_output_file_name)"
   ]
  },
  {
   "cell_type": "code",
   "execution_count": 28,
   "metadata": {},
   "outputs": [],
   "source": [
    "# Use groupby on the index (date) to calculate statistics\n",
    "# bars_per_day = df.groupby(df.index.date).size()\n",
    "# min_bars_per_day = df.groupby(df.index.date).size().min()\n",
    "# max_bars_per_day = df.groupby(df.index.date).size().max()\n",
    "# average_bars_per_day = df.groupby(df.index.date).size().mean()\n",
    "\n",
    "# print(\"Number of bars per day:\")\n",
    "# print(bars_per_day)\n",
    "\n",
    "# print(\"\\nMinimum bars per day:\", min_bars_per_day)\n",
    "# print(\"Maximum bars per day:\", max_bars_per_day)\n",
    "# print(\"Average bars per day:\", average_bars_per_day)\n",
    "# bars_per_day.to_csv(\"bars_per_day.csv\")\n",
    "\n",
    "# pf.trades.records_readable.to_csv(\"records_readable.csv\")"
   ]
  },
  {
   "cell_type": "code",
   "execution_count": 29,
   "metadata": {},
   "outputs": [],
   "source": [
    "# TODO: for Joe\n",
    "# entries       = pd.Series(np.where((df['long_minus_short'] < 0.615659479451176) & (df['long_slope' ] > 0) & (df['short_slope'] > 0), True, False))\n",
    "# short_entries = pd.Series(np.where((df['long_minus_short'] < 0.615659479451176) & (df['short_slope'] < 0) & (df['long_slope' ] < 0), True, False))\n",
    "# clean_entries, clean_short_entries = entries.vbt.signals.clean(short_entries)\n",
    "# clean_entries.sum() + clean_short_entries.sum()\n",
    "# pf.trades.records_readable"
   ]
  },
  {
   "cell_type": "markdown",
   "metadata": {},
   "source": [
    "- ### Other backtests - work in progress and code may not execute at all!!!"
   ]
  },
  {
   "cell_type": "code",
   "execution_count": 30,
   "metadata": {},
   "outputs": [
    {
     "data": {
      "text/plain": [
       "count   61111.00000\n",
       "mean       -0.00005\n",
       "std         0.00251\n",
       "min        -0.00405\n",
       "25%        -0.00234\n",
       "50%        -0.00008\n",
       "75%         0.00222\n",
       "max         0.00405\n",
       "Name: long_slope, dtype: float64"
      ]
     },
     "execution_count": 30,
     "metadata": {},
     "output_type": "execute_result"
    }
   ],
   "source": [
    "df['long_slope'].describe()"
   ]
  },
  {
   "cell_type": "code",
   "execution_count": 31,
   "metadata": {},
   "outputs": [
    {
     "data": {
      "text/plain": [
       "0.00000   -0.00405\n",
       "0.20000   -0.00315\n",
       "0.40000   -0.00148\n",
       "0.60000    0.00063\n",
       "0.80000    0.00259\n",
       "1.00000    0.00405\n",
       "Name: short_slope, dtype: float64"
      ]
     },
     "execution_count": 31,
     "metadata": {},
     "output_type": "execute_result"
    }
   ],
   "source": [
    "df['short_slope'].quantile(quantiles)"
   ]
  },
  {
   "cell_type": "code",
   "execution_count": 32,
   "metadata": {},
   "outputs": [
    {
     "data": {
      "text/plain": [
       "count   61111.00000\n",
       "mean       -0.00000\n",
       "std         0.00001\n",
       "min        -0.00007\n",
       "25%        -0.00001\n",
       "50%        -0.00000\n",
       "75%         0.00001\n",
       "max         0.00007\n",
       "Name: actual_slope, dtype: float64"
      ]
     },
     "execution_count": 32,
     "metadata": {},
     "output_type": "execute_result"
    }
   ],
   "source": [
    "df['actual_slope'].describe()"
   ]
  },
  {
   "cell_type": "code",
   "execution_count": 33,
   "metadata": {},
   "outputs": [
    {
     "data": {
      "text/plain": [
       "count   61111.00000\n",
       "mean        0.89544\n",
       "std         0.20902\n",
       "min         0.10839\n",
       "25%         0.74497\n",
       "50%         0.89507\n",
       "75%         1.05143\n",
       "max         1.41295\n",
       "Name: long_minus_short, dtype: float64"
      ]
     },
     "execution_count": 33,
     "metadata": {},
     "output_type": "execute_result"
    }
   ],
   "source": [
    "df['long_minus_short'].describe()"
   ]
  },
  {
   "cell_type": "code",
   "execution_count": 34,
   "metadata": {},
   "outputs": [],
   "source": [
    "# print(f\"Num entries = {(entries == True).sum()}\")\n",
    "# print(f\"Num short entries = {(short_entries == True).sum()}\")\n",
    "# new_df[\"long_slope\"].describe()"
   ]
  }
 ],
 "metadata": {
  "kernelspec": {
   "display_name": ".venv",
   "language": "python",
   "name": "python3"
  },
  "language_info": {
   "codemirror_mode": {
    "name": "ipython",
    "version": 3
   },
   "file_extension": ".py",
   "mimetype": "text/x-python",
   "name": "python",
   "nbconvert_exporter": "python",
   "pygments_lexer": "ipython3",
   "version": "3.10.10"
  },
  "orig_nbformat": 4
 },
 "nbformat": 4,
 "nbformat_minor": 2
}
