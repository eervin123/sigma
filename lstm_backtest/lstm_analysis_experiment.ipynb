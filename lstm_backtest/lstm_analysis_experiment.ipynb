{
 "cells": [
  {
   "cell_type": "code",
   "execution_count": 1,
   "metadata": {},
   "outputs": [],
   "source": [
    "import pandas as pd\n",
    "import vectorbtpro as vbt\n",
    "import numpy as np"
   ]
  },
  {
   "cell_type": "code",
   "execution_count": 2,
   "metadata": {},
   "outputs": [],
   "source": [
    "vbt.settings.wrapping [\"freq\"]                = \"1m\"\n",
    "vbt.settings.portfolio['init_cash']           = 10000"
   ]
  },
  {
   "cell_type": "code",
   "execution_count": 3,
   "metadata": {},
   "outputs": [],
   "source": [
    "import os\n",
    "import sys\n",
    "\n",
    "sys.path.append(os.getcwd())\n",
    "\n",
    "from dataframes_merger import IntersectionDataFrameMerger, UnionDataFrameMerger\n",
    "from parameter_optimization import run_vbt_backtest, extract_metrics_from_result, DataFrameFormat\n",
    "from settings_and_params import extract_prediction_window_size, generate_excel_output_file_path, generate_dataframe_csv_output_file_path, generate_csv_for_excel_output_file_path\n",
    "from lstm_analysis_utils import process_pickle_files"
   ]
  },
  {
   "cell_type": "markdown",
   "metadata": {},
   "source": [
    "# Running backtest on just one RID"
   ]
  },
  {
   "cell_type": "markdown",
   "metadata": {},
   "source": [
    "### Old format"
   ]
  },
  {
   "cell_type": "code",
   "execution_count": null,
   "metadata": {},
   "outputs": [],
   "source": [
    "pickle_files_path               = \"../data/RID0047_LSTM_pw75_lb250_bt1000_mem10000\"\n",
    "\n",
    "model_name                      = pickle_files_path.split('/')[-1]\n",
    "prediction_window               = extract_prediction_window_size(model_name)\n",
    "excel_output_file_name          = generate_excel_output_file_path(model_name)\n",
    "csv_for_excel_output_file_name  = generate_csv_for_excel_output_file_path(model_name)\n",
    "dataframe_csv_output_file_name  = generate_dataframe_csv_output_file_path(model_name)"
   ]
  },
  {
   "cell_type": "code",
   "execution_count": 5,
   "metadata": {},
   "outputs": [
    {
     "name": "stdout",
     "output_type": "stream",
     "text": [
      "Correlation between Euclidean distance between long array and short array and future actual results:  0.16387027184406824\n",
      "Correlation between difference in long minus short predictions and future actual results for longs:  0.7528851278002029\n",
      "Correlation between difference in long minus short predictions and future actual results for shorts:  0.7552587935258038\n",
      "Correlation between long slopes and future results: -0.022706356842955373\n",
      "Correlation between short slopes and future results: 0.043585041128925334\n"
     ]
    }
   ],
   "source": [
    "df1 = process_pickle_files(pickle_files_path, prediction_window)\n",
    "df1_result = run_vbt_backtest(df1, prediction_window, DataFrameFormat.SINGLE)\n",
    "extract_metrics_from_result(df1_result, csv_for_excel_output_file_name)"
   ]
  },
  {
   "cell_type": "markdown",
   "metadata": {},
   "source": [
    "### New format"
   ]
  },
  {
   "cell_type": "code",
   "execution_count": 6,
   "metadata": {},
   "outputs": [],
   "source": [
    "DATAFRAME_CSV_FILES    = [\"../results/RID0044_LSTM_pw38_lb5000_bt2000_mem6000.csv\"]\n",
    "\n",
    "model_name                      = DATAFRAME_CSV_FILES[0].split(\"/\")[-1].split(\".\")[0]\n",
    "prediction_window               = extract_prediction_window_size(model_name)\n",
    "excel_output_file_name          = generate_excel_output_file_path(model_name)\n",
    "csv_for_excel_output_file_name  = generate_csv_for_excel_output_file_path(model_name)\n",
    "dataframe_csv_output_file_name  = generate_dataframe_csv_output_file_path(model_name)"
   ]
  },
  {
   "cell_type": "code",
   "execution_count": 11,
   "metadata": {},
   "outputs": [],
   "source": [
    "df2 = IntersectionDataFrameMerger().process(DATAFRAME_CSV_FILES)\n",
    "df2_result = run_vbt_backtest(df2, prediction_window, DataFrameFormat.MERGED)\n",
    "extract_metrics_from_result(df2_result, csv_for_excel_output_file_name)"
   ]
  },
  {
   "cell_type": "markdown",
   "metadata": {},
   "source": []
  },
  {
   "cell_type": "markdown",
   "metadata": {},
   "source": [
    "# Running backtest on multiple RIDs"
   ]
  },
  {
   "cell_type": "code",
   "execution_count": null,
   "metadata": {},
   "outputs": [],
   "source": [
    "MATCHING_DATAFRAME_CSV_FILES    = [\"../results/RID0044_LSTM_pw38_lb5000_bt2000_mem6000.csv\", \"../results/RID0046_LSTM_pw38_lb250_bt2000_mem6000.csv\"]\n",
    "MISMATCHING_DATAFRAME_CSV_FILES = [\"../results/RID0029_LSTM_pw38_lb250_bt2000_mem6000.csv\", \"../results/RID0045_LSTM_pw38_lb5000_bt2000_mem10000.csv\", \"../results/RID0046_LSTM_pw38_lb250_bt2000_mem6000.csv\"]"
   ]
  },
  {
   "cell_type": "code",
   "execution_count": null,
   "metadata": {},
   "outputs": [],
   "source": [
    "intersection_df = IntersectionDataFrameMerger().process(MISMATCHING_DATAFRAME_CSV_FILES)"
   ]
  },
  {
   "cell_type": "code",
   "execution_count": null,
   "metadata": {},
   "outputs": [],
   "source": [
    "union_df = UnionDataFrameMerger().process(MISMATCHING_DATAFRAME_CSV_FILES)"
   ]
  }
 ],
 "metadata": {
  "kernelspec": {
   "display_name": ".venv",
   "language": "python",
   "name": "python3"
  },
  "language_info": {
   "codemirror_mode": {
    "name": "ipython",
    "version": 3
   },
   "file_extension": ".py",
   "mimetype": "text/x-python",
   "name": "python",
   "nbconvert_exporter": "python",
   "pygments_lexer": "ipython3",
   "version": "3.10.12"
  },
  "orig_nbformat": 4
 },
 "nbformat": 4,
 "nbformat_minor": 2
}
