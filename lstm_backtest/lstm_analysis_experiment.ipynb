{
 "cells": [
  {
   "cell_type": "markdown",
   "metadata": {},
   "source": [
    "# Backtesting Examples and Guides"
   ]
  },
  {
   "cell_type": "code",
   "execution_count": 1,
   "metadata": {},
   "outputs": [],
   "source": [
    "import pandas as pd\n",
    "import vectorbtpro as vbt\n",
    "import numpy as np"
   ]
  },
  {
   "cell_type": "code",
   "execution_count": 2,
   "metadata": {},
   "outputs": [],
   "source": [
    "vbt.settings.wrapping [\"freq\"]                = \"1m\"\n",
    "vbt.settings.portfolio['init_cash']           = 10000"
   ]
  },
  {
   "cell_type": "code",
   "execution_count": 3,
   "metadata": {},
   "outputs": [],
   "source": [
    "import os\n",
    "import sys\n",
    "\n",
    "sys.path.append(os.getcwd())\n",
    "\n",
    "from dataframes_merger_factory import DataFrameMergerFactory\n",
    "from dataframes_merger import DataFrameMergerType\n",
    "from parameter_optimization import DataFrameFormat\n",
    "from parameter_optimization_factory import VbtBackTestProcessorType, VbtBackTestProcessorFactory\n",
    "from settings_and_params import extract_prediction_window_size\n",
    "from lstm_analysis_utils import process_pickle_files\n",
    "from multiple_models_backtesting_factory import MultiModelBacktestMethod, MultiModelBacktestFactory"
   ]
  },
  {
   "cell_type": "markdown",
   "metadata": {},
   "source": [
    "# Running backtest on just one RID"
   ]
  },
  {
   "cell_type": "markdown",
   "metadata": {},
   "source": [
    "### Old format - input is a directory containing pickle files"
   ]
  },
  {
   "cell_type": "code",
   "execution_count": null,
   "metadata": {},
   "outputs": [],
   "source": [
    "pickle_files_path               = \"../data/RID0047_LSTM_pw75_lb250_bt1000_mem10000\"\n",
    "\n",
    "model_name                      = pickle_files_path.split('/')[-1]\n",
    "prediction_window               = extract_prediction_window_size(model_name)"
   ]
  },
  {
   "cell_type": "markdown",
   "metadata": {},
   "source": [
    "- must use DataFrameFormat.SINGLE\n",
    "- VbtBackTestProcessorType can be any type that your system can handle\n",
    "- Recommended value is VbtBackTestProcessorType.WITH_MEMORY_CONSTRAINT_TWO_LOOPS unless you have more than 64 GB of RAM"
   ]
  },
  {
   "cell_type": "code",
   "execution_count": null,
   "metadata": {},
   "outputs": [],
   "source": [
    "df1 = process_pickle_files(pickle_files_path, prediction_window)\n",
    "df1_result = VbtBackTestProcessorFactory.create(VbtBackTestProcessorType.WITH_MEMORY_CONSTRAINT_TWO_LOOPS, df1, prediction_window, DataFrameFormat.SINGLE).run_backtest()"
   ]
  },
  {
   "cell_type": "markdown",
   "metadata": {},
   "source": [
    "### New format - input is the CSV file containing the dataframe dumped by calling process_pickle_files() first\n",
    "Or it could be the files downloaded from our Google shared drive"
   ]
  },
  {
   "cell_type": "code",
   "execution_count": null,
   "metadata": {},
   "outputs": [],
   "source": [
    "DATAFRAME_CSV_FILES    = [\"../results/RID0047_LSTM_pw75_lb250_bt1000_mem10000.csv\"]\n",
    "\n",
    "model_name             = DATAFRAME_CSV_FILES[0].split(\"/\")[-1].split(\".\")[0]\n",
    "prediction_window      = extract_prediction_window_size(model_name)"
   ]
  },
  {
   "cell_type": "markdown",
   "metadata": {},
   "source": [
    "- Must use DataFrameFormat.MERGED\n",
    "- VbtBackTestProcessorType can be any type that your system can handle\n",
    "- Recommended value is VbtBackTestProcessorType.WITH_MEMORY_CONSTRAINT_TWO_LOOPS unless you have more than 64 GB of RAM"
   ]
  },
  {
   "cell_type": "code",
   "execution_count": null,
   "metadata": {},
   "outputs": [],
   "source": [
    "df2 = DataFrameMergerFactory.create(DataFrameMergerType.INTERSECTION).process(DATAFRAME_CSV_FILES)\n",
    "df2_result = VbtBackTestProcessorFactory.create(VbtBackTestProcessorType.WITH_MEMORY_CONSTRAINT_TWO_LOOPS, df2, prediction_window, DataFrameFormat.MERGED).run_backtest()"
   ]
  },
  {
   "cell_type": "markdown",
   "metadata": {},
   "source": []
  },
  {
   "cell_type": "markdown",
   "metadata": {},
   "source": [
    "# Running backtest on multiple RIDs"
   ]
  },
  {
   "cell_type": "markdown",
   "metadata": {},
   "source": [
    "### Using average method"
   ]
  },
  {
   "cell_type": "code",
   "execution_count": null,
   "metadata": {},
   "outputs": [],
   "source": [
    "MISMATCHING_DATAFRAME_CSV_FILES = [  \"../results/RID0029_LSTM_pw38_lb250_bt2000_mem6000.csv\"\n",
    "                                   , \"../results/RID0045_LSTM_pw38_lb5000_bt2000_mem10000.csv\"\n",
    "                                   , \"../results/RID0046_LSTM_pw38_lb250_bt2000_mem6000.csv\"]"
   ]
  },
  {
   "cell_type": "markdown",
   "metadata": {},
   "source": [
    "The merger type can either be INTERSECTION or UNION"
   ]
  },
  {
   "cell_type": "code",
   "execution_count": null,
   "metadata": {},
   "outputs": [],
   "source": [
    "merger = DataFrameMergerFactory.create(DataFrameMergerType.INTERSECTION)"
   ]
  },
  {
   "cell_type": "markdown",
   "metadata": {},
   "source": [
    "Running the back test is one line of code"
   ]
  },
  {
   "cell_type": "code",
   "execution_count": null,
   "metadata": {},
   "outputs": [],
   "source": [
    "df, result = MultiModelBacktestFactory.create(MultiModelBacktestMethod.AVERAGE, merger, MISMATCHING_DATAFRAME_CSV_FILES).run()"
   ]
  },
  {
   "cell_type": "markdown",
   "metadata": {},
   "source": [
    "### Using majority method"
   ]
  },
  {
   "cell_type": "code",
   "execution_count": 4,
   "metadata": {},
   "outputs": [],
   "source": [
    "MODEL_NAMES = [\"RID0029_LSTM_pw38_lb250_bt2000_mem6000\", \"RID0045_LSTM_pw38_lb5000_bt2000_mem10000\"]"
   ]
  },
  {
   "cell_type": "code",
   "execution_count": 5,
   "metadata": {},
   "outputs": [],
   "source": [
    "merger = DataFrameMergerFactory.create(DataFrameMergerType.INTERSECTION)"
   ]
  },
  {
   "cell_type": "code",
   "execution_count": 6,
   "metadata": {},
   "outputs": [],
   "source": [
    "df, result = MultiModelBacktestFactory.create(MultiModelBacktestMethod.MAJORITY, merger, MODEL_NAMES).run()"
   ]
  }
 ],
 "metadata": {
  "kernelspec": {
   "display_name": ".venv",
   "language": "python",
   "name": "python3"
  },
  "language_info": {
   "codemirror_mode": {
    "name": "ipython",
    "version": 3
   },
   "file_extension": ".py",
   "mimetype": "text/x-python",
   "name": "python",
   "nbconvert_exporter": "python",
   "pygments_lexer": "ipython3",
   "version": "3.10.12"
  },
  "orig_nbformat": 4
 },
 "nbformat": 4,
 "nbformat_minor": 2
}
