{
 "cells": [
  {
   "cell_type": "markdown",
   "metadata": {},
   "source": [
    "# Backtesting Examples and Guides"
   ]
  },
  {
   "cell_type": "code",
   "execution_count": 1,
   "metadata": {},
   "outputs": [],
   "source": [
    "import pandas as pd\n",
    "import vectorbtpro as vbt\n",
    "import numpy as np"
   ]
  },
  {
   "cell_type": "code",
   "execution_count": 2,
   "metadata": {},
   "outputs": [],
   "source": [
    "vbt.settings.wrapping [\"freq\"]                = \"1m\"\n",
    "vbt.settings.portfolio['init_cash']           = 10000"
   ]
  },
  {
   "cell_type": "code",
   "execution_count": 3,
   "metadata": {},
   "outputs": [],
   "source": [
    "import os\n",
    "import sys\n",
    "\n",
    "sys.path.append(os.getcwd())\n",
    "\n",
    "from dataframes_merger_factory import DataFrameMergerType, DataFrameMergerFactory\n",
    "from dataframes_merger import DataFrameMergerUtils\n",
    "from parameter_optimization import DataFrameFormat\n",
    "from parameter_optimization_factory import VbtBackTestProcessorType, VbtBackTestProcessorFactory\n",
    "from settings_and_params import extract_prediction_window_size, get_data_frame_file_path, get_results_file_path, generate_csv_for_excel_output_file_path, extract_run_id\n",
    "from lstm_analysis_utils import process_pickle_files\n",
    "from multiple_models_backtesting import MultiModelBacktest, MultiModelBacktestMethod"
   ]
  },
  {
   "cell_type": "markdown",
   "metadata": {},
   "source": [
    "# Running backtest on just one RID"
   ]
  },
  {
   "cell_type": "markdown",
   "metadata": {},
   "source": [
    "### Old format - input is a directory containing pickle files"
   ]
  },
  {
   "cell_type": "code",
   "execution_count": null,
   "metadata": {},
   "outputs": [],
   "source": [
    "pickle_files_path               = \"../data/RID0047_LSTM_pw75_lb250_bt1000_mem10000\"\n",
    "\n",
    "model_name                      = pickle_files_path.split('/')[-1]\n",
    "prediction_window               = extract_prediction_window_size(model_name)"
   ]
  },
  {
   "cell_type": "markdown",
   "metadata": {},
   "source": [
    "- must use DataFrameFormat.SINGLE\n",
    "- VbtBackTestProcessorType can be any type that your system can handle\n",
    "- Recommended value is VbtBackTestProcessorType.WITH_MEMORY_CONSTRAINT_TWO_LOOPS unless you have more than 64 GB of RAM"
   ]
  },
  {
   "cell_type": "code",
   "execution_count": null,
   "metadata": {},
   "outputs": [],
   "source": [
    "df1 = process_pickle_files(pickle_files_path, prediction_window)\n",
    "df1_result = VbtBackTestProcessorFactory.create(VbtBackTestProcessorType.WITH_MEMORY_CONSTRAINT_TWO_LOOPS, df1, prediction_window, DataFrameFormat.SINGLE).run_backtest()"
   ]
  },
  {
   "cell_type": "markdown",
   "metadata": {},
   "source": [
    "### New format - input is the CSV file containing the dataframe dumped by calling process_pickle_files() first\n",
    "Or it could be the files downloaded from our Google shared drive"
   ]
  },
  {
   "cell_type": "code",
   "execution_count": null,
   "metadata": {},
   "outputs": [],
   "source": [
    "DATAFRAME_CSV_FILES    = [\"../results/RID0047_LSTM_pw75_lb250_bt1000_mem10000.csv\"]\n",
    "\n",
    "model_name             = DATAFRAME_CSV_FILES[0].split(\"/\")[-1].split(\".\")[0]\n",
    "prediction_window      = extract_prediction_window_size(model_name)"
   ]
  },
  {
   "cell_type": "markdown",
   "metadata": {},
   "source": [
    "- Must use DataFrameFormat.MERGED\n",
    "- VbtBackTestProcessorType can be any type that your system can handle\n",
    "- Recommended value is VbtBackTestProcessorType.WITH_MEMORY_CONSTRAINT_TWO_LOOPS unless you have more than 64 GB of RAM"
   ]
  },
  {
   "cell_type": "code",
   "execution_count": null,
   "metadata": {},
   "outputs": [],
   "source": [
    "df2 = DataFrameMergerFactory.create(DataFrameMergerType.INTERSECTION).process(DATAFRAME_CSV_FILES)\n",
    "df2_result = VbtBackTestProcessorFactory.create(VbtBackTestProcessorType.WITH_MEMORY_CONSTRAINT_TWO_LOOPS, df2, prediction_window, DataFrameFormat.MERGED).run_backtest()"
   ]
  },
  {
   "cell_type": "markdown",
   "metadata": {},
   "source": []
  },
  {
   "cell_type": "markdown",
   "metadata": {},
   "source": [
    "# Running backtest on multiple RIDs"
   ]
  },
  {
   "cell_type": "markdown",
   "metadata": {},
   "source": [
    "### Using average method"
   ]
  },
  {
   "cell_type": "code",
   "execution_count": null,
   "metadata": {},
   "outputs": [],
   "source": [
    "MISMATCHING_DATAFRAME_CSV_FILES = [  \"../results/RID0029_LSTM_pw38_lb250_bt2000_mem6000.csv\"\n",
    "                                   , \"../results/RID0045_LSTM_pw38_lb5000_bt2000_mem10000.csv\"\n",
    "                                   , \"../results/RID0046_LSTM_pw38_lb250_bt2000_mem6000.csv\"]"
   ]
  },
  {
   "cell_type": "markdown",
   "metadata": {},
   "source": [
    "The merger type can either be INTERSECTION or UNION"
   ]
  },
  {
   "cell_type": "code",
   "execution_count": null,
   "metadata": {},
   "outputs": [],
   "source": [
    "merger = DataFrameMergerFactory.create(DataFrameMergerType.INTERSECTION)"
   ]
  },
  {
   "cell_type": "markdown",
   "metadata": {},
   "source": [
    "Running the back test is one line of code"
   ]
  },
  {
   "cell_type": "code",
   "execution_count": null,
   "metadata": {},
   "outputs": [],
   "source": [
    "df, result = MultiModelBacktest(merger, MISMATCHING_DATAFRAME_CSV_FILES).run()"
   ]
  },
  {
   "cell_type": "markdown",
   "metadata": {},
   "source": [
    "### Using individual method"
   ]
  },
  {
   "cell_type": "code",
   "execution_count": 4,
   "metadata": {},
   "outputs": [],
   "source": [
    "MODEL_NAMES = [\"RID0029_LSTM_pw38_lb250_bt2000_mem6000\", \"RID0045_LSTM_pw38_lb5000_bt2000_mem10000\"]"
   ]
  },
  {
   "cell_type": "code",
   "execution_count": 5,
   "metadata": {},
   "outputs": [],
   "source": [
    "intersection_df = DataFrameMergerFactory.create(DataFrameMergerType.INTERSECTION).process([get_data_frame_file_path(entry) for entry in MODEL_NAMES])\n",
    "union_df = DataFrameMergerFactory.create(DataFrameMergerType.UNION).process([get_data_frame_file_path(entry) for entry in MODEL_NAMES])"
   ]
  },
  {
   "cell_type": "code",
   "execution_count": 6,
   "metadata": {},
   "outputs": [],
   "source": [
    "from typing import Dict\n",
    "\n",
    "\n",
    "def load_result_files(model_names: str) -> Dict[str, pd.DataFrame]:\n",
    "  return {extract_run_id(model_name): pd.read_csv(get_results_file_path(model_name)) for model_name in model_names}"
   ]
  },
  {
   "cell_type": "code",
   "execution_count": 7,
   "metadata": {},
   "outputs": [],
   "source": [
    "MODEL_NAMES.sort()\n",
    "full_results = load_result_files(MODEL_NAMES)"
   ]
  },
  {
   "cell_type": "code",
   "execution_count": 8,
   "metadata": {},
   "outputs": [],
   "source": [
    "def select_top_n_combinations(df: pd.DataFrame, n: int) -> pd.DataFrame:\n",
    "  df[\"combined_weight\"]         = df[\"total_return\"] * df[\"win_rate\"] * df[\"sharpe_ratio\"] * df[\"sortino_ratio\"] * (1 + df[\"max_drawdown\"]) * df[\"profit_factor\"]\n",
    "  df[\"long_short_count\"]        = df[\"long_count\"] + df[\"short_count\"]\n",
    "  df[\"long_vs_short_diff_pct\"]  = abs((df[\"long_count\"] / df[\"long_short_count\"]) - (df[\"short_count\"] / df[\"long_short_count\"]))\n",
    "\n",
    "  filtered_df = df[(df[\"long_vs_short_diff_pct\"] < 0.5)].nlargest(n, \"combined_weight\")\n",
    "\n",
    "  return filtered_df\n"
   ]
  },
  {
   "cell_type": "code",
   "execution_count": 9,
   "metadata": {},
   "outputs": [],
   "source": [
    "def select_top_performing_combinations(full_results: Dict[str, pd.DataFrame]) -> Dict[str, pd.DataFrame]:\n",
    "  return {key: select_top_n_combinations(value, 10) for key, value in full_results.items()}"
   ]
  },
  {
   "cell_type": "code",
   "execution_count": 10,
   "metadata": {},
   "outputs": [],
   "source": [
    "top_results = select_top_performing_combinations(full_results)"
   ]
  },
  {
   "cell_type": "code",
   "execution_count": 11,
   "metadata": {},
   "outputs": [],
   "source": [
    "from dataclasses import dataclass\n",
    "from typing import List, Tuple\n",
    "import itertools\n",
    "\n",
    "@dataclass\n",
    "class Thresholds:  \n",
    "  model_id        : str\n",
    "  long_slope      : float\n",
    "  short_slope     : float\n",
    "  long_minus_short: float\n",
    "    \n",
    "def extract_thresholds(df: pd.DataFrame, model_id: str) -> List[Thresholds]:\n",
    "  return [Thresholds( model_id        = model_id,\n",
    "                      long_slope      = row['LMSWithSlopes_long_slope_thresh'],\n",
    "                      short_slope     = row['LMSWithSlopes_short_slope_thresh'],\n",
    "                      long_minus_short= row['LMSWithSlopes_lms_threshold'])\n",
    "          for _, row in df.iterrows()]\n",
    "\n",
    "\n",
    "def extract_thresholds_from_models(data: Dict[str, pd.DataFrame]) -> Dict[str, List[Thresholds]]:\n",
    "  result = {}\n",
    "\n",
    "  for key, value in data.items():\n",
    "    result[key] = extract_thresholds(value, key)\n",
    "\n",
    "  return result\n",
    "\n",
    "\n",
    "def calculate_majority_count(num_cols: int) -> int:  \n",
    "  return (num_cols // 2) + 1\n",
    "\n",
    "\n",
    "\n",
    "\n",
    "def calc_product(data: Dict[str, List[Thresholds]]) -> List[List[Thresholds]]:\n",
    "  # Get the values from the dictionary\n",
    "  values = list(data.values())\n",
    "\n",
    "  # Generate all possible combinations\n",
    "  combinations = list(itertools.product(*values))\n",
    "\n",
    "  return [list(entry) for entry in combinations]\n",
    "  "
   ]
  },
  {
   "cell_type": "code",
   "execution_count": 12,
   "metadata": {},
   "outputs": [],
   "source": [
    "def calculate_entries_using_majority_rule(df: pd.DataFrame, thresholds: List[Thresholds]):\n",
    "  entries_series_list       = []\n",
    "  short_entries_series_list = []\n",
    "\n",
    "  for model_thresholds in thresholds:\n",
    "    lms_col_name          = DataFrameMergerUtils.get_long_minus_short_col_name(model_thresholds.model_id)\n",
    "    long_slope_col_name   = DataFrameMergerUtils.get_long_slope_col_name(model_thresholds.model_id)\n",
    "    short_slope_col_name  = DataFrameMergerUtils.get_short_slope_col_name(model_thresholds.model_id)\n",
    "\n",
    "    entries_series        = pd.Series(np.where((df[lms_col_name] < model_thresholds.long_minus_short) & (df[long_slope_col_name ] > model_thresholds.long_slope ), True, False))\n",
    "    short_entries_series  = pd.Series(np.where((df[lms_col_name] < model_thresholds.long_minus_short) & (df[short_slope_col_name] < model_thresholds.short_slope), True, False))\n",
    "\n",
    "    entries_series_list.append(entries_series)\n",
    "    short_entries_series_list.append(short_entries_series)\n",
    "\n",
    "  num_true_entries        = sum(entries_series_list)\n",
    "  num_true_short_entries  = sum(short_entries_series_list)\n",
    "  majority_count          = calculate_majority_count(len(thresholds))\n",
    "\n",
    "  majority_entries        = num_true_entries >= majority_count\n",
    "  majority_short_entries  = num_true_short_entries >= majority_count\n",
    "\n",
    "  return majority_entries, majority_short_entries\n",
    "    "
   ]
  },
  {
   "cell_type": "code",
   "execution_count": 13,
   "metadata": {},
   "outputs": [],
   "source": [
    "top_results_thresholds = extract_thresholds_from_models(top_results)"
   ]
  },
  {
   "cell_type": "code",
   "execution_count": 14,
   "metadata": {},
   "outputs": [],
   "source": [
    "flattened_combinations = calc_product(top_results_thresholds)"
   ]
  },
  {
   "cell_type": "code",
   "execution_count": 15,
   "metadata": {},
   "outputs": [
    {
     "data": {
      "text/plain": [
       "[[Thresholds(model_id='RID0029', long_slope=0.0034901446115511, short_slope=-0.0034901491865038, long_minus_short=0.8282123056465182),\n",
       "  Thresholds(model_id='RID0045', long_slope=-0.0018148835764432, short_slope=0.0001395794120174, long_minus_short=0.8632932058696089)],\n",
       " [Thresholds(model_id='RID0029', long_slope=0.0034901446115511, short_slope=-0.0034901491865038, long_minus_short=0.8282123056465182),\n",
       "  Thresholds(model_id='RID0045', long_slope=-0.002931733149661, short_slope=0.0009772104746914, long_minus_short=0.954925427149082)],\n",
       " [Thresholds(model_id='RID0029', long_slope=0.0034901446115511, short_slope=-0.0034901491865038, long_minus_short=0.8282123056465182),\n",
       "  Thresholds(model_id='RID0045', long_slope=-0.0015356711831387, short_slope=0.0001395794120174, long_minus_short=0.8632932058696089)],\n",
       " [Thresholds(model_id='RID0029', long_slope=0.0034901446115511, short_slope=-0.0034901491865038, long_minus_short=0.8282123056465182),\n",
       "  Thresholds(model_id='RID0045', long_slope=0.0015356651432104, short_slope=-0.0026525241302293, long_minus_short=0.5883965420311895)],\n",
       " [Thresholds(model_id='RID0029', long_slope=0.0034901446115511, short_slope=-0.0034901491865038, long_minus_short=0.8282123056465182),\n",
       "  Thresholds(model_id='RID0045', long_slope=-0.002931733149661, short_slope=-0.0001396309422072, long_minus_short=0.9091093165093456)],\n",
       " [Thresholds(model_id='RID0029', long_slope=0.0034901446115511, short_slope=-0.0034901491865038, long_minus_short=0.8282123056465182),\n",
       "  Thresholds(model_id='RID0045', long_slope=0.0015356651432104, short_slope=-0.0023733137760046, long_minus_short=0.5883965420311895)],\n",
       " [Thresholds(model_id='RID0029', long_slope=0.0034901446115511, short_slope=-0.0034901491865038, long_minus_short=0.8282123056465182),\n",
       "  Thresholds(model_id='RID0045', long_slope=-0.002931733149661, short_slope=0.0012564208289161, long_minus_short=0.6800287633106626)],\n",
       " [Thresholds(model_id='RID0029', long_slope=0.0034901446115511, short_slope=-0.0034901491865038, long_minus_short=0.8282123056465182),\n",
       "  Thresholds(model_id='RID0045', long_slope=-0.0018148835764432, short_slope=-0.0001396309422072, long_minus_short=0.8174770952298723)],\n",
       " [Thresholds(model_id='RID0029', long_slope=0.0034901446115511, short_slope=-0.0034901491865038, long_minus_short=0.8282123056465182),\n",
       "  Thresholds(model_id='RID0045', long_slope=-0.002931733149661, short_slope=0.0006980001204668, long_minus_short=0.954925427149082)],\n",
       " [Thresholds(model_id='RID0029', long_slope=0.0034901446115511, short_slope=-0.0034901491865038, long_minus_short=0.8282123056465182),\n",
       "  Thresholds(model_id='RID0045', long_slope=-0.002931733149661, short_slope=0.0012564208289161, long_minus_short=1.1381898697080284)],\n",
       " [Thresholds(model_id='RID0029', long_slope=0.0023732961330376, short_slope=-0.0023733016293233, long_minus_short=0.8282123056465182),\n",
       "  Thresholds(model_id='RID0045', long_slope=-0.0018148835764432, short_slope=0.0001395794120174, long_minus_short=0.8632932058696089)],\n",
       " [Thresholds(model_id='RID0029', long_slope=0.0023732961330376, short_slope=-0.0023733016293233, long_minus_short=0.8282123056465182),\n",
       "  Thresholds(model_id='RID0045', long_slope=-0.002931733149661, short_slope=0.0009772104746914, long_minus_short=0.954925427149082)],\n",
       " [Thresholds(model_id='RID0029', long_slope=0.0023732961330376, short_slope=-0.0023733016293233, long_minus_short=0.8282123056465182),\n",
       "  Thresholds(model_id='RID0045', long_slope=-0.0015356711831387, short_slope=0.0001395794120174, long_minus_short=0.8632932058696089)],\n",
       " [Thresholds(model_id='RID0029', long_slope=0.0023732961330376, short_slope=-0.0023733016293233, long_minus_short=0.8282123056465182),\n",
       "  Thresholds(model_id='RID0045', long_slope=0.0015356651432104, short_slope=-0.0026525241302293, long_minus_short=0.5883965420311895)],\n",
       " [Thresholds(model_id='RID0029', long_slope=0.0023732961330376, short_slope=-0.0023733016293233, long_minus_short=0.8282123056465182),\n",
       "  Thresholds(model_id='RID0045', long_slope=-0.002931733149661, short_slope=-0.0001396309422072, long_minus_short=0.9091093165093456)],\n",
       " [Thresholds(model_id='RID0029', long_slope=0.0023732961330376, short_slope=-0.0023733016293233, long_minus_short=0.8282123056465182),\n",
       "  Thresholds(model_id='RID0045', long_slope=0.0015356651432104, short_slope=-0.0023733137760046, long_minus_short=0.5883965420311895)],\n",
       " [Thresholds(model_id='RID0029', long_slope=0.0023732961330376, short_slope=-0.0023733016293233, long_minus_short=0.8282123056465182),\n",
       "  Thresholds(model_id='RID0045', long_slope=-0.002931733149661, short_slope=0.0012564208289161, long_minus_short=0.6800287633106626)],\n",
       " [Thresholds(model_id='RID0029', long_slope=0.0023732961330376, short_slope=-0.0023733016293233, long_minus_short=0.8282123056465182),\n",
       "  Thresholds(model_id='RID0045', long_slope=-0.0018148835764432, short_slope=-0.0001396309422072, long_minus_short=0.8174770952298723)],\n",
       " [Thresholds(model_id='RID0029', long_slope=0.0023732961330376, short_slope=-0.0023733016293233, long_minus_short=0.8282123056465182),\n",
       "  Thresholds(model_id='RID0045', long_slope=-0.002931733149661, short_slope=0.0006980001204668, long_minus_short=0.954925427149082)],\n",
       " [Thresholds(model_id='RID0029', long_slope=0.0023732961330376, short_slope=-0.0023733016293233, long_minus_short=0.8282123056465182),\n",
       "  Thresholds(model_id='RID0045', long_slope=-0.002931733149661, short_slope=0.0012564208289161, long_minus_short=1.1381898697080284)],\n",
       " [Thresholds(model_id='RID0029', long_slope=0.0012564476545241, short_slope=-0.0029317254079136, long_minus_short=0.8282123056465182),\n",
       "  Thresholds(model_id='RID0045', long_slope=-0.0018148835764432, short_slope=0.0001395794120174, long_minus_short=0.8632932058696089)],\n",
       " [Thresholds(model_id='RID0029', long_slope=0.0012564476545241, short_slope=-0.0029317254079136, long_minus_short=0.8282123056465182),\n",
       "  Thresholds(model_id='RID0045', long_slope=-0.002931733149661, short_slope=0.0009772104746914, long_minus_short=0.954925427149082)],\n",
       " [Thresholds(model_id='RID0029', long_slope=0.0012564476545241, short_slope=-0.0029317254079136, long_minus_short=0.8282123056465182),\n",
       "  Thresholds(model_id='RID0045', long_slope=-0.0015356711831387, short_slope=0.0001395794120174, long_minus_short=0.8632932058696089)],\n",
       " [Thresholds(model_id='RID0029', long_slope=0.0012564476545241, short_slope=-0.0029317254079136, long_minus_short=0.8282123056465182),\n",
       "  Thresholds(model_id='RID0045', long_slope=0.0015356651432104, short_slope=-0.0026525241302293, long_minus_short=0.5883965420311895)],\n",
       " [Thresholds(model_id='RID0029', long_slope=0.0012564476545241, short_slope=-0.0029317254079136, long_minus_short=0.8282123056465182),\n",
       "  Thresholds(model_id='RID0045', long_slope=-0.002931733149661, short_slope=-0.0001396309422072, long_minus_short=0.9091093165093456)],\n",
       " [Thresholds(model_id='RID0029', long_slope=0.0012564476545241, short_slope=-0.0029317254079136, long_minus_short=0.8282123056465182),\n",
       "  Thresholds(model_id='RID0045', long_slope=0.0015356651432104, short_slope=-0.0023733137760046, long_minus_short=0.5883965420311895)],\n",
       " [Thresholds(model_id='RID0029', long_slope=0.0012564476545241, short_slope=-0.0029317254079136, long_minus_short=0.8282123056465182),\n",
       "  Thresholds(model_id='RID0045', long_slope=-0.002931733149661, short_slope=0.0012564208289161, long_minus_short=0.6800287633106626)],\n",
       " [Thresholds(model_id='RID0029', long_slope=0.0012564476545241, short_slope=-0.0029317254079136, long_minus_short=0.8282123056465182),\n",
       "  Thresholds(model_id='RID0045', long_slope=-0.0018148835764432, short_slope=-0.0001396309422072, long_minus_short=0.8174770952298723)],\n",
       " [Thresholds(model_id='RID0029', long_slope=0.0012564476545241, short_slope=-0.0029317254079136, long_minus_short=0.8282123056465182),\n",
       "  Thresholds(model_id='RID0045', long_slope=-0.002931733149661, short_slope=0.0006980001204668, long_minus_short=0.954925427149082)],\n",
       " [Thresholds(model_id='RID0029', long_slope=0.0012564476545241, short_slope=-0.0029317254079136, long_minus_short=0.8282123056465182),\n",
       "  Thresholds(model_id='RID0045', long_slope=-0.002931733149661, short_slope=0.0012564208289161, long_minus_short=1.1381898697080284)],\n",
       " [Thresholds(model_id='RID0029', long_slope=0.0034901446115511, short_slope=-0.0034901491865038, long_minus_short=0.7832233284054131),\n",
       "  Thresholds(model_id='RID0045', long_slope=-0.0018148835764432, short_slope=0.0001395794120174, long_minus_short=0.8632932058696089)],\n",
       " [Thresholds(model_id='RID0029', long_slope=0.0034901446115511, short_slope=-0.0034901491865038, long_minus_short=0.7832233284054131),\n",
       "  Thresholds(model_id='RID0045', long_slope=-0.002931733149661, short_slope=0.0009772104746914, long_minus_short=0.954925427149082)],\n",
       " [Thresholds(model_id='RID0029', long_slope=0.0034901446115511, short_slope=-0.0034901491865038, long_minus_short=0.7832233284054131),\n",
       "  Thresholds(model_id='RID0045', long_slope=-0.0015356711831387, short_slope=0.0001395794120174, long_minus_short=0.8632932058696089)],\n",
       " [Thresholds(model_id='RID0029', long_slope=0.0034901446115511, short_slope=-0.0034901491865038, long_minus_short=0.7832233284054131),\n",
       "  Thresholds(model_id='RID0045', long_slope=0.0015356651432104, short_slope=-0.0026525241302293, long_minus_short=0.5883965420311895)],\n",
       " [Thresholds(model_id='RID0029', long_slope=0.0034901446115511, short_slope=-0.0034901491865038, long_minus_short=0.7832233284054131),\n",
       "  Thresholds(model_id='RID0045', long_slope=-0.002931733149661, short_slope=-0.0001396309422072, long_minus_short=0.9091093165093456)],\n",
       " [Thresholds(model_id='RID0029', long_slope=0.0034901446115511, short_slope=-0.0034901491865038, long_minus_short=0.7832233284054131),\n",
       "  Thresholds(model_id='RID0045', long_slope=0.0015356651432104, short_slope=-0.0023733137760046, long_minus_short=0.5883965420311895)],\n",
       " [Thresholds(model_id='RID0029', long_slope=0.0034901446115511, short_slope=-0.0034901491865038, long_minus_short=0.7832233284054131),\n",
       "  Thresholds(model_id='RID0045', long_slope=-0.002931733149661, short_slope=0.0012564208289161, long_minus_short=0.6800287633106626)],\n",
       " [Thresholds(model_id='RID0029', long_slope=0.0034901446115511, short_slope=-0.0034901491865038, long_minus_short=0.7832233284054131),\n",
       "  Thresholds(model_id='RID0045', long_slope=-0.0018148835764432, short_slope=-0.0001396309422072, long_minus_short=0.8174770952298723)],\n",
       " [Thresholds(model_id='RID0029', long_slope=0.0034901446115511, short_slope=-0.0034901491865038, long_minus_short=0.7832233284054131),\n",
       "  Thresholds(model_id='RID0045', long_slope=-0.002931733149661, short_slope=0.0006980001204668, long_minus_short=0.954925427149082)],\n",
       " [Thresholds(model_id='RID0029', long_slope=0.0034901446115511, short_slope=-0.0034901491865038, long_minus_short=0.7832233284054131),\n",
       "  Thresholds(model_id='RID0045', long_slope=-0.002931733149661, short_slope=0.0012564208289161, long_minus_short=1.1381898697080284)],\n",
       " [Thresholds(model_id='RID0029', long_slope=-0.0037693704987867, short_slope=0.003769359935169, long_minus_short=1.1881241235753586),\n",
       "  Thresholds(model_id='RID0045', long_slope=-0.0018148835764432, short_slope=0.0001395794120174, long_minus_short=0.8632932058696089)],\n",
       " [Thresholds(model_id='RID0029', long_slope=-0.0037693704987867, short_slope=0.003769359935169, long_minus_short=1.1881241235753586),\n",
       "  Thresholds(model_id='RID0045', long_slope=-0.002931733149661, short_slope=0.0009772104746914, long_minus_short=0.954925427149082)],\n",
       " [Thresholds(model_id='RID0029', long_slope=-0.0037693704987867, short_slope=0.003769359935169, long_minus_short=1.1881241235753586),\n",
       "  Thresholds(model_id='RID0045', long_slope=-0.0015356711831387, short_slope=0.0001395794120174, long_minus_short=0.8632932058696089)],\n",
       " [Thresholds(model_id='RID0029', long_slope=-0.0037693704987867, short_slope=0.003769359935169, long_minus_short=1.1881241235753586),\n",
       "  Thresholds(model_id='RID0045', long_slope=0.0015356651432104, short_slope=-0.0026525241302293, long_minus_short=0.5883965420311895)],\n",
       " [Thresholds(model_id='RID0029', long_slope=-0.0037693704987867, short_slope=0.003769359935169, long_minus_short=1.1881241235753586),\n",
       "  Thresholds(model_id='RID0045', long_slope=-0.002931733149661, short_slope=-0.0001396309422072, long_minus_short=0.9091093165093456)],\n",
       " [Thresholds(model_id='RID0029', long_slope=-0.0037693704987867, short_slope=0.003769359935169, long_minus_short=1.1881241235753586),\n",
       "  Thresholds(model_id='RID0045', long_slope=0.0015356651432104, short_slope=-0.0023733137760046, long_minus_short=0.5883965420311895)],\n",
       " [Thresholds(model_id='RID0029', long_slope=-0.0037693704987867, short_slope=0.003769359935169, long_minus_short=1.1881241235753586),\n",
       "  Thresholds(model_id='RID0045', long_slope=-0.002931733149661, short_slope=0.0012564208289161, long_minus_short=0.6800287633106626)],\n",
       " [Thresholds(model_id='RID0029', long_slope=-0.0037693704987867, short_slope=0.003769359935169, long_minus_short=1.1881241235753586),\n",
       "  Thresholds(model_id='RID0045', long_slope=-0.0018148835764432, short_slope=-0.0001396309422072, long_minus_short=0.8174770952298723)],\n",
       " [Thresholds(model_id='RID0029', long_slope=-0.0037693704987867, short_slope=0.003769359935169, long_minus_short=1.1881241235753586),\n",
       "  Thresholds(model_id='RID0045', long_slope=-0.002931733149661, short_slope=0.0006980001204668, long_minus_short=0.954925427149082)],\n",
       " [Thresholds(model_id='RID0029', long_slope=-0.0037693704987867, short_slope=0.003769359935169, long_minus_short=1.1881241235753586),\n",
       "  Thresholds(model_id='RID0045', long_slope=-0.002931733149661, short_slope=0.0012564208289161, long_minus_short=1.1381898697080284)],\n",
       " [Thresholds(model_id='RID0029', long_slope=0.0023732961330376, short_slope=-0.0026525135186184, long_minus_short=0.8282123056465182),\n",
       "  Thresholds(model_id='RID0045', long_slope=-0.0018148835764432, short_slope=0.0001395794120174, long_minus_short=0.8632932058696089)],\n",
       " [Thresholds(model_id='RID0029', long_slope=0.0023732961330376, short_slope=-0.0026525135186184, long_minus_short=0.8282123056465182),\n",
       "  Thresholds(model_id='RID0045', long_slope=-0.002931733149661, short_slope=0.0009772104746914, long_minus_short=0.954925427149082)],\n",
       " [Thresholds(model_id='RID0029', long_slope=0.0023732961330376, short_slope=-0.0026525135186184, long_minus_short=0.8282123056465182),\n",
       "  Thresholds(model_id='RID0045', long_slope=-0.0015356711831387, short_slope=0.0001395794120174, long_minus_short=0.8632932058696089)],\n",
       " [Thresholds(model_id='RID0029', long_slope=0.0023732961330376, short_slope=-0.0026525135186184, long_minus_short=0.8282123056465182),\n",
       "  Thresholds(model_id='RID0045', long_slope=0.0015356651432104, short_slope=-0.0026525241302293, long_minus_short=0.5883965420311895)],\n",
       " [Thresholds(model_id='RID0029', long_slope=0.0023732961330376, short_slope=-0.0026525135186184, long_minus_short=0.8282123056465182),\n",
       "  Thresholds(model_id='RID0045', long_slope=-0.002931733149661, short_slope=-0.0001396309422072, long_minus_short=0.9091093165093456)],\n",
       " [Thresholds(model_id='RID0029', long_slope=0.0023732961330376, short_slope=-0.0026525135186184, long_minus_short=0.8282123056465182),\n",
       "  Thresholds(model_id='RID0045', long_slope=0.0015356651432104, short_slope=-0.0023733137760046, long_minus_short=0.5883965420311895)],\n",
       " [Thresholds(model_id='RID0029', long_slope=0.0023732961330376, short_slope=-0.0026525135186184, long_minus_short=0.8282123056465182),\n",
       "  Thresholds(model_id='RID0045', long_slope=-0.002931733149661, short_slope=0.0012564208289161, long_minus_short=0.6800287633106626)],\n",
       " [Thresholds(model_id='RID0029', long_slope=0.0023732961330376, short_slope=-0.0026525135186184, long_minus_short=0.8282123056465182),\n",
       "  Thresholds(model_id='RID0045', long_slope=-0.0018148835764432, short_slope=-0.0001396309422072, long_minus_short=0.8174770952298723)],\n",
       " [Thresholds(model_id='RID0029', long_slope=0.0023732961330376, short_slope=-0.0026525135186184, long_minus_short=0.8282123056465182),\n",
       "  Thresholds(model_id='RID0045', long_slope=-0.002931733149661, short_slope=0.0006980001204668, long_minus_short=0.954925427149082)],\n",
       " [Thresholds(model_id='RID0029', long_slope=0.0023732961330376, short_slope=-0.0026525135186184, long_minus_short=0.8282123056465182),\n",
       "  Thresholds(model_id='RID0045', long_slope=-0.002931733149661, short_slope=0.0012564208289161, long_minus_short=1.1381898697080284)],\n",
       " [Thresholds(model_id='RID0029', long_slope=-0.0034901583791583, short_slope=0.0032109361565788, long_minus_short=0.7832233284054131),\n",
       "  Thresholds(model_id='RID0045', long_slope=-0.0018148835764432, short_slope=0.0001395794120174, long_minus_short=0.8632932058696089)],\n",
       " [Thresholds(model_id='RID0029', long_slope=-0.0034901583791583, short_slope=0.0032109361565788, long_minus_short=0.7832233284054131),\n",
       "  Thresholds(model_id='RID0045', long_slope=-0.002931733149661, short_slope=0.0009772104746914, long_minus_short=0.954925427149082)],\n",
       " [Thresholds(model_id='RID0029', long_slope=-0.0034901583791583, short_slope=0.0032109361565788, long_minus_short=0.7832233284054131),\n",
       "  Thresholds(model_id='RID0045', long_slope=-0.0015356711831387, short_slope=0.0001395794120174, long_minus_short=0.8632932058696089)],\n",
       " [Thresholds(model_id='RID0029', long_slope=-0.0034901583791583, short_slope=0.0032109361565788, long_minus_short=0.7832233284054131),\n",
       "  Thresholds(model_id='RID0045', long_slope=0.0015356651432104, short_slope=-0.0026525241302293, long_minus_short=0.5883965420311895)],\n",
       " [Thresholds(model_id='RID0029', long_slope=-0.0034901583791583, short_slope=0.0032109361565788, long_minus_short=0.7832233284054131),\n",
       "  Thresholds(model_id='RID0045', long_slope=-0.002931733149661, short_slope=-0.0001396309422072, long_minus_short=0.9091093165093456)],\n",
       " [Thresholds(model_id='RID0029', long_slope=-0.0034901583791583, short_slope=0.0032109361565788, long_minus_short=0.7832233284054131),\n",
       "  Thresholds(model_id='RID0045', long_slope=0.0015356651432104, short_slope=-0.0023733137760046, long_minus_short=0.5883965420311895)],\n",
       " [Thresholds(model_id='RID0029', long_slope=-0.0034901583791583, short_slope=0.0032109361565788, long_minus_short=0.7832233284054131),\n",
       "  Thresholds(model_id='RID0045', long_slope=-0.002931733149661, short_slope=0.0012564208289161, long_minus_short=0.6800287633106626)],\n",
       " [Thresholds(model_id='RID0029', long_slope=-0.0034901583791583, short_slope=0.0032109361565788, long_minus_short=0.7832233284054131),\n",
       "  Thresholds(model_id='RID0045', long_slope=-0.0018148835764432, short_slope=-0.0001396309422072, long_minus_short=0.8174770952298723)],\n",
       " [Thresholds(model_id='RID0029', long_slope=-0.0034901583791583, short_slope=0.0032109361565788, long_minus_short=0.7832233284054131),\n",
       "  Thresholds(model_id='RID0045', long_slope=-0.002931733149661, short_slope=0.0006980001204668, long_minus_short=0.954925427149082)],\n",
       " [Thresholds(model_id='RID0029', long_slope=-0.0034901583791583, short_slope=0.0032109361565788, long_minus_short=0.7832233284054131),\n",
       "  Thresholds(model_id='RID0045', long_slope=-0.002931733149661, short_slope=0.0012564208289161, long_minus_short=1.1381898697080284)],\n",
       " [Thresholds(model_id='RID0029', long_slope=0.002652508252666, short_slope=-0.0026525135186184, long_minus_short=0.8282123056465182),\n",
       "  Thresholds(model_id='RID0045', long_slope=-0.0018148835764432, short_slope=0.0001395794120174, long_minus_short=0.8632932058696089)],\n",
       " [Thresholds(model_id='RID0029', long_slope=0.002652508252666, short_slope=-0.0026525135186184, long_minus_short=0.8282123056465182),\n",
       "  Thresholds(model_id='RID0045', long_slope=-0.002931733149661, short_slope=0.0009772104746914, long_minus_short=0.954925427149082)],\n",
       " [Thresholds(model_id='RID0029', long_slope=0.002652508252666, short_slope=-0.0026525135186184, long_minus_short=0.8282123056465182),\n",
       "  Thresholds(model_id='RID0045', long_slope=-0.0015356711831387, short_slope=0.0001395794120174, long_minus_short=0.8632932058696089)],\n",
       " [Thresholds(model_id='RID0029', long_slope=0.002652508252666, short_slope=-0.0026525135186184, long_minus_short=0.8282123056465182),\n",
       "  Thresholds(model_id='RID0045', long_slope=0.0015356651432104, short_slope=-0.0026525241302293, long_minus_short=0.5883965420311895)],\n",
       " [Thresholds(model_id='RID0029', long_slope=0.002652508252666, short_slope=-0.0026525135186184, long_minus_short=0.8282123056465182),\n",
       "  Thresholds(model_id='RID0045', long_slope=-0.002931733149661, short_slope=-0.0001396309422072, long_minus_short=0.9091093165093456)],\n",
       " [Thresholds(model_id='RID0029', long_slope=0.002652508252666, short_slope=-0.0026525135186184, long_minus_short=0.8282123056465182),\n",
       "  Thresholds(model_id='RID0045', long_slope=0.0015356651432104, short_slope=-0.0023733137760046, long_minus_short=0.5883965420311895)],\n",
       " [Thresholds(model_id='RID0029', long_slope=0.002652508252666, short_slope=-0.0026525135186184, long_minus_short=0.8282123056465182),\n",
       "  Thresholds(model_id='RID0045', long_slope=-0.002931733149661, short_slope=0.0012564208289161, long_minus_short=0.6800287633106626)],\n",
       " [Thresholds(model_id='RID0029', long_slope=0.002652508252666, short_slope=-0.0026525135186184, long_minus_short=0.8282123056465182),\n",
       "  Thresholds(model_id='RID0045', long_slope=-0.0018148835764432, short_slope=-0.0001396309422072, long_minus_short=0.8174770952298723)],\n",
       " [Thresholds(model_id='RID0029', long_slope=0.002652508252666, short_slope=-0.0026525135186184, long_minus_short=0.8282123056465182),\n",
       "  Thresholds(model_id='RID0045', long_slope=-0.002931733149661, short_slope=0.0006980001204668, long_minus_short=0.954925427149082)],\n",
       " [Thresholds(model_id='RID0029', long_slope=0.002652508252666, short_slope=-0.0026525135186184, long_minus_short=0.8282123056465182),\n",
       "  Thresholds(model_id='RID0045', long_slope=-0.002931733149661, short_slope=0.0012564208289161, long_minus_short=1.1381898697080284)],\n",
       " [Thresholds(model_id='RID0029', long_slope=0.0009772355348957, short_slope=-0.0029317254079136, long_minus_short=0.8282123056465182),\n",
       "  Thresholds(model_id='RID0045', long_slope=-0.0018148835764432, short_slope=0.0001395794120174, long_minus_short=0.8632932058696089)],\n",
       " [Thresholds(model_id='RID0029', long_slope=0.0009772355348957, short_slope=-0.0029317254079136, long_minus_short=0.8282123056465182),\n",
       "  Thresholds(model_id='RID0045', long_slope=-0.002931733149661, short_slope=0.0009772104746914, long_minus_short=0.954925427149082)],\n",
       " [Thresholds(model_id='RID0029', long_slope=0.0009772355348957, short_slope=-0.0029317254079136, long_minus_short=0.8282123056465182),\n",
       "  Thresholds(model_id='RID0045', long_slope=-0.0015356711831387, short_slope=0.0001395794120174, long_minus_short=0.8632932058696089)],\n",
       " [Thresholds(model_id='RID0029', long_slope=0.0009772355348957, short_slope=-0.0029317254079136, long_minus_short=0.8282123056465182),\n",
       "  Thresholds(model_id='RID0045', long_slope=0.0015356651432104, short_slope=-0.0026525241302293, long_minus_short=0.5883965420311895)],\n",
       " [Thresholds(model_id='RID0029', long_slope=0.0009772355348957, short_slope=-0.0029317254079136, long_minus_short=0.8282123056465182),\n",
       "  Thresholds(model_id='RID0045', long_slope=-0.002931733149661, short_slope=-0.0001396309422072, long_minus_short=0.9091093165093456)],\n",
       " [Thresholds(model_id='RID0029', long_slope=0.0009772355348957, short_slope=-0.0029317254079136, long_minus_short=0.8282123056465182),\n",
       "  Thresholds(model_id='RID0045', long_slope=0.0015356651432104, short_slope=-0.0023733137760046, long_minus_short=0.5883965420311895)],\n",
       " [Thresholds(model_id='RID0029', long_slope=0.0009772355348957, short_slope=-0.0029317254079136, long_minus_short=0.8282123056465182),\n",
       "  Thresholds(model_id='RID0045', long_slope=-0.002931733149661, short_slope=0.0012564208289161, long_minus_short=0.6800287633106626)],\n",
       " [Thresholds(model_id='RID0029', long_slope=0.0009772355348957, short_slope=-0.0029317254079136, long_minus_short=0.8282123056465182),\n",
       "  Thresholds(model_id='RID0045', long_slope=-0.0018148835764432, short_slope=-0.0001396309422072, long_minus_short=0.8174770952298723)],\n",
       " [Thresholds(model_id='RID0029', long_slope=0.0009772355348957, short_slope=-0.0029317254079136, long_minus_short=0.8282123056465182),\n",
       "  Thresholds(model_id='RID0045', long_slope=-0.002931733149661, short_slope=0.0006980001204668, long_minus_short=0.954925427149082)],\n",
       " [Thresholds(model_id='RID0029', long_slope=0.0009772355348957, short_slope=-0.0029317254079136, long_minus_short=0.8282123056465182),\n",
       "  Thresholds(model_id='RID0045', long_slope=-0.002931733149661, short_slope=0.0012564208289161, long_minus_short=1.1381898697080284)],\n",
       " [Thresholds(model_id='RID0029', long_slope=0.0012564476545241, short_slope=-0.0026525135186184, long_minus_short=0.8282123056465182),\n",
       "  Thresholds(model_id='RID0045', long_slope=-0.0018148835764432, short_slope=0.0001395794120174, long_minus_short=0.8632932058696089)],\n",
       " [Thresholds(model_id='RID0029', long_slope=0.0012564476545241, short_slope=-0.0026525135186184, long_minus_short=0.8282123056465182),\n",
       "  Thresholds(model_id='RID0045', long_slope=-0.002931733149661, short_slope=0.0009772104746914, long_minus_short=0.954925427149082)],\n",
       " [Thresholds(model_id='RID0029', long_slope=0.0012564476545241, short_slope=-0.0026525135186184, long_minus_short=0.8282123056465182),\n",
       "  Thresholds(model_id='RID0045', long_slope=-0.0015356711831387, short_slope=0.0001395794120174, long_minus_short=0.8632932058696089)],\n",
       " [Thresholds(model_id='RID0029', long_slope=0.0012564476545241, short_slope=-0.0026525135186184, long_minus_short=0.8282123056465182),\n",
       "  Thresholds(model_id='RID0045', long_slope=0.0015356651432104, short_slope=-0.0026525241302293, long_minus_short=0.5883965420311895)],\n",
       " [Thresholds(model_id='RID0029', long_slope=0.0012564476545241, short_slope=-0.0026525135186184, long_minus_short=0.8282123056465182),\n",
       "  Thresholds(model_id='RID0045', long_slope=-0.002931733149661, short_slope=-0.0001396309422072, long_minus_short=0.9091093165093456)],\n",
       " [Thresholds(model_id='RID0029', long_slope=0.0012564476545241, short_slope=-0.0026525135186184, long_minus_short=0.8282123056465182),\n",
       "  Thresholds(model_id='RID0045', long_slope=0.0015356651432104, short_slope=-0.0023733137760046, long_minus_short=0.5883965420311895)],\n",
       " [Thresholds(model_id='RID0029', long_slope=0.0012564476545241, short_slope=-0.0026525135186184, long_minus_short=0.8282123056465182),\n",
       "  Thresholds(model_id='RID0045', long_slope=-0.002931733149661, short_slope=0.0012564208289161, long_minus_short=0.6800287633106626)],\n",
       " [Thresholds(model_id='RID0029', long_slope=0.0012564476545241, short_slope=-0.0026525135186184, long_minus_short=0.8282123056465182),\n",
       "  Thresholds(model_id='RID0045', long_slope=-0.0018148835764432, short_slope=-0.0001396309422072, long_minus_short=0.8174770952298723)],\n",
       " [Thresholds(model_id='RID0029', long_slope=0.0012564476545241, short_slope=-0.0026525135186184, long_minus_short=0.8282123056465182),\n",
       "  Thresholds(model_id='RID0045', long_slope=-0.002931733149661, short_slope=0.0006980001204668, long_minus_short=0.954925427149082)],\n",
       " [Thresholds(model_id='RID0029', long_slope=0.0012564476545241, short_slope=-0.0026525135186184, long_minus_short=0.8282123056465182),\n",
       "  Thresholds(model_id='RID0045', long_slope=-0.002931733149661, short_slope=0.0012564208289161, long_minus_short=1.1381898697080284)]]"
      ]
     },
     "execution_count": 15,
     "metadata": {},
     "output_type": "execute_result"
    }
   ],
   "source": [
    "flattened_combinations"
   ]
  },
  {
   "cell_type": "code",
   "execution_count": 25,
   "metadata": {},
   "outputs": [],
   "source": [
    "# This needs to be in a loop\n",
    "entries, short_entries = calculate_entries_using_majority_rule(union_df, flattened_combinations[0])"
   ]
  },
  {
   "cell_type": "code",
   "execution_count": 17,
   "metadata": {},
   "outputs": [
    {
     "data": {
      "text/html": [
       "<div>\n",
       "<style scoped>\n",
       "    .dataframe tbody tr th:only-of-type {\n",
       "        vertical-align: middle;\n",
       "    }\n",
       "\n",
       "    .dataframe tbody tr th {\n",
       "        vertical-align: top;\n",
       "    }\n",
       "\n",
       "    .dataframe thead th {\n",
       "        text-align: right;\n",
       "    }\n",
       "</style>\n",
       "<table border=\"1\" class=\"dataframe\">\n",
       "  <thead>\n",
       "    <tr style=\"text-align: right;\">\n",
       "      <th></th>\n",
       "      <th>open</th>\n",
       "      <th>high</th>\n",
       "      <th>low</th>\n",
       "      <th>close</th>\n",
       "      <th>long_minus_short_RID0029</th>\n",
       "      <th>long_slope_RID0029</th>\n",
       "      <th>short_slope_RID0029</th>\n",
       "      <th>long_minus_short_RID0045</th>\n",
       "      <th>long_slope_RID0045</th>\n",
       "      <th>short_slope_RID0045</th>\n",
       "      <th>long_slope_avg</th>\n",
       "      <th>short_slope_avg</th>\n",
       "      <th>long_minus_short_avg</th>\n",
       "    </tr>\n",
       "    <tr>\n",
       "      <th>close_time</th>\n",
       "      <th></th>\n",
       "      <th></th>\n",
       "      <th></th>\n",
       "      <th></th>\n",
       "      <th></th>\n",
       "      <th></th>\n",
       "      <th></th>\n",
       "      <th></th>\n",
       "      <th></th>\n",
       "      <th></th>\n",
       "      <th></th>\n",
       "      <th></th>\n",
       "      <th></th>\n",
       "    </tr>\n",
       "  </thead>\n",
       "  <tbody>\n",
       "    <tr>\n",
       "      <th>2022-01-09 00:03:00+00:00</th>\n",
       "      <td>41659.21</td>\n",
       "      <td>41670.06</td>\n",
       "      <td>41601.83</td>\n",
       "      <td>41611.49</td>\n",
       "      <td>0.602898</td>\n",
       "      <td>-0.001501</td>\n",
       "      <td>0.002778</td>\n",
       "      <td>NaN</td>\n",
       "      <td>NaN</td>\n",
       "      <td>NaN</td>\n",
       "      <td>-0.001501</td>\n",
       "      <td>0.002778</td>\n",
       "      <td>0.602898</td>\n",
       "    </tr>\n",
       "    <tr>\n",
       "      <th>2022-01-09 00:08:00+00:00</th>\n",
       "      <td>41479.94</td>\n",
       "      <td>41500.76</td>\n",
       "      <td>41419.93</td>\n",
       "      <td>41460.91</td>\n",
       "      <td>0.636460</td>\n",
       "      <td>-0.000976</td>\n",
       "      <td>0.002901</td>\n",
       "      <td>NaN</td>\n",
       "      <td>NaN</td>\n",
       "      <td>NaN</td>\n",
       "      <td>-0.000976</td>\n",
       "      <td>0.002901</td>\n",
       "      <td>0.636460</td>\n",
       "    </tr>\n",
       "  </tbody>\n",
       "</table>\n",
       "</div>"
      ],
      "text/plain": [
       "                               open      high       low     close  \\\n",
       "close_time                                                          \n",
       "2022-01-09 00:03:00+00:00  41659.21  41670.06  41601.83  41611.49   \n",
       "2022-01-09 00:08:00+00:00  41479.94  41500.76  41419.93  41460.91   \n",
       "\n",
       "                           long_minus_short_RID0029  long_slope_RID0029  \\\n",
       "close_time                                                                \n",
       "2022-01-09 00:03:00+00:00                  0.602898           -0.001501   \n",
       "2022-01-09 00:08:00+00:00                  0.636460           -0.000976   \n",
       "\n",
       "                           short_slope_RID0029  long_minus_short_RID0045  \\\n",
       "close_time                                                                 \n",
       "2022-01-09 00:03:00+00:00             0.002778                       NaN   \n",
       "2022-01-09 00:08:00+00:00             0.002901                       NaN   \n",
       "\n",
       "                           long_slope_RID0045  short_slope_RID0045  \\\n",
       "close_time                                                           \n",
       "2022-01-09 00:03:00+00:00                 NaN                  NaN   \n",
       "2022-01-09 00:08:00+00:00                 NaN                  NaN   \n",
       "\n",
       "                           long_slope_avg  short_slope_avg  \\\n",
       "close_time                                                   \n",
       "2022-01-09 00:03:00+00:00       -0.001501         0.002778   \n",
       "2022-01-09 00:08:00+00:00       -0.000976         0.002901   \n",
       "\n",
       "                           long_minus_short_avg  \n",
       "close_time                                       \n",
       "2022-01-09 00:03:00+00:00              0.602898  \n",
       "2022-01-09 00:08:00+00:00              0.636460  "
      ]
     },
     "execution_count": 17,
     "metadata": {},
     "output_type": "execute_result"
    }
   ],
   "source": [
    "union_df.head(2)"
   ]
  },
  {
   "cell_type": "code",
   "execution_count": 18,
   "metadata": {},
   "outputs": [
    {
     "data": {
      "text/html": [
       "<div>\n",
       "<style scoped>\n",
       "    .dataframe tbody tr th:only-of-type {\n",
       "        vertical-align: middle;\n",
       "    }\n",
       "\n",
       "    .dataframe tbody tr th {\n",
       "        vertical-align: top;\n",
       "    }\n",
       "\n",
       "    .dataframe thead th {\n",
       "        text-align: right;\n",
       "    }\n",
       "</style>\n",
       "<table border=\"1\" class=\"dataframe\">\n",
       "  <thead>\n",
       "    <tr style=\"text-align: right;\">\n",
       "      <th></th>\n",
       "      <th>open</th>\n",
       "      <th>high</th>\n",
       "      <th>low</th>\n",
       "      <th>close</th>\n",
       "      <th>long_minus_short_RID0029</th>\n",
       "      <th>long_slope_RID0029</th>\n",
       "      <th>short_slope_RID0029</th>\n",
       "      <th>long_minus_short_RID0045</th>\n",
       "      <th>long_slope_RID0045</th>\n",
       "      <th>short_slope_RID0045</th>\n",
       "      <th>long_slope_avg</th>\n",
       "      <th>short_slope_avg</th>\n",
       "      <th>long_minus_short_avg</th>\n",
       "    </tr>\n",
       "    <tr>\n",
       "      <th>close_time</th>\n",
       "      <th></th>\n",
       "      <th></th>\n",
       "      <th></th>\n",
       "      <th></th>\n",
       "      <th></th>\n",
       "      <th></th>\n",
       "      <th></th>\n",
       "      <th></th>\n",
       "      <th></th>\n",
       "      <th></th>\n",
       "      <th></th>\n",
       "      <th></th>\n",
       "      <th></th>\n",
       "    </tr>\n",
       "  </thead>\n",
       "  <tbody>\n",
       "    <tr>\n",
       "      <th>2023-07-30 09:44:00+00:00</th>\n",
       "      <td>29264.4</td>\n",
       "      <td>29264.5</td>\n",
       "      <td>29261.2</td>\n",
       "      <td>29264.5</td>\n",
       "      <td>0.913718</td>\n",
       "      <td>0.001026</td>\n",
       "      <td>0.001053</td>\n",
       "      <td>1.101525</td>\n",
       "      <td>0.003711</td>\n",
       "      <td>-0.001327</td>\n",
       "      <td>0.002369</td>\n",
       "      <td>-0.000137</td>\n",
       "      <td>1.007621</td>\n",
       "    </tr>\n",
       "    <tr>\n",
       "      <th>2023-07-30 10:53:00+00:00</th>\n",
       "      <td>29254.0</td>\n",
       "      <td>29254.0</td>\n",
       "      <td>29250.1</td>\n",
       "      <td>29250.1</td>\n",
       "      <td>1.291210</td>\n",
       "      <td>-0.003611</td>\n",
       "      <td>0.000432</td>\n",
       "      <td>1.233473</td>\n",
       "      <td>0.003828</td>\n",
       "      <td>-0.002470</td>\n",
       "      <td>0.000108</td>\n",
       "      <td>-0.001019</td>\n",
       "      <td>1.262342</td>\n",
       "    </tr>\n",
       "  </tbody>\n",
       "</table>\n",
       "</div>"
      ],
      "text/plain": [
       "                              open     high      low    close  \\\n",
       "close_time                                                      \n",
       "2023-07-30 09:44:00+00:00  29264.4  29264.5  29261.2  29264.5   \n",
       "2023-07-30 10:53:00+00:00  29254.0  29254.0  29250.1  29250.1   \n",
       "\n",
       "                           long_minus_short_RID0029  long_slope_RID0029  \\\n",
       "close_time                                                                \n",
       "2023-07-30 09:44:00+00:00                  0.913718            0.001026   \n",
       "2023-07-30 10:53:00+00:00                  1.291210           -0.003611   \n",
       "\n",
       "                           short_slope_RID0029  long_minus_short_RID0045  \\\n",
       "close_time                                                                 \n",
       "2023-07-30 09:44:00+00:00             0.001053                  1.101525   \n",
       "2023-07-30 10:53:00+00:00             0.000432                  1.233473   \n",
       "\n",
       "                           long_slope_RID0045  short_slope_RID0045  \\\n",
       "close_time                                                           \n",
       "2023-07-30 09:44:00+00:00            0.003711            -0.001327   \n",
       "2023-07-30 10:53:00+00:00            0.003828            -0.002470   \n",
       "\n",
       "                           long_slope_avg  short_slope_avg  \\\n",
       "close_time                                                   \n",
       "2023-07-30 09:44:00+00:00        0.002369        -0.000137   \n",
       "2023-07-30 10:53:00+00:00        0.000108        -0.001019   \n",
       "\n",
       "                           long_minus_short_avg  \n",
       "close_time                                       \n",
       "2023-07-30 09:44:00+00:00              1.007621  \n",
       "2023-07-30 10:53:00+00:00              1.262342  "
      ]
     },
     "execution_count": 18,
     "metadata": {},
     "output_type": "execute_result"
    }
   ],
   "source": [
    "union_df.tail(2)"
   ]
  }
 ],
 "metadata": {
  "kernelspec": {
   "display_name": ".venv",
   "language": "python",
   "name": "python3"
  },
  "language_info": {
   "codemirror_mode": {
    "name": "ipython",
    "version": 3
   },
   "file_extension": ".py",
   "mimetype": "text/x-python",
   "name": "python",
   "nbconvert_exporter": "python",
   "pygments_lexer": "ipython3",
   "version": "3.10.12"
  },
  "orig_nbformat": 4
 },
 "nbformat": 4,
 "nbformat_minor": 2
}
