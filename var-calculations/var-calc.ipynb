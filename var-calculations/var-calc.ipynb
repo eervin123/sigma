{
 "cells": [
  {
   "attachments": {},
   "cell_type": "markdown",
   "metadata": {},
   "source": [
    "# PyQuant News letter on VAR\n",
    "VaR is one way professional traders manage risk.\n",
    "\n",
    "It estimates how much your portfolio might lose over a set time period. Using VaR is a good way to avoid losing all your money if the market moves against you.\n",
    "\n",
    "VaR let’s you say something like this:\n",
    "\n",
    "\"With 95% confidence, my portfolio’s loss will not exceed $750 in one day.\n",
    "\n",
    "Unfortunately, most non-professional traders don’t use VaR.\n",
    "\n",
    "They either don’t know it exists or think it’s too complicated to use"
   ]
  },
  {
   "cell_type": "code",
   "execution_count": 2,
   "metadata": {},
   "outputs": [],
   "source": [
    "%matplotlib inline\n",
    "\n",
    "import pandas as pd\n",
    "import numpy as np\n",
    "from scipy.stats import norm\n",
    "import matplotlib.pyplot as plt\n",
    "\n",
    "import yfinance as yf"
   ]
  },
  {
   "cell_type": "code",
   "execution_count": 5,
   "metadata": {},
   "outputs": [],
   "source": [
    "# create your portfolio of stocks\n",
    "tickers = [\"AAPL\", \"MSFT\", \"C\", \"DIS\"]\n",
    "\n",
    "# pick the weights of each stock (must add to 1)\n",
    "weights = np.array([0.25, 0.3, 0.15, 0.3])\n",
    "\n",
    "# the size of the portfolio\n",
    "portfolio_value = 1_000\n",
    "\n",
    "# the confidence interval (95%)\n",
    "confidence = 0.05"
   ]
  },
  {
   "cell_type": "code",
   "execution_count": 6,
   "metadata": {},
   "outputs": [
    {
     "name": "stdout",
     "output_type": "stream",
     "text": [
      "[*********************100%***********************]  4 of 4 completed\n"
     ]
    }
   ],
   "source": [
    "data = yf.download(tickers, start=\"2018-01-01\", end=\"2021-12-31\")[\"Close\"]"
   ]
  },
  {
   "cell_type": "code",
   "execution_count": 7,
   "metadata": {},
   "outputs": [],
   "source": [
    "# compute daily returns of each stock\n",
    "returns = data.pct_change()\n",
    "\n",
    "# compute the daily mean returns of each stock\n",
    "mean_returns = returns.mean()\n",
    "\n",
    "# compute portfolio mean return\n",
    "port_mean = mean_returns.dot(weights)\n",
    "\n",
    "# mean of investment returns\n",
    "investment_mean = (1 + port_mean) * portfolio_value\n",
    "\n",
    "# compute the portfolio covariance matrix\n",
    "cov_matrix = returns.cov()\n",
    "\n",
    "# compute portfolio standard deviation\n",
    "port_stdev = np.sqrt(weights.T.dot(cov_matrix).dot(weights))\n",
    "\n",
    "# standard deviation of investment returns\n",
    "investment_stdev = portfolio_value * port_stdev"
   ]
  },
  {
   "cell_type": "code",
   "execution_count": 8,
   "metadata": {},
   "outputs": [],
   "source": [
    "# ppf takes a percentage and returns a standard deviation \n",
    "# multiplier for what value that percentage occurs at.\n",
    "# It is equivalent to a one-tail test on the density plot.\n",
    "percent_point = norm.ppf(confidence, investment_mean, investment_stdev)"
   ]
  },
  {
   "cell_type": "code",
   "execution_count": 9,
   "metadata": {},
   "outputs": [
    {
     "data": {
      "text/plain": [
       "'Portfolio VaR: 27.75487870066513'"
      ]
     },
     "execution_count": 9,
     "metadata": {},
     "output_type": "execute_result"
    }
   ],
   "source": [
    "# calculate the VaR at the confidence interval\n",
    "value_at_risk = portfolio_value - percent_point\n",
    "\n",
    "# print it out\n",
    "f\"Portfolio VaR: {value_at_risk}\""
   ]
  },
  {
   "attachments": {},
   "cell_type": "markdown",
   "metadata": {},
   "source": [
    "### Bonus: Scaling VaR to different time frames\n",
    "What about over one week? Or one month?\n",
    "\n",
    "Stock returns increase with the square root of time.\n",
    "\n",
    "Therefore to scale the value at risk, we multiply it by the square root of time.\n",
    "\n",
    "This sounds scary but it’s simple in Python.\n",
    "\n",
    "Multiply the one-day VaR by the square root of one (day) through the square root of 30 (days)."
   ]
  },
  {
   "cell_type": "code",
   "execution_count": 10,
   "metadata": {},
   "outputs": [],
   "source": [
    "value_at_risks = value_at_risk * np.sqrt(range(1, 31))"
   ]
  },
  {
   "cell_type": "code",
   "execution_count": 12,
   "metadata": {},
   "outputs": [
    {
     "data": {
      "text/plain": [
       "[<matplotlib.lines.Line2D at 0x14c187040>]"
      ]
     },
     "execution_count": 12,
     "metadata": {},
     "output_type": "execute_result"
    },
    {
     "data": {
      "image/png": "[encoded data removed]",
      "text/plain": [
       "<Figure size 640x480 with 1 Axes>"
      ]
     },
     "metadata": {},
     "output_type": "display_data"
    }
   ],
   "source": [
    "# build plot of VaR over time\n",
    "plt.xlabel(\"Day\")\n",
    "plt.ylabel(\"Max loss\")\n",
    "plt.title(\"Portfolio VaR\")\n",
    "plt.plot(value_at_risks, \"r\")"
   ]
  },
  {
   "cell_type": "code",
   "execution_count": null,
   "metadata": {},
   "outputs": [],
   "source": []
  },
  {
   "cell_type": "code",
   "execution_count": null,
   "metadata": {},
   "outputs": [],
   "source": []
  }
 ],
 "metadata": {
  "kernelspec": {
   "display_name": "datascience",
   "language": "python",
   "name": "python3"
  },
  "language_info": {
   "codemirror_mode": {
    "name": "ipython",
    "version": 3
   },
   "file_extension": ".py",
   "mimetype": "text/x-python",
   "name": "python",
   "nbconvert_exporter": "python",
   "pygments_lexer": "ipython3",
   "version": "3.10.10"
  },
  "orig_nbformat": 4
 },
 "nbformat": 4,
 "nbformat_minor": 2
}
